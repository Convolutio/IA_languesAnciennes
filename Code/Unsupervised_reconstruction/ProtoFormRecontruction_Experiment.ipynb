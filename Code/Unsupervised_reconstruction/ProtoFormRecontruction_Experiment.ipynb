{
  "cells": [
    {
      "cell_type": "markdown",
      "metadata": {
        "colab_type": "text",
        "id": "view-in-github"
      },
      "source": [
        "<a href=\"https://colab.research.google.com/github/PilorumNatum/IA_languesAnciennes/blob/code/Code/Unsupervised_reconstruction/ProtoFormRecontruction_Experiment.ipynb\" target=\"_parent\"><img src=\"https://colab.research.google.com/assets/colab-badge.svg\" alt=\"Open In Colab\"/></a>"
      ]
    },
    {
      "cell_type": "markdown",
      "metadata": {
        "id": "9N66w8WAeYxN"
      },
      "source": [
        "# Approche neuronale non supervisée pour la reconstruction de proto-formes.\n",
        "\n",
        "Auteurs : Benjamin BADOUAILLE, Eliott CAMOU, Thomas HORRUT\n",
        "\n",
        "\n",
        "---\n",
        "\n",
        "\n",
        "*Ce notebook contient une tentative d'implémentation de l'intelligence artificielle décrite par un article de [Andre He et al.](https://arxiv.org/abs/2211.08684) pour prédire l'état phonétique de proto-forms associés à un ensemble de cognats. L'expérience est ici menée dans le cadre d'un projet de recherche scientifique de fin de cycle préparatoire, dont l'analyse des démarches employées et des résultats nourrira une réflexion plus globale sur le potentiel de l'IA pour résoudre des problèmes de Linguistique Historique.*"
      ]
    },
    {
      "cell_type": "markdown",
      "metadata": {
        "id": "L-jEdfIuJLps"
      },
      "source": [
        "### Installation des dépendances."
      ]
    },
    {
      "cell_type": "code",
      "execution_count": null,
      "metadata": {
        "colab": {
          "base_uri": "https://localhost:8080/"
        },
        "id": "WPy8SaWAeKqE",
        "outputId": "79aa557b-86bd-454e-d014-f1736bf608fe"
      },
      "outputs": [
        {
          "name": "stdout",
          "output_type": "stream",
          "text": [
            "Looking in indexes: https://pypi.org/simple, https://us-python.pkg.dev/colab-wheels/public/simple/\n",
            "Requirement already satisfied: torch in /usr/local/lib/python3.9/dist-packages (1.13.1+cu116)\n",
            "Requirement already satisfied: typing-extensions in /usr/local/lib/python3.9/dist-packages (from torch) (4.5.0)\n"
          ]
        }
      ],
      "source": [
        "!pip3 install torch"
      ]
    },
    {
      "cell_type": "code",
      "execution_count": null,
      "metadata": {
        "colab": {
          "base_uri": "https://localhost:8080/"
        },
        "id": "zduG9Ug6N4LG",
        "outputId": "34e4b7e7-ce0a-40ec-9a5e-8f5b6fcbe082"
      },
      "outputs": [
        {
          "data": {
            "text/plain": [
              "tensor([[0.5993, 0.5377, 0.2959],\n",
              "        [0.8726, 0.2115, 0.4264]])"
            ]
          },
          "execution_count": 4,
          "metadata": {},
          "output_type": "execute_result"
        }
      ],
      "source": [
        "import torch\n",
        "\n",
        "torch.rand(2,3)"
      ]
    },
    {
      "cell_type": "markdown",
      "metadata": {
        "id": "-MvHc45wJY77"
      },
      "source": [
        "# Définition des données associées au cadre de travail"
      ]
    },
    {
      "cell_type": "markdown",
      "metadata": {
        "id": "XeoAJmIFJk8k"
      },
      "source": [
        "\n",
        "\n",
        "*   $L$ est l'ensemble des langues romanes avec lesquelles nous travaillons.\n",
        "*   $\\Sigma$ est l'ensemble des caractères IPA composant les proto-mots et les cognats. La liste a été générée à partir du [site de l'IPA](https://www.internationalphoneticalphabet.org/ipa-charts/ipa-symbols-with-unicode-decimal-and-hex-codes/).\n",
        "*   La liste $C$ des ensembles de cognats. \n",
        "\n"
      ]
    },
    {
      "cell_type": "markdown",
      "metadata": {
        "id": "QUHWq-jup4Fr"
      },
      "source": [
        "## Initialisation de $L$"
      ]
    },
    {
      "cell_type": "code",
      "execution_count": null,
      "metadata": {
        "id": "Ino7GcLlqFb5"
      },
      "outputs": [],
      "source": [
        "L = {\"French\", \"Italian\", \"Spanish\", \"Portuguese\"}"
      ]
    },
    {
      "cell_type": "markdown",
      "metadata": {
        "id": "ww6npXCfqHoZ"
      },
      "source": [
        "## Initialisation de $Σ$"
      ]
    },
    {
      "cell_type": "markdown",
      "metadata": {
        "id": "CODXVmjNsO_R"
      },
      "source": [
        "À chaque réinstanciation de l'environnement d'exécution Google Colab, importer le fichier `IPA_characters.csv` situé sur le repo Github (dans le dossier `./Code/`; pour l'instant il n'est que dans la branche `code` du repo)."
      ]
    },
    {
      "cell_type": "code",
      "execution_count": 64,
      "metadata": {
        "colab": {
          "base_uri": "https://localhost:8080/"
        },
        "id": "Sd5Bt-NOhBY7",
        "outputId": "037d6172-74cc-4474-9dc9-f4d001049347"
      },
      "outputs": [
        {
          "name": "stdout",
          "output_type": "stream",
          "text": [
            "Liste des caractères IPA importée :\n",
            "'ɑ' 'ɐ' 'ɒ' 'æ' 'ɓ' 'ʙ' 'β' 'ɔ' 'ɕ' 'ç' 'ɗ' 'ɖ' 'ð' 'ʤ' 'ə' 'ɘ' 'ɚ' 'ɛ' 'ɜ' 'ɝ' 'ɞ'\n",
            "'ɟ' 'ʄ' 'ɡ' 'ɠ' 'ɢ' 'ʛ' 'ɦ' 'ɧ' 'ħ' 'ɥ' 'ʜ' 'ɨ' 'ɪ' 'ʝ' 'ɭ' 'ɬ' 'ɫ' 'ɮ' 'ʟ' 'ɱ' 'ɯ'\n",
            "'ɰ' 'ŋ' 'ɳ' 'ɲ' 'ɴ' 'ø' 'ɵ' 'ɸ' 'θ' 'œ' 'ɶ' 'ʘ' 'ɹ' 'ɺ' 'ɾ' 'ɻ' 'ʀ' 'ʁ' 'ɽ' 'ʂ' 'ʃ'\n",
            "'ʈ' 'ʧ' 'ʉ' 'ʊ' 'ʋ' 'ⱱ' 'ʌ' 'ɣ' 'ɤ' 'ʍ' 'χ' 'ʎ' 'ʏ' 'ʑ' 'ʐ' 'ʒ' 'ʔ' 'ʡ' 'ʕ' 'ʢ' 'ǀ'\n",
            "'ǁ' 'ǂ' 'ǃ' 'ˈ' 'ˌ' 'ː' 'ˑ' 'ʼ' 'ʴ' 'ʰ' 'ʱ' 'ʲ' 'ʷ' 'ˠ' 'ˤ' '˞' 'n̥ d̥' 'ŋ̊' 'b̤ a̤' 't̪ d̪' 's̬ t̬'\n",
            "'b̰ a̰' 't̺ d̺' 't̼ d̼' 't̻ d̻' 't̚' 'ɔ̹' 'ẽ' 'ɔ̜' 'u̟' 'e̠' 'ë' 'l̴ n̴' 'ɫ' 'e̽' 'e̝ ɹ̝' 'm̩ n̩ l' 'e̞ β̞' 'e̯' 'e̘' 'e̙' 'ĕ'\n",
            "'e̋' 'é' 'ē' 'è' 'ȅ' 'x͜' 'x͡' '↓' '↑' '→' '' '' \n"
          ]
        }
      ],
      "source": [
        "from google.colab import files\n",
        "import csv\n",
        "\n",
        "EXPECTED_FILENAME = \"IPA_characters.csv\"\n",
        "EXPECTED_FIELD_NAMES = {\"symbol\", \"decimal\", \"hex\", \"value\", \"type\"}\n",
        "EXPECTED_IPA_CHARACTERS_NUMBER = 138\n",
        "\n",
        "\n",
        "#Check if the file has already been uploaded\n",
        "content = !ls /content\n",
        "file_already_exist = EXPECTED_FILENAME in content[0].split(' ')\n",
        "if not file_already_exist:\n",
        "  #If it has not, then an upload is requested\n",
        "  print(\"Veuillez déposer le fichier 'IPA_characters.csv':\")\n",
        "  uploaded = files.upload()\n",
        "  if \"IPA_characters.csv\" in uploaded:\n",
        "   raise Exception(\"Le fichier importé ne correspond au fichier attendu\")\n",
        "\n",
        "IPA_CHARACTERS:list[str] = []\n",
        "with open(EXPECTED_FILENAME, 'r', encoding='UTF32') as f:\n",
        "  reader = csv.DictReader(f)\n",
        "  if EXPECTED_FIELD_NAMES != set(reader.fieldnames):\n",
        "    raise Exception(\"Les entrées du fichier csv sont mal définies.\")\n",
        "  i = 0\n",
        "  for row in reader:\n",
        "    IPA_CHARACTERS.append(row['symbol'])\n",
        "    i+=1\n",
        "  if i!=EXPECTED_IPA_CHARACTERS_NUMBER:\n",
        "    raise Exception(\n",
        "        \"Le nombre de caractères IPA dans ce fichier est incorrect\")\n",
        "\n",
        "print('Liste des caractères IPA importée :')\n",
        "for i in range(len(IPA_CHARACTERS)):\n",
        "  print(f\"'{IPA_CHARACTERS[i]}'\", end=(' ', '\\n')[i%21==20])\n",
        "print()"
      ]
    }
  ],
  "metadata": {
    "colab": {
      "provenance": []
    },
    "kernelspec": {
      "display_name": "Python 3",
      "name": "python3"
    },
    "language_info": {
      "name": "python"
    }
  },
  "nbformat": 4,
  "nbformat_minor": 0
}
