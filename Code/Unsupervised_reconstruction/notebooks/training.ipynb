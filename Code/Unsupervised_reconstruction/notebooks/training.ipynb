{
 "cells": [
  {
   "attachments": {},
   "cell_type": "markdown",
   "metadata": {},
   "source": [
    "# Maximisation-expectation"
   ]
  },
  {
   "attachments": {},
   "cell_type": "markdown",
   "metadata": {},
   "source": [
    "Notebook configuration"
   ]
  },
  {
   "cell_type": "code",
   "execution_count": 1,
   "metadata": {},
   "outputs": [],
   "source": [
    "from os import getcwd, chdir\n",
    "\n",
    "# set the current working directory to the repository's root, if required\n",
    "if getcwd().endswith('notebooks'):\n",
    "    chdir('./../')"
   ]
  },
  {
   "cell_type": "code",
   "execution_count": 2,
   "metadata": {},
   "outputs": [
    {
     "name": "stdout",
     "output_type": "stream",
     "text": [
      "Requirement already satisfied: tabulate in c:\\users\\thomas\\.pyenv\\pyenv-win\\versions\\3.9.10\\lib\\site-packages (0.9.0)\n"
     ]
    }
   ],
   "source": [
    "!python -m pip install tabulate\n",
    "from IPython.display import display\n",
    "import pandas as pd\n",
    "pd.set_option('display.float_format', lambda x: f'{x:.4f}')\n",
    "\n",
    "def display_horizontaly_two_tables(df:pd.DataFrame,df2:pd.DataFrame, title1:str, title2:str):\n",
    "    df_md = df.to_markdown().split('\\n')\n",
    "    df2_md = df2.to_markdown().split('\\n')\n",
    "    title_line = title1 + \" \" * (len(df_md[0])-len(title1)) + \"\\t\" + title2\n",
    "    two_tabs = \"\\n\".join([title_line] + [df_md[i] + '\\t' + df2_md[i] for i in range(len(df_md))])\n",
    "    print(two_tabs)"
   ]
  },
  {
   "attachments": {},
   "cell_type": "markdown",
   "metadata": {},
   "source": [
    "## Initial Dataset"
   ]
  },
  {
   "cell_type": "code",
   "execution_count": 3,
   "metadata": {},
   "outputs": [
    {
     "name": "stdout",
     "output_type": "stream",
     "text": [
      "|y| max = 18\n",
      "|x| max = 16\n"
     ]
    }
   ],
   "source": [
    "from data.getDataset import getCognatesSet, getIteration\n",
    "from data.vocab import computeInferenceData, V_SIZE\n",
    "from torch.nn.utils.rnn import pad_sequence\n",
    "from Types.articleModels import ModernLanguages\n",
    "from Types.models import InferenceData\n",
    "from Source.reconstructionModel import ReconstructionModel\n",
    "\n",
    "cognates:dict[ModernLanguages, InferenceData] = {lang:computeInferenceData(pad_sequence(cogSet, batch_first=True)) for (lang, cogSet) in getCognatesSet().items()}\n",
    "currentReconstructions = computeInferenceData(pad_sequence(getIteration(1), batch_first=True))\n",
    "\n",
    "voc_size = V_SIZE\n",
    "LSTM_INPUT_DIM = 50\n",
    "LSTM_HIDDEN_DIM = 50\n",
    "\n",
    "randomEditModel = ReconstructionModel(cognates, voc_size, LSTM_INPUT_DIM, LSTM_HIDDEN_DIM)\n",
    "\n",
    "TEST_LANGUAGE:ModernLanguages = \"french\"\n",
    "x_maxLength = currentReconstructions[0].size()[0] - 2\n",
    "y_maxLength = cognates[TEST_LANGUAGE][0].size()[0] - 2\n",
    "print('|y| max =', y_maxLength)\n",
    "print('|x| max =', x_maxLength)"
   ]
  },
  {
   "attachments": {},
   "cell_type": "markdown",
   "metadata": {},
   "source": [
    "## Backward dynamic Program"
   ]
  },
  {
   "attachments": {},
   "cell_type": "markdown",
   "metadata": {},
   "source": [
    "Inference in edit model"
   ]
  },
  {
   "cell_type": "code",
   "execution_count": 4,
   "metadata": {},
   "outputs": [],
   "source": [
    "randomEditModel.update_modernForm_context()"
   ]
  },
  {
   "attachments": {},
   "cell_type": "markdown",
   "metadata": {},
   "source": [
    "Backward dynamic Program"
   ]
  },
  {
   "cell_type": "code",
   "execution_count": 5,
   "metadata": {},
   "outputs": [],
   "source": [
    "targets_prob = randomEditModel.bacward_dynProg(currentReconstructions)"
   ]
  },
  {
   "attachments": {},
   "cell_type": "markdown",
   "metadata": {},
   "source": [
    "### Analysis"
   ]
  },
  {
   "attachments": {},
   "cell_type": "markdown",
   "metadata": {},
   "source": [
    "Test on $x :=$`\"absyrdʊ\"` and $y :=$`\"absˈyʁd\"` ($|x|=7$ and $|y|=7$)"
   ]
  },
  {
   "cell_type": "code",
   "execution_count": 6,
   "metadata": {},
   "outputs": [],
   "source": [
    "IDX = 20 # the index in the batch of the sample to be studied\n",
    "x_length, y_length = 7, 7\n",
    "\n",
    "backward_prob_dlt = targets_prob[TEST_LANGUAGE].dlt[:,:,IDX]\n",
    "backward_prob_end = targets_prob[TEST_LANGUAGE].end[:,:,IDX]\n",
    "backward_prob_sub = targets_prob[TEST_LANGUAGE].sub[:,:,IDX]\n",
    "backward_prob_ins = targets_prob[TEST_LANGUAGE].ins[:,:,IDX]"
   ]
  },
  {
   "attachments": {},
   "cell_type": "markdown",
   "metadata": {},
   "source": [
    "#### Display of cached probabilities for the substitution and the deletion operations\n",
    "\n",
    "Notice that the logarithmic probabilities that have not to be defined for these operations are automatically set to $-\\infty{}$ thanks to the recurrence mathematical relations of the backward dynamic program. So do the undefined probabilities in padding positions, thanks to the neutrality of edit model's cached inference probabilities (which equal $0$ in the log space)."
   ]
  },
  {
   "cell_type": "code",
   "execution_count": 7,
   "metadata": {},
   "outputs": [
    {
     "name": "stdout",
     "output_type": "stream",
     "text": [
      "Subsitution Operation                                                                                      \tDeletion Operation\n",
      "|    |         0 |         1 |         2 |         3 |         4 |         5 |        6 |      7 |      8 |\t|    |         0 |         1 |         2 |         3 |         4 |         5 |         6 |         7 |      8 |\n",
      "|---:|----------:|----------:|----------:|----------:|----------:|----------:|---------:|-------:|-------:|\t|---:|----------:|----------:|----------:|----------:|----------:|----------:|----------:|----------:|-------:|\n",
      "|  0 |  -1e+09   |  -1e+09   |  -1e+09   |  -1e+09   |  -1e+09   |  -1e+09   | -1e+09   | -2e+09 | -2e+09 |\t|  0 |  -1e+09   |  -1e+09   |  -1e+09   |  -1e+09   |  -1e+09   |  -1e+09   | -1e+09    | -1e+09    | -2e+09 |\n",
      "|  1 |  -4.29643 |  -4.05295 |  -4.13225 |  -4.13604 |  -4.10571 |  -4.15992 | -2.1809  | -1e+09 | -1e+09 |\t|  1 |  -8.51094 |  -8.32184 |  -8.49406 |  -8.39529 |  -8.29775 |  -8.30436 | -0.389138 | -2.1809   | -1e+09 |\n",
      "|  2 |  -8.52801 |  -7.652   |  -7.25773 |  -6.91709 |  -6.62905 |  -6.47176 | -2.07177 | -1e+09 | -1e+09 |\t|  2 | -12.59    | -11.7693  | -11.4697  | -11.0288  | -10.6741  | -10.4736  | -0.462337 | -1.4317   | -1e+09 |\n",
      "|  3 | -12.6075  | -11.473   | -10.8604  | -10.2773  |  -9.79035 |  -9.46606 | -2.06502 | -1e+09 | -1e+09 |\t|  3 | -16.6461  | -15.5662  | -15.0485  | -14.3678  | -13.8153  | -13.4504  | -0.678727 | -1.00589  | -1e+09 |\n",
      "|  4 | -16.6607  | -15.3475  | -14.5912  | -13.8309  | -13.1844  | -12.7201  | -2.06471 | -1e+09 | -1e+09 |\t|  4 | -20.8824  | -19.6214  | -18.9594  | -18.1007  | -17.3879  | -16.8809  | -0.966097 | -0.708113 | -1e+09 |\n",
      "|  5 | -20.8956  | -19.3994  | -18.4986  | -17.5871  | -16.7939  | -16.1944  | -2.0647  | -1e+09 | -1e+09 |\t|  5 | -25.2194  | -23.7747  | -22.9639  | -21.9517  | -21.0883  | -20.4425  | -1.37155  | -0.478956 | -1e+09 |\n",
      "|  6 | -25.2278  | -23.5885  | -22.5718  | -21.5257  | -20.5998  | -19.8771  | -2.0647  | -1e+09 | -1e+09 |\t|  6 | -29.9924  | -28.4013  | -27.4699  | -26.3184  | -25.3181  | -24.5443  | -2.0647   | -0.292646 | -1e+09 |\n",
      "|  7 | -29.9924  | -28.2231  | -27.1006  | -25.9284  | -24.8769  | -24.0331  | -2.0647  | -1e+09 | -1e+09 |\t|  7 |  -1e+09   |  -1e+09   |  -1e+09   |  -1e+09   |  -1e+09   |  -1e+09   | -1e+09    | -0.135656 | -1e+09 |\n",
      "|  8 |  -1e+09   |  -1e+09   |  -1e+09   |  -1e+09   |  -1e+09   |  -1e+09   | -1e+09   | -1e+09 | -1e+09 |\t|  8 |  -1e+09   |  -1e+09   |  -1e+09   |  -1e+09   |  -1e+09   |  -1e+09   | -1e+09    | -1e+09    | -1e+09 |\n"
     ]
    }
   ],
   "source": [
    "df = pd.DataFrame(backward_prob_sub[:x_length+2, :y_length+2])\n",
    "df2 = pd.DataFrame(backward_prob_dlt[:x_length+2, :y_length+2])\n",
    "\n",
    "display_horizontaly_two_tables(df, df2, \"Subsitution Operation\", \"Deletion Operation\")"
   ]
  },
  {
   "attachments": {},
   "cell_type": "markdown",
   "metadata": {},
   "source": [
    "## Rendering of the target and the logits before the loss computation"
   ]
  },
  {
   "cell_type": "code",
   "execution_count": 8,
   "metadata": {},
   "outputs": [
    {
     "name": "stdout",
     "output_type": "stream",
     "text": [
      "Targets load shape: torch.Size([858, 118])\n",
      "Logits load shape: torch.Size([858, 118])\n"
     ]
    }
   ],
   "source": [
    "MINI_BATCH_SIZE = 30\n",
    "\n",
    "miniBatchDataForLogitsComputation, miniBatchTargetsLoad = list(zip(*randomEditModel.renderMiniBatchData(currentReconstructions, targets_prob, MINI_BATCH_SIZE)))[0]\n",
    "renderedTargets = miniBatchTargetsLoad[:,IDX,:]\n",
    "renderedLogits = randomEditModel.renderLogitsForMiniBatch(*miniBatchDataForLogitsComputation)[:,IDX,:].detach()\n",
    "print(\"Targets load shape:\", renderedTargets.size())\n",
    "print(\"Logits load shape:\", renderedLogits.size())"
   ]
  },
  {
   "cell_type": "code",
   "execution_count": 9,
   "metadata": {},
   "outputs": [
    {
     "name": "stdout",
     "output_type": "stream",
     "text": [
      "torch.Size([11, 14, 118])\n",
      "torch.Size([11, 14, 118])\n"
     ]
    }
   ],
   "source": [
    "maxModernSequenceLength_inMiniBatch: dict[ModernLanguages, int] = {lang:data[2] for (lang, data) in miniBatchDataForLogitsComputation[1].items()} #type:ignore\n",
    "maxSampleSequenceLength_inMiniBatch: int = miniBatchDataForLogitsComputation[0][2]+1\n",
    "renderedTargets = renderedTargets.split([maxModernSequenceLength_inMiniBatch[lang]*maxSampleSequenceLength_inMiniBatch for lang in randomEditModel.languages])[randomEditModel.languages.index(TEST_LANGUAGE)].view(maxSampleSequenceLength_inMiniBatch, maxModernSequenceLength_inMiniBatch[TEST_LANGUAGE], voc_size*2+2)\n",
    "renderedLogits = renderedLogits.split([maxModernSequenceLength_inMiniBatch[lang]*maxSampleSequenceLength_inMiniBatch for lang in randomEditModel.languages])[randomEditModel.languages.index(TEST_LANGUAGE)].view(maxSampleSequenceLength_inMiniBatch, maxModernSequenceLength_inMiniBatch[TEST_LANGUAGE], voc_size*2+2)\n",
    "\n",
    "print(renderedTargets.size())\n",
    "print(renderedLogits.size())"
   ]
  },
  {
   "attachments": {},
   "cell_type": "markdown",
   "metadata": {},
   "source": [
    "#### Comparison of the rendered target probs format and the cached probs format\n",
    "\n",
    "A reduction of the renderedTargets has been done for the displaying. The comparison is done for the insertion and the ending operations."
   ]
  },
  {
   "cell_type": "code",
   "execution_count": 10,
   "metadata": {},
   "outputs": [
    {
     "name": "stdout",
     "output_type": "stream",
     "text": [
      "Insertion operation - cached posterior probs                                                                         \tEnding operation - cached posterior probs\n",
      "|    |          0 |          1 |           2 |           3 |           4 |          5 |         6 |      7 |      8 |\t|    |        0 |         1 |         2 |         3 |         4 |         5 |          6 |        7 |      8 |\n",
      "|---:|-----------:|-----------:|------------:|------------:|------------:|-----------:|----------:|-------:|-------:|\t|---:|---------:|----------:|----------:|----------:|----------:|----------:|-----------:|---------:|-------:|\n",
      "|  0 | -0.0139147 |  -0.031937 |  -0.0488582 |  -0.0660285 |  -0.0840593 |  -0.101456 |  -2.1809  | -1e+09 | -1e+09 |\t|  0 | -4.28176 |  -4.03905 |  -4.11957 |  -4.12201 |  -4.09071 |  -4.1442  |  -0.234988 | -2.1809  | -1e+09 |\n",
      "|  1 | -1e+09     |  -4.31419  |  -3.49866   |  -3.08996   |  -2.80686   |  -2.58302  |  -4.34112 | -1e+09 | -1e+09 |\t|  1 | -1e+09   |  -8.33619 |  -7.58019 |  -7.15493 |  -6.81657 |  -6.62458 |  -2.54936  | -2.07177 | -1e+09 |\n",
      "|  2 | -1e+09     |  -8.54248  |  -7.32168   |  -6.60988   |  -6.07317   |  -5.63389  |  -7.06613 | -1e+09 | -1e+09 |\t|  2 | -1e+09   | -12.7708  | -11.6124  | -10.884   | -10.2935  |  -9.89149 |  -5.4567   | -2.06502 | -1e+09 |\n",
      "|  3 | -1e+09     | -12.6211   | -11.2103    | -10.34      |  -9.62868   |  -9.02629  | -10.1385  | -1e+09 | -1e+09 |\t|  3 | -1e+09   | -16.9065  | -15.5595  | -14.6761  | -13.9126  | -13.3477  |  -8.75219  | -2.06471 | -1e+09 |\n",
      "|  4 | -1e+09     | -16.6745   | -15.1252    | -14.1429    | -13.2955    | -12.5587   | -13.3293  | -1e+09 | -1e+09 |\t|  4 | -1e+09   | -20.9524  | -19.4643  | -18.468   | -17.5672  | -16.8658  | -12.2306   | -2.0647  | -1e+09 |\n",
      "|  5 | -1e+09     | -20.9077   | -19.211     | -18.1111    | -17.1343    | -16.2684   | -16.6362  | -1e+09 | -1e+09 |\t|  5 | -1e+09   | -25.3145  | -23.6749  | -22.5608  | -21.5277  | -20.6952  | -15.943    | -2.0647  | -1e+09 |\n",
      "|  6 | -1e+09     | -25.236    | -23.4202    | -22.2234    | -21.1301    | -20.1452   | -20.0022  | -1e+09 | -1e+09 |\t|  6 | -1e+09   | -30.0354  | -28.2756  | -27.0586  | -25.9077  | -24.949   | -20.0022   | -2.0647  | -1e+09 |\n",
      "|  7 | -1e+09     | -29.9924   | -28.0657    | -26.7778    | -25.5723    | -24.4722   | -23.5356  | -1e+09 | -1e+09 |\t|  7 | -2e+09   |  -1e+09   |  -1e+09   |  -1e+09   |  -1e+09   |  -1e+09   |  -1e+09    | -2.0647  | -1e+09 |\n",
      "|  8 | -2e+09     |  -1e+09    |  -1e+09     |  -1e+09     |  -1e+09     |  -1e+09    |  -1e+09   | -1e+09 | -1e+09 |\t|  8 | -2e+09   |  -1e+09   |  -1e+09   |  -1e+09   |  -1e+09   |  -1e+09   |  -1e+09    | -1e+09   | -1e+09 |\n",
      "Insertion operation - rendered target probs                                                                    \tEnding operation - rendered target probs\n",
      "|    |          0 |          1 |           2 |           3 |           4 |          5 |         6 |   7 |   8 |\t|    |        0 |         1 |         2 |         3 |         4 |         5 |          6 |        7 |   8 |\n",
      "|---:|-----------:|-----------:|------------:|------------:|------------:|-----------:|----------:|----:|----:|\t|---:|---------:|----------:|----------:|----------:|----------:|----------:|-----------:|---------:|----:|\n",
      "|  0 | -0.0139147 |  -0.031937 |  -0.0488582 |  -0.0660285 |  -0.0840593 |  -0.101456 |  -2.1809  |   0 |   0 |\t|  0 | -4.28176 |  -4.03905 |  -4.11957 |  -4.12201 |  -4.09071 |  -4.1442  |  -0.234988 | -2.1809  |  -0 |\n",
      "|  1 | -1e+09     |  -4.31419  |  -3.49866   |  -3.08996   |  -2.80686   |  -2.58302  |  -4.34112 |   0 |   0 |\t|  1 | -1e+09   |  -8.33619 |  -7.58019 |  -7.15493 |  -6.81657 |  -6.62458 |  -2.54936  | -2.07177 |  -0 |\n",
      "|  2 | -1e+09     |  -8.54248  |  -7.32168   |  -6.60988   |  -6.07317   |  -5.63389  |  -7.06613 |   0 |   0 |\t|  2 | -1e+09   | -12.7708  | -11.6124  | -10.884   | -10.2935  |  -9.89149 |  -5.4567   | -2.06502 |  -0 |\n",
      "|  3 | -1e+09     | -12.6211   | -11.2103    | -10.34      |  -9.62868   |  -9.02629  | -10.1385  |   0 |   0 |\t|  3 | -1e+09   | -16.9065  | -15.5595  | -14.6761  | -13.9126  | -13.3477  |  -8.75219  | -2.06471 |  -0 |\n",
      "|  4 | -1e+09     | -16.6745   | -15.1252    | -14.1429    | -13.2955    | -12.5587   | -13.3293  |   0 |   0 |\t|  4 | -1e+09   | -20.9524  | -19.4643  | -18.468   | -17.5672  | -16.8658  | -12.2306   | -2.0647  |  -0 |\n",
      "|  5 | -1e+09     | -20.9077   | -19.211     | -18.1111    | -17.1343    | -16.2684   | -16.6362  |   0 |   0 |\t|  5 | -1e+09   | -25.3145  | -23.6749  | -22.5608  | -21.5277  | -20.6952  | -15.943    | -2.0647  |  -0 |\n",
      "|  6 | -1e+09     | -25.236    | -23.4202    | -22.2234    | -21.1301    | -20.1452   | -20.0022  |   0 |   0 |\t|  6 | -1e+09   | -30.0354  | -28.2756  | -27.0586  | -25.9077  | -24.949   | -20.0022   | -2.0647  |  -0 |\n",
      "|  7 | -1e+09     | -29.9924   | -28.0657    | -26.7778    | -25.5723    | -24.4722   | -23.5356  |   0 |   0 |\t|  7 | -2e+09   |  -1e+09   |  -1e+09   |  -1e+09   |  -1e+09   |  -1e+09   |  -1e+09    | -2.0647  |  -0 |\n",
      "|  8 |  0         |   0        |   0         |   0         |   0         |   0        |   0       |   0 |   0 |\t|  8 | -0       |  -0       |  -0       |  -0       |  -0       |  -0       |  -0        | -0       |  -0 |\n",
      "Insertion operation - rendered logits                                                          \tEnding operation - rendered logits\n",
      "|    |        0 |        1 |        2 |        3 |        4 |        5 |        6 |   7 |   8 |\t|    |        0 |        1 |        2 |        3 |        4 |        5 |        6 |        7 |   8 |\n",
      "|---:|---------:|---------:|---------:|---------:|---------:|---------:|---------:|----:|----:|\t|---:|---------:|---------:|---------:|---------:|---------:|---------:|---------:|---------:|----:|\n",
      "|  0 | -4.19154 | -3.83531 | -4.21225 | -4.21956 | -4.25344 | -3.95911 | -4.14423 |   0 |   0 |\t|  0 | -4.14837 | -3.88708 | -3.94971 | -3.93649 | -3.8881  | -3.92486 | -3.95759 | -3.87233 |  -0 |\n",
      "|  1 | -4.1249  | -3.92556 | -4.06158 | -4.28403 | -4.27371 | -3.96829 | -4.02831 |   0 |   0 |\t|  1 | -4.13127 | -3.87091 | -3.93225 | -3.92036 | -3.86953 | -3.90545 | -3.93681 | -3.85327 |  -0 |\n",
      "|  2 | -4.14857 | -3.71922 | -4.0923  | -4.11333 | -4.21383 | -4.02178 | -4.14861 |   0 |   0 |\t|  2 | -4.32281 | -4.05909 | -4.12095 | -4.10671 | -4.05483 | -4.09367 | -4.12565 | -4.04398 |  -0 |\n",
      "|  3 | -4.23985 | -3.93724 | -4.29805 | -4.14143 | -4.19033 | -3.94095 | -4.05957 |   0 |   0 |\t|  3 | -4.34087 | -4.07664 | -4.13923 | -4.12728 | -4.0758  | -4.11362 | -4.14731 | -4.06345 |  -0 |\n",
      "|  4 | -4.27051 | -4.04689 | -4.17672 | -4.23018 | -4.19297 | -3.90707 | -4.05036 |   0 |   0 |\t|  4 | -4.26019 | -3.99653 | -4.05829 | -4.04694 | -3.99608 | -4.03357 | -4.06755 | -3.98428 |  -0 |\n",
      "|  5 | -4.31562 | -4.03016 | -4.2673  | -4.21088 | -4.44761 | -3.90466 | -4.03572 |   0 |   0 |\t|  5 | -4.25659 | -3.99452 | -4.05474 | -4.04488 | -3.9932  | -4.03058 | -4.06492 | -3.97825 |  -0 |\n",
      "|  6 | -4.12268 | -4.13206 | -4.07299 | -4.17227 | -4.37297 | -3.90742 | -4.19624 |   0 |   0 |\t|  6 | -4.33526 | -4.07409 | -4.13784 | -4.12564 | -4.0763  | -4.1105  | -4.1425  | -4.05689 |  -0 |\n",
      "|  7 | -4.24336 | -4.16341 | -4.29973 | -4.3285  | -4.44088 | -3.74765 | -4.19156 |   0 |   0 |\t|  7 | -4.21297 | -3.9549  | -4.01687 | -4.00707 | -3.95736 | -3.99087 | -4.02128 | -3.93284 |  -0 |\n",
      "|  8 |  0       |  0       |  0       |  0       |  0       |  0       |  0       |   0 |   0 |\t|  8 | -0       | -0       | -0       | -0       | -0       | -0       | -0       | -0       |  -0 |\n"
     ]
    }
   ],
   "source": [
    "df_insBackward = pd.DataFrame(backward_prob_ins[:x_length+2, :y_length+2])\n",
    "df_endBackward = pd.DataFrame(backward_prob_end[:x_length+2, :y_length+2])\n",
    "df_insRenderedTargets = pd.DataFrame(renderedTargets[:x_length+2, :y_length+2, -V_SIZE-1:-1].sum(axis=2))\n",
    "df_endRenderedTargets = pd.DataFrame(renderedTargets[:x_length+2, :y_length+2, -1])\n",
    "df_insRenderedLogits = pd.DataFrame(renderedLogits[:x_length+2, :y_length+2, -V_SIZE-1:-1].sum(axis=2))\n",
    "df_endRenderedLogits = pd.DataFrame(renderedLogits[:x_length+2, :y_length+2, -1])\n",
    "\n",
    "display_horizontaly_two_tables(df_insBackward, df_endBackward, \"Insertion operation - cached posterior probs\", \"Ending operation - cached posterior probs\")\n",
    "display_horizontaly_two_tables(df_insRenderedTargets, df_endRenderedTargets, \"Insertion operation - rendered target probs\", \"Ending operation - rendered target probs\")\n",
    "display_horizontaly_two_tables(df_insRenderedLogits, df_endRenderedLogits, \"Insertion operation - rendered logits\", \"Ending operation - rendered logits\")\n",
    "\n",
    "# display(pd.merge(df_insBackward, df_endBackward, left_index=True, right_index=True, suffixes=(' ins', ' end')),\n",
    "#         pd.merge(df_insRenderedTargets, df_endRenderedTargets, left_index=True, right_index=True, suffixes=(' ins', ' end'))\n",
    "#         )"
   ]
  },
  {
   "attachments": {},
   "cell_type": "markdown",
   "metadata": {},
   "source": [
    "## Training round"
   ]
  },
  {
   "cell_type": "code",
   "execution_count": 11,
   "metadata": {},
   "outputs": [
    {
     "name": "stdout",
     "output_type": "stream",
     "text": [
      "Epoch 1\n",
      "------------------------------------------------------------\n",
      "Average loss: 2.883844 ; Standard deviation: 1.393481\n",
      "Epoch 2\n",
      "------------------------------------------------------------\n",
      "Average loss: 1.737773 ; Standard deviation: 0.369024\n",
      "Epoch 3\n",
      "------------------------------------------------------------\n",
      "Average loss: 1.353651 ; Standard deviation: 0.305455\n",
      "Epoch 4\n",
      "------------------------------------------------------------\n",
      "Average loss: 1.078920 ; Standard deviation: 0.273350\n",
      "Epoch 5\n",
      "------------------------------------------------------------\n",
      "Average loss: 0.871537 ; Standard deviation: 0.247286\n",
      "Figure(640x480)\n"
     ]
    },
    {
     "data": {
      "image/png": "[encoded data removed]",
      "text/plain": [
       "<Figure size 640x480 with 1 Axes>"
      ]
     },
     "metadata": {},
     "output_type": "display_data"
    }
   ],
   "source": [
    "EPOCHS, LEARNING_RATE = 5, 0.01\n",
    "randomEditModel.train_models(currentReconstructions, targets_prob, MINI_BATCH_SIZE, EPOCHS, LEARNING_RATE)"
   ]
  }
 ],
 "metadata": {
  "kernelspec": {
   "display_name": "Python 3",
   "language": "python",
   "name": "python3"
  },
  "language_info": {
   "codemirror_mode": {
    "name": "ipython",
    "version": 3
   },
   "file_extension": ".py",
   "mimetype": "text/x-python",
   "name": "python",
   "nbconvert_exporter": "python",
   "pygments_lexer": "ipython3",
   "version": "3.9.10"
  },
  "orig_nbformat": 4
 },
 "nbformat": 4,
 "nbformat_minor": 2
}
