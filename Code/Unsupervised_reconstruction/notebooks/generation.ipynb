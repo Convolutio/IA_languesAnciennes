{
 "cells": [
  {
   "attachments": {},
   "cell_type": "markdown",
   "metadata": {},
   "source": [
    "# Proposals generation"
   ]
  },
  {
   "cell_type": "code",
   "execution_count": 4,
   "metadata": {},
   "outputs": [
    {
     "name": "stdout",
     "output_type": "stream",
     "text": [
      "Déjà à jour.\n"
     ]
    }
   ],
   "source": [
    "# Synchronize remote repository\n",
    "!git pull"
   ]
  },
  {
   "attachments": {},
   "cell_type": "markdown",
   "metadata": {},
   "source": [
    "Loading of the first dataset for the generation"
   ]
  },
  {
   "cell_type": "code",
   "execution_count": 2,
   "metadata": {},
   "outputs": [
    {
     "name": "stdout",
     "output_type": "stream",
     "text": [
      "tensor([16, 20,  9, 28, 33], device='cuda:0', dtype=torch.uint8) ebˈɛn\n",
      "tensor([28, 20, 17, 33, 41], device='cuda:0', dtype=torch.uint8) ɛbanʊ\n"
     ]
    }
   ],
   "source": [
    "from data.getDataset import getCognatesSet, getIteration\n",
    "from data.vocab import oneHotsToWords\n",
    "\n",
    "cognates = getCognatesSet()\n",
    "currentReconstructions = getIteration(4)\n",
    "\n",
    "a, b = cognates['french'][0], currentReconstructions[0]\n",
    "print(a, oneHotsToWords(a))\n",
    "print(b, oneHotsToWords(b))\n"
   ]
  },
  {
   "cell_type": "code",
   "execution_count": 3,
   "metadata": {},
   "outputs": [
    {
     "name": "stdout",
     "output_type": "stream",
     "text": [
      "------------------------------------------------------------\n",
      "Proposals generation: 100 %          \n",
      "------------------------------------------------------------\n",
      "\n",
      "Executed in 1.0 minutes and 27.88179874420166 seconds.\n"
     ]
    }
   ],
   "source": [
    "from source.generateProposals import generateProposalsFromCurrentReconstructions\n",
    "from time import time\n",
    "\n",
    "t0 = time()\n",
    "\n",
    "generateProposalsFromCurrentReconstructions(currentReconstructions, cognates)\n",
    "\n",
    "deltat = time() - t0\n",
    "print(f\"Executed in {deltat//60} minutes and {deltat%60} seconds.\")"
   ]
  }
 ],
 "metadata": {
  "kernelspec": {
   "display_name": "Python 3.9.10 (PyTorch)",
   "language": "python",
   "name": "notebook_torch_env"
  },
  "language_info": {
   "codemirror_mode": {
    "name": "ipython",
    "version": 3
   },
   "file_extension": ".py",
   "mimetype": "text/x-python",
   "name": "python",
   "nbconvert_exporter": "python",
   "pygments_lexer": "ipython3",
   "version": "3.9.16"
  },
  "orig_nbformat": 4
 },
 "nbformat": 4,
 "nbformat_minor": 2
}
