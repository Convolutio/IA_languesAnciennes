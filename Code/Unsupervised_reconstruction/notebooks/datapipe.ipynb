{
 "cells": [
  {
   "cell_type": "code",
   "execution_count": 5,
   "metadata": {},
   "outputs": [
    {
     "name": "stdout",
     "output_type": "stream",
     "text": [
      "(0, 'a')\n"
     ]
    },
    {
     "ename": "StopIteration",
     "evalue": "",
     "output_type": "error",
     "traceback": [
      "\u001b[1;31m---------------------------------------------------------------------------\u001b[0m",
      "\u001b[1;31mStopIteration\u001b[0m                             Traceback (most recent call last)",
      "Cell \u001b[1;32mIn[5], line 15\u001b[0m\n\u001b[0;32m     13\u001b[0m dp \u001b[39m=\u001b[39m \u001b[39miter\u001b[39m(dp1\u001b[39m.\u001b[39mzip(dp2))\n\u001b[0;32m     14\u001b[0m \u001b[39mprint\u001b[39m(\u001b[39mnext\u001b[39m(dp))\n\u001b[1;32m---> 15\u001b[0m \u001b[39mprint\u001b[39m(\u001b[39mnext\u001b[39;49m(dp))\n\u001b[0;32m     16\u001b[0m \u001b[39m# .shuffle().sharding_filter().batch(30).collate(my_collate_fn)\u001b[39;00m\n\u001b[0;32m     17\u001b[0m \u001b[39m# dl = DataLoader2(dp)\u001b[39;00m\n\u001b[0;32m     18\u001b[0m \u001b[39m# to_graph(dp).view()\u001b[39;00m\n",
      "\u001b[1;31mStopIteration\u001b[0m: "
     ]
    }
   ],
   "source": [
    "from torchdata.datapipes.iter import IterableWrapper\n",
    "from torchdata.datapipes.utils import to_graph\n",
    "from torchdata.dataloader2 import DataLoader2\n",
    "from operator import itemgetter\n",
    "from torch import tensor\n",
    "\n",
    "dp1 = IterableWrapper([i for i in range(4000)])\n",
    "dp2 = IterableWrapper({'a':[i+6 for i in range(4000)]})\n",
    "\n",
    "def my_collate_fn(batch:list[tuple[int, int]]):\n",
    "    return tensor(map(itemgetter(0), batch)), tensor(map(itemgetter(1), batch))\n",
    "\n",
    "dp = iter(dp1.zip(dp2))\n",
    "print(next(dp))\n",
    "print(next(dp))\n",
    "# .shuffle().sharding_filter().batch(30).collate(my_collate_fn)\n",
    "# dl = DataLoader2(dp)\n",
    "# to_graph(dp).view()"
   ]
  },
  {
   "cell_type": "code",
   "execution_count": null,
   "metadata": {},
   "outputs": [],
   "source": []
  }
 ],
 "metadata": {
  "kernelspec": {
   "display_name": "Python 3",
   "language": "python",
   "name": "python3"
  },
  "language_info": {
   "codemirror_mode": {
    "name": "ipython",
    "version": 3
   },
   "file_extension": ".py",
   "mimetype": "text/x-python",
   "name": "python",
   "nbconvert_exporter": "python",
   "pygments_lexer": "ipython3",
   "version": "3.9.10"
  }
 },
 "nbformat": 4,
 "nbformat_minor": 2
}
