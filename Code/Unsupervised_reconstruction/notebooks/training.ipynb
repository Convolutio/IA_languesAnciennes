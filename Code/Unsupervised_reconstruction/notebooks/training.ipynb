{
 "cells": [
  {
   "attachments": {},
   "cell_type": "markdown",
   "metadata": {},
   "source": [
    "# Maximisation-expectation"
   ]
  },
  {
   "attachments": {},
   "cell_type": "markdown",
   "metadata": {},
   "source": [
    "Notebook configuration"
   ]
  },
  {
   "cell_type": "code",
   "execution_count": 1,
   "metadata": {},
   "outputs": [],
   "source": [
    "from os import getcwd, chdir\n",
    "\n",
    "# set the current working directory to the repository's root, if required\n",
    "if getcwd().endswith('notebooks'):\n",
    "    chdir('./../')"
   ]
  },
  {
   "cell_type": "code",
   "execution_count": 2,
   "metadata": {},
   "outputs": [
    {
     "name": "stdout",
     "output_type": "stream",
     "text": [
      "Requirement already satisfied: tabulate in /autofs/unitytravail/travail/thorrut/envs/lib/python3.9/site-packages (0.9.0)\n"
     ]
    }
   ],
   "source": [
    "!python -m pip install tabulate\n",
    "from IPython.display import display\n",
    "import pandas as pd\n",
    "pd.set_option('display.float_format', lambda x: f'{x:.4f}')\n",
    "\n",
    "def display_horizontaly_two_tables(df:pd.DataFrame,df2:pd.DataFrame, title1:str, title2:str):\n",
    "    df_md = df.to_markdown().split('\\n')\n",
    "    df2_md = df2.to_markdown().split('\\n')\n",
    "    title_line = title1 + \" \" * (len(df_md[0])-len(title1)) + \"\\t\" + title2\n",
    "    two_tabs = \"\\n\".join([title_line] + [df_md[i] + '\\t' + df2_md[i] for i in range(len(df_md))])\n",
    "    print(two_tabs)"
   ]
  },
  {
   "attachments": {},
   "cell_type": "markdown",
   "metadata": {},
   "source": [
    "## Initial Dataset"
   ]
  },
  {
   "cell_type": "code",
   "execution_count": 3,
   "metadata": {},
   "outputs": [
    {
     "name": "stdout",
     "output_type": "stream",
     "text": [
      "|y| max = 18\n",
      "|x| max = 16\n"
     ]
    }
   ],
   "source": [
    "from data.getDataset import getCognatesSet, getIteration\n",
    "from data.vocab import computeInferenceData, V_SIZE\n",
    "from torch.nn.utils.rnn import pad_sequence\n",
    "from Types.articleModels import ModernLanguages\n",
    "from Types.models import InferenceData\n",
    "from Source.reconstructionModel import ReconstructionModel\n",
    "\n",
    "cognates:dict[ModernLanguages, InferenceData] = {lang:computeInferenceData(pad_sequence(cogSet, batch_first=True)) for (lang, cogSet) in getCognatesSet().items()}\n",
    "currentReconstructions = computeInferenceData(pad_sequence(getIteration(1), batch_first=True))\n",
    "\n",
    "voc_size = V_SIZE\n",
    "LSTM_INPUT_DIM = 50\n",
    "LSTM_HIDDEN_DIM = 50\n",
    "\n",
    "randomEditModel = ReconstructionModel(cognates, voc_size, LSTM_INPUT_DIM, LSTM_HIDDEN_DIM)\n",
    "\n",
    "TEST_LANGUAGE:ModernLanguages = \"french\"\n",
    "x_maxLength = currentReconstructions[0].size()[0] - 2\n",
    "y_maxLength = cognates[TEST_LANGUAGE][0].size()[0] - 2\n",
    "print('|y| max =', y_maxLength)\n",
    "print('|x| max =', x_maxLength)"
   ]
  },
  {
   "attachments": {},
   "cell_type": "markdown",
   "metadata": {},
   "source": [
    "## Backward dynamic Program"
   ]
  },
  {
   "attachments": {},
   "cell_type": "markdown",
   "metadata": {},
   "source": [
    "Inference in edit model"
   ]
  },
  {
   "cell_type": "code",
   "execution_count": 4,
   "metadata": {},
   "outputs": [],
   "source": [
    "randomEditModel.update_modernForm_context()"
   ]
  },
  {
   "attachments": {},
   "cell_type": "markdown",
   "metadata": {},
   "source": [
    "Backward dynamic Program"
   ]
  },
  {
   "cell_type": "code",
   "execution_count": 5,
   "metadata": {},
   "outputs": [],
   "source": [
    "targets_prob = randomEditModel.backward_dynProg(currentReconstructions)"
   ]
  },
  {
   "attachments": {},
   "cell_type": "markdown",
   "metadata": {},
   "source": [
    "### Analysis"
   ]
  },
  {
   "attachments": {},
   "cell_type": "markdown",
   "metadata": {},
   "source": [
    "Test on $x :=$`\"absyrdʊ\"` and $y :=$`\"absˈyʁd\"` ($|x|=7$ and $|y|=7$)"
   ]
  },
  {
   "cell_type": "code",
   "execution_count": 6,
   "metadata": {},
   "outputs": [],
   "source": [
    "IDX = 20 # the index in the batch of the sample to be studied\n",
    "x_length, y_length = 7, 7\n",
    "\n",
    "backward_prob_dlt = targets_prob[TEST_LANGUAGE].dlt[:,:,IDX]\n",
    "backward_prob_end = targets_prob[TEST_LANGUAGE].end[:,:,IDX]\n",
    "backward_prob_sub = targets_prob[TEST_LANGUAGE].sub[:,:,IDX]\n",
    "backward_prob_ins = targets_prob[TEST_LANGUAGE].ins[:,:,IDX]"
   ]
  },
  {
   "attachments": {},
   "cell_type": "markdown",
   "metadata": {},
   "source": [
    "#### Display of cached probabilities for the substitution and the deletion operations\n",
    "\n",
    "Notice that the logarithmic probabilities that have not to be defined for these operations are automatically set to $-\\infty{}$ thanks to the recurrence mathematical relations of the backward dynamic program. So do the undefined probabilities in padding positions, thanks to the neutrality of edit model's cached inference probabilities (which equal $0$ in the log space)."
   ]
  },
  {
   "cell_type": "code",
   "execution_count": 7,
   "metadata": {},
   "outputs": [
    {
     "name": "stdout",
     "output_type": "stream",
     "text": [
      "Subsitution Operation                                                                                     \tDeletion Operation\n",
      "|    |         0 |         1 |        2 |         3 |         4 |         5 |        6 |      7 |      8 |\t|    |         0 |         1 |        2 |         3 |         4 |         5 |         6 |         7 |      8 |\n",
      "|---:|----------:|----------:|---------:|----------:|----------:|----------:|---------:|-------:|-------:|\t|---:|----------:|----------:|---------:|----------:|----------:|----------:|----------:|----------:|-------:|\n",
      "|  0 |  -1e+09   |  -1e+09   |  -1e+09  |  -1e+09   |  -1e+09   |  -1e+09   | -1e+09   | -2e+09 | -2e+09 |\t|  0 |  -1e+09   |  -1e+09   |  -1e+09  |  -1e+09   |  -1e+09   |  -1e+09   | -1e+09    | -1e+09    | -2e+09 |\n",
      "|  1 |  -4.08633 |  -4.08892 |  -4.24   |  -4.24642 |  -4.23069 |  -4.22377 | -2.17671 | -1e+09 | -1e+09 |\t|  1 |  -8.40679 |  -8.38645 |  -8.4417 |  -8.57505 |  -8.56349 |  -8.63764 | -0.384954 | -2.17671  | -1e+09 |\n",
      "|  2 |  -8.41839 |  -7.66294 |  -7.3625 |  -7.14633 |  -6.92193 |  -6.75273 | -2.07117 | -1e+09 | -1e+09 |\t|  2 | -12.87    | -12.089   | -11.6925 | -11.6015  | -11.3801  | -11.2905  | -0.461729 | -1.4294   | -1e+09 |\n",
      "|  3 | -12.8813  | -11.615   | -10.9435 | -10.5132  | -10.1062  |  -9.7836  | -2.06568 | -1e+09 | -1e+09 |\t|  3 | -17.3553  | -16.0598  | -15.2906 | -14.9822  | -14.5723  | -14.3259  | -0.679386 | -1.00462  | -1e+09 |\n",
      "|  4 | -17.367   | -15.7481  | -14.7716 | -14.1558  | -13.5807  | -13.1207  | -2.06544 | -1e+09 | -1e+09 |\t|  4 | -21.8068  | -20.1596  | -19.0885 | -18.5965  | -18.0195  | -17.6374  | -0.96683  | -0.707355 | -1e+09 |\n",
      "|  5 | -21.8173  | -19.9842  | -18.7865 | -18.0594  | -17.3579  | -16.7995  | -2.06543 | -1e+09 | -1e+09 |\t|  5 | -26.3707  | -24.509   | -23.2134 | -22.6067  | -21.9034  | -21.4218  | -1.37229  | -0.478504 | -1e+09 |\n",
      "|  6 | -26.3789  | -24.3671  | -22.9748 | -22.1474  | -21.3412  | -20.6973  | -2.06543 | -1e+09 | -1e+09 |\t|  6 | -31.1804  | -29.1366  | -27.642  | -26.9298  | -26.1183  | -25.546   | -2.06543  | -0.292396 | -1e+09 |\n",
      "|  7 | -31.1804  | -29.0158  | -27.4478 | -26.5343  | -25.6355  | -24.9159  | -2.06543 | -1e+09 | -1e+09 |\t|  7 |  -1e+09   |  -1e+09   |  -1e+09  |  -1e+09   |  -1e+09   |  -1e+09   | -1e+09    | -0.135549 | -1e+09 |\n",
      "|  8 |  -1e+09   |  -1e+09   |  -1e+09  |  -1e+09   |  -1e+09   |  -1e+09   | -1e+09   | -1e+09 | -1e+09 |\t|  8 |  -1e+09   |  -1e+09   |  -1e+09  |  -1e+09   |  -1e+09   |  -1e+09   | -1e+09    | -1e+09    | -1e+09 |\n"
     ]
    }
   ],
   "source": [
    "df = pd.DataFrame(backward_prob_sub[:x_length+2, :y_length+2])\n",
    "df2 = pd.DataFrame(backward_prob_dlt[:x_length+2, :y_length+2])\n",
    "\n",
    "display_horizontaly_two_tables(df, df2, \"Subsitution Operation\", \"Deletion Operation\")"
   ]
  },
  {
   "attachments": {},
   "cell_type": "markdown",
   "metadata": {},
   "source": [
    "## Rendering of the target and the logits before the loss computation"
   ]
  },
  {
   "cell_type": "code",
   "execution_count": 14,
   "metadata": {},
   "outputs": [
    {
     "name": "stdout",
     "output_type": "stream",
     "text": [
      "Targets load shape: torch.Size([858, 118])\n",
      "Logits load shape: torch.Size([858, 118])\n"
     ]
    }
   ],
   "source": [
    "MINI_BATCH_SIZE = 30\n",
    "\n",
    "miniBatchDataForLogitsComputation, miniBatchTargetsLoad = list(zip(*randomEditModel.renderMiniBatchData(currentReconstructions, targets_prob, MINI_BATCH_SIZE)))[0]\n",
    "renderedTargets = miniBatchTargetsLoad[:,IDX,:]\n",
    "renderedLogits = randomEditModel.renderLogitsForMiniBatch(*miniBatchDataForLogitsComputation)[:,IDX,:].detach()\n",
    "print(\"Targets load shape:\", renderedTargets.size())\n",
    "print(\"Logits load shape:\", renderedLogits.size())"
   ]
  },
  {
   "cell_type": "code",
   "execution_count": 15,
   "metadata": {},
   "outputs": [
    {
     "name": "stdout",
     "output_type": "stream",
     "text": [
      "(11, 14, 118)\n",
      "(11, 14, 118)\n"
     ]
    }
   ],
   "source": [
    "maxModernSequenceLength_inMiniBatch: dict[ModernLanguages, int] = {lang:data[2] for (lang, data) in miniBatchDataForLogitsComputation[1].items()} #type:ignore\n",
    "maxSampleSequenceLength_inMiniBatch: int = miniBatchDataForLogitsComputation[0][2]+1\n",
    "renderedTargets = renderedTargets.split([maxModernSequenceLength_inMiniBatch[lang]*maxSampleSequenceLength_inMiniBatch for lang in randomEditModel.languages])[randomEditModel.languages.index(TEST_LANGUAGE)].view(maxSampleSequenceLength_inMiniBatch, maxModernSequenceLength_inMiniBatch[TEST_LANGUAGE], voc_size*2+2).cpu().numpy()\n",
    "renderedLogits = renderedLogits.split([maxModernSequenceLength_inMiniBatch[lang]*maxSampleSequenceLength_inMiniBatch for lang in randomEditModel.languages])[randomEditModel.languages.index(TEST_LANGUAGE)].view(maxSampleSequenceLength_inMiniBatch, maxModernSequenceLength_inMiniBatch[TEST_LANGUAGE], voc_size*2+2).cpu().numpy()\n",
    "\n",
    "print(renderedTargets.shape)\n",
    "print(renderedLogits.shape)"
   ]
  },
  {
   "attachments": {},
   "cell_type": "markdown",
   "metadata": {},
   "source": [
    "#### Comparison of the rendered target probs format and the cached probs format\n",
    "\n",
    "A reduction of the renderedTargets has been done for the displaying. The comparison is done for the insertion and the ending operations."
   ]
  },
  {
   "cell_type": "code",
   "execution_count": 16,
   "metadata": {},
   "outputs": [
    {
     "name": "stdout",
     "output_type": "stream",
     "text": [
      "Insertion operation - cached posterior probs                                                                         \tEnding operation - cached posterior probs\n",
      "|    |          0 |          1 |           2 |          3 |           4 |           5 |         6 |      7 |      8 |\t|    |        0 |         1 |         2 |         3 |         4 |         5 |          6 |        7 |      8 |\n",
      "|---:|-----------:|-----------:|------------:|-----------:|------------:|------------:|----------:|-------:|-------:|\t|---:|---------:|----------:|----------:|----------:|----------:|----------:|-----------:|---------:|-------:|\n",
      "|  0 | -0.0171707 |  -0.034601 |  -0.0498549 |  -0.065218 |  -0.0810692 |  -0.0972719 |  -2.17671 | -1e+09 | -1e+09 |\t|  0 | -4.07313 |  -4.07541 |  -4.22514 |  -4.23332 |  -4.21764 |  -4.21174 |  -0.230803 | -2.17671 | -1e+09 |\n",
      "|  1 | -1e+09     |  -4.10118  |  -3.4148    |  -3.06438  |  -2.81022   |  -2.60733   |  -4.37208 | -1e+09 | -1e+09 |\t|  1 | -1e+09   |  -8.30366 |  -7.75807 |  -7.40509 |  -7.12294 |  -6.90488 |  -2.58032  | -2.07117 | -1e+09 |\n",
      "|  2 | -1e+09     |  -8.43443  |  -7.2969    |  -6.65009  |  -6.18904   |  -5.8114    |  -7.27378 | -1e+09 | -1e+09 |\t|  2 | -1e+09   | -12.5587  | -11.5594  | -10.9067  | -10.4186  | -10.0205  |  -5.66434  | -2.06568 | -1e+09 |\n",
      "|  3 | -1e+09     | -12.8974   | -11.3843    | -10.4608   |  -9.80813   |  -9.26795   | -10.4092  | -1e+09 | -1e+09 |\t|  3 | -1e+09   | -17.0211  | -15.6433  | -14.7107  | -14.0257  | -13.4614  |  -9.0229   | -2.06544 | -1e+09 |\n",
      "|  4 | -1e+09     | -17.3796   | -15.5804    | -14.4143   | -13.595     | -12.9064    | -13.7009  | -1e+09 | -1e+09 |\t|  4 | -1e+09   | -21.7461  | -20.0861  | -18.9125  | -18.0619  | -17.3491  | -12.6023   | -2.06543 | -1e+09 |\n",
      "|  5 | -1e+09     | -21.8283   | -19.8471    | -18.4989   | -17.5721    | -16.7765    | -17.1934  | -1e+09 | -1e+09 |\t|  5 | -1e+09   | -26.3275  | -24.4814  | -23.1239  | -22.1657  | -21.3449  | -16.5003   | -2.06543 | -1e+09 |\n",
      "|  6 | -1e+09     | -26.3871   | -24.2497    | -22.7357   | -21.7133    | -20.8247    | -20.7589  | -1e+09 | -1e+09 |\t|  6 | -1e+09   | -31.189   | -29.1821  | -27.6532  | -26.5955  | -25.6762  | -20.7589   | -2.06543 | -1e+09 |\n",
      "|  7 | -1e+09     | -31.1804   | -28.9071    | -27.2389   | -26.1326    | -25.1604    | -24.3375  | -1e+09 | -1e+09 |\t|  7 | -2e+09   |  -1e+09   |  -1e+09   |  -1e+09   |  -1e+09   |  -1e+09   |  -1e+09    | -2.06543 | -1e+09 |\n",
      "|  8 | -2e+09     |  -1e+09    |  -1e+09     |  -1e+09    |  -1e+09     |  -1e+09     |  -1e+09   | -1e+09 | -1e+09 |\t|  8 | -2e+09   |  -1e+09   |  -1e+09   |  -1e+09   |  -1e+09   |  -1e+09   |  -1e+09    | -1e+09   | -1e+09 |\n",
      "Insertion operation - rendered target probs                                                                    \tEnding operation - rendered target probs\n",
      "|    |          0 |          1 |           2 |          3 |           4 |           5 |         6 |   7 |   8 |\t|    |        0 |         1 |         2 |         3 |         4 |         5 |          6 |        7 |   8 |\n",
      "|---:|-----------:|-----------:|------------:|-----------:|------------:|------------:|----------:|----:|----:|\t|---:|---------:|----------:|----------:|----------:|----------:|----------:|-----------:|---------:|----:|\n",
      "|  0 | -0.0171707 |  -0.034601 |  -0.0498549 |  -0.065218 |  -0.0810692 |  -0.0972719 |  -2.17671 |   0 |   0 |\t|  0 | -4.07313 |  -4.07541 |  -4.22514 |  -4.23332 |  -4.21764 |  -4.21174 |  -0.230803 | -2.17671 |  -0 |\n",
      "|  1 | -1e+09     |  -4.10118  |  -3.4148    |  -3.06438  |  -2.81022   |  -2.60733   |  -4.37208 |   0 |   0 |\t|  1 | -1e+09   |  -8.30366 |  -7.75807 |  -7.40509 |  -7.12294 |  -6.90488 |  -2.58032  | -2.07117 |  -0 |\n",
      "|  2 | -1e+09     |  -8.43443  |  -7.2969    |  -6.65009  |  -6.18904   |  -5.8114    |  -7.27378 |   0 |   0 |\t|  2 | -1e+09   | -12.5587  | -11.5594  | -10.9067  | -10.4186  | -10.0205  |  -5.66434  | -2.06568 |  -0 |\n",
      "|  3 | -1e+09     | -12.8974   | -11.3843    | -10.4608   |  -9.80813   |  -9.26795   | -10.4092  |   0 |   0 |\t|  3 | -1e+09   | -17.0211  | -15.6433  | -14.7107  | -14.0257  | -13.4614  |  -9.0229   | -2.06544 |  -0 |\n",
      "|  4 | -1e+09     | -17.3796   | -15.5804    | -14.4143   | -13.595     | -12.9064    | -13.7009  |   0 |   0 |\t|  4 | -1e+09   | -21.7461  | -20.0861  | -18.9125  | -18.0619  | -17.3491  | -12.6023   | -2.06543 |  -0 |\n",
      "|  5 | -1e+09     | -21.8283   | -19.8471    | -18.4989   | -17.5721    | -16.7765    | -17.1934  |   0 |   0 |\t|  5 | -1e+09   | -26.3275  | -24.4814  | -23.1239  | -22.1657  | -21.3449  | -16.5003   | -2.06543 |  -0 |\n",
      "|  6 | -1e+09     | -26.3871   | -24.2497    | -22.7357   | -21.7133    | -20.8247    | -20.7589  |   0 |   0 |\t|  6 | -1e+09   | -31.189   | -29.1821  | -27.6532  | -26.5955  | -25.6762  | -20.7589   | -2.06543 |  -0 |\n",
      "|  7 | -1e+09     | -31.1804   | -28.9071    | -27.2389   | -26.1326    | -25.1604    | -24.3375  |   0 |   0 |\t|  7 | -2e+09   |  -1e+09   |  -1e+09   |  -1e+09   |  -1e+09   |  -1e+09   |  -1e+09    | -2.06543 |  -0 |\n",
      "|  8 |  0         |   0        |   0         |   0        |   0         |   0         |   0       |   0 |   0 |\t|  8 | -0       |  -0       |  -0       |  -0       |  -0       |  -0       |  -0        | -0       |  -0 |\n",
      "Insertion operation - rendered logits                                                          \tEnding operation - rendered logits\n",
      "|    |        0 |        1 |        2 |        3 |        4 |        5 |        6 |   7 |   8 |\t|    |        0 |        1 |        2 |        3 |        4 |        5 |        6 |        7 |   8 |\n",
      "|---:|---------:|---------:|---------:|---------:|---------:|---------:|---------:|----:|----:|\t|---:|---------:|---------:|---------:|---------:|---------:|---------:|---------:|---------:|----:|\n",
      "|  0 | -4.09255 | -3.96083 | -4.42589 | -3.76318 | -4.13336 | -4.27619 | -4.15462 |   0 |   0 |\t|  0 | -3.92293 | -3.91064 | -4.04895 | -4.04224 | -4.01345 | -3.99305 | -3.9835  | -3.94994 |  -0 |\n",
      "|  1 | -4.08129 | -4.00446 | -4.33385 | -3.95205 | -4.18798 | -4.36614 | -3.95363 |   0 |   0 |\t|  1 | -4.07839 | -4.06477 | -4.20587 | -4.20043 | -4.17145 | -4.15418 | -4.1461  | -4.11036 |  -0 |\n",
      "|  2 | -4.21764 | -3.84204 | -4.49888 | -3.89187 | -4.22712 | -4.23637 | -3.87608 |   0 |   0 |\t|  2 | -3.96621 | -3.95411 | -4.09372 | -4.08601 | -4.05894 | -4.03749 | -4.02961 | -3.99454 |  -0 |\n",
      "|  3 | -4.33791 | -4.01491 | -4.54454 | -3.88546 | -4.19032 | -4.12954 | -3.84289 |   0 |   0 |\t|  3 | -3.91262 | -3.89997 | -4.03962 | -4.03188 | -4.00284 | -3.9812  | -3.97417 | -3.94057 |  -0 |\n",
      "|  4 | -4.30697 | -3.9819  | -4.54392 | -3.73958 | -4.24099 | -4.25687 | -3.95723 |   0 |   0 |\t|  4 | -4.09639 | -4.0842  | -4.22596 | -4.21825 | -4.18856 | -4.16493 | -4.15797 | -4.12269 |  -0 |\n",
      "|  5 | -4.2325  | -4.0771  | -4.51395 | -3.69517 | -4.32419 | -4.16404 | -4.09088 |   0 |   0 |\t|  5 | -4.10465 | -4.09213 | -4.23083 | -4.2227  | -4.19409 | -4.17078 | -4.16195 | -4.12961 |  -0 |\n",
      "|  6 | -4.24446 | -4.09168 | -4.44645 | -3.84796 | -4.31214 | -4.02523 | -4.15558 |   0 |   0 |\t|  6 | -4.09175 | -4.07898 | -4.21674 | -4.20895 | -4.18137 | -4.15845 | -4.14854 | -4.11684 |  -0 |\n",
      "|  7 | -4.32128 | -3.94915 | -4.53222 | -3.79595 | -4.1961  | -4.04825 | -4.01839 |   0 |   0 |\t|  7 | -3.99332 | -3.97953 | -4.11643 | -4.10932 | -4.08205 | -4.05971 | -4.0509  | -4.01769 |  -0 |\n",
      "|  8 |  0       |  0       |  0       |  0       |  0       |  0       |  0       |   0 |   0 |\t|  8 | -0       | -0       | -0       | -0       | -0       | -0       | -0       | -0       |  -0 |\n"
     ]
    }
   ],
   "source": [
    "df_insBackward = pd.DataFrame(backward_prob_ins[:x_length+2, :y_length+2])\n",
    "df_endBackward = pd.DataFrame(backward_prob_end[:x_length+2, :y_length+2])\n",
    "df_insRenderedTargets = pd.DataFrame(renderedTargets[:x_length+2, :y_length+2, -V_SIZE-1:-1].sum(axis=2))\n",
    "df_endRenderedTargets = pd.DataFrame(renderedTargets[:x_length+2, :y_length+2, -1])\n",
    "df_insRenderedLogits = pd.DataFrame(renderedLogits[:x_length+2, :y_length+2, -V_SIZE-1:-1].sum(axis=2))\n",
    "df_endRenderedLogits = pd.DataFrame(renderedLogits[:x_length+2, :y_length+2, -1])\n",
    "\n",
    "display_horizontaly_two_tables(df_insBackward, df_endBackward, \"Insertion operation - cached posterior probs\", \"Ending operation - cached posterior probs\")\n",
    "display_horizontaly_two_tables(df_insRenderedTargets, df_endRenderedTargets, \"Insertion operation - rendered target probs\", \"Ending operation - rendered target probs\")\n",
    "display_horizontaly_two_tables(df_insRenderedLogits, df_endRenderedLogits, \"Insertion operation - rendered logits\", \"Ending operation - rendered logits\")\n",
    "\n",
    "# display(pd.merge(df_insBackward, df_endBackward, left_index=True, right_index=True, suffixes=(' ins', ' end')),\n",
    "#         pd.merge(df_insRenderedTargets, df_endRenderedTargets, left_index=True, right_index=True, suffixes=(' ins', ' end'))\n",
    "#         )"
   ]
  },
  {
   "attachments": {},
   "cell_type": "markdown",
   "metadata": {},
   "source": [
    "## Training round"
   ]
  },
  {
   "cell_type": "code",
   "execution_count": 17,
   "metadata": {},
   "outputs": [
    {
     "name": "stdout",
     "output_type": "stream",
     "text": [
      "Epoch 1\n",
      "------------------------------------------------------------\n",
      "Average loss: 2.900989 ; Standard deviation: 1.428382          \n",
      "------------------------------------------------------------\n",
      "\n",
      "Epoch 2\n",
      "------------------------------------------------------------\n",
      "Average loss: 1.757374 ; Standard deviation: 0.379992          \n",
      "------------------------------------------------------------\n",
      "\n",
      "Epoch 3\n",
      "------------------------------------------------------------\n",
      "Average loss: 1.363152 ; Standard deviation: 0.315343          \n",
      "------------------------------------------------------------\n",
      "\n",
      "Epoch 4\n",
      "------------------------------------------------------------\n",
      "Average loss: 1.084834 ; Standard deviation: 0.280016          \n",
      "------------------------------------------------------------\n",
      "\n",
      "Epoch 5\n",
      "------------------------------------------------------------\n",
      "Average loss: 0.877994 ; Standard deviation: 0.254205          \n",
      "------------------------------------------------------------\n",
      "\n",
      "Figure(640x480)\n"
     ]
    },
    {
     "data": {
      "image/png": "[encoded data removed]",
      "text/plain": [
       "<Figure size 640x480 with 1 Axes>"
      ]
     },
     "metadata": {},
     "output_type": "display_data"
    }
   ],
   "source": [
    "EPOCHS, LEARNING_RATE = 5, 0.01\n",
    "randomEditModel.train_models(currentReconstructions, targets_prob, MINI_BATCH_SIZE, EPOCHS, LEARNING_RATE)"
   ]
  }
 ],
 "metadata": {
  "kernelspec": {
   "display_name": "Python 3.9.10 (PyTorch)",
   "language": "python",
   "name": "notebook_torch_env"
  },
  "language_info": {
   "codemirror_mode": {
    "name": "ipython",
    "version": 3
   },
   "file_extension": ".py",
   "mimetype": "text/x-python",
   "name": "python",
   "nbconvert_exporter": "python",
   "pygments_lexer": "ipython3",
   "version": "3.9.16"
  },
  "orig_nbformat": 4
 },
 "nbformat": 4,
 "nbformat_minor": 2
}
