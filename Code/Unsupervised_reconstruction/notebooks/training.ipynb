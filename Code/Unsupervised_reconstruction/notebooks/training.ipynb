{
 "cells": [
  {
   "attachments": {},
   "cell_type": "markdown",
   "metadata": {},
   "source": [
    "# Maximisation-expectation"
   ]
  },
  {
   "attachments": {},
   "cell_type": "markdown",
   "metadata": {},
   "source": [
    "Notebook configuration"
   ]
  },
  {
   "cell_type": "code",
   "execution_count": 17,
   "metadata": {},
   "outputs": [],
   "source": [
    "from os import getcwd, chdir\n",
    "\n",
    "# set the current working directory to the repository's root, if required\n",
    "if getcwd().endswith('notebooks'):\n",
    "    chdir('./../')"
   ]
  },
  {
   "cell_type": "code",
   "execution_count": 18,
   "metadata": {},
   "outputs": [
    {
     "name": "stdout",
     "output_type": "stream",
     "text": [
      "Requirement already satisfied: tabulate in c:\\users\\thomas\\.pyenv\\pyenv-win\\versions\\3.9.10\\lib\\site-packages (0.9.0)\n"
     ]
    },
    {
     "name": "stderr",
     "output_type": "stream",
     "text": [
      "\n",
      "[notice] A new release of pip is available: 23.1.2 -> 23.2.1\n",
      "[notice] To update, run: python.exe -m pip install --upgrade pip\n"
     ]
    }
   ],
   "source": [
    "!python -m pip install tabulate\n",
    "from IPython.display import display\n",
    "import pandas as pd\n",
    "pd.set_option('display.float_format', lambda x: f'{x:.4f}')\n",
    "\n",
    "def display_horizontaly_two_tables(df:pd.DataFrame,df2:pd.DataFrame, title1:str, title2:str):\n",
    "    df_md = df.to_markdown().split('\\n')\n",
    "    df2_md = df2.to_markdown().split('\\n')\n",
    "    title_line = title1 + \" \" * (len(df_md[0])-len(title1)) + \"\\t\" + title2\n",
    "    two_tabs = \"\\n\".join([title_line] + [df_md[i] + '\\t' + df2_md[i] for i in range(len(df_md))])\n",
    "    print(two_tabs)"
   ]
  },
  {
   "attachments": {},
   "cell_type": "markdown",
   "metadata": {},
   "source": [
    "## Initial Dataset"
   ]
  },
  {
   "cell_type": "code",
   "execution_count": 19,
   "metadata": {},
   "outputs": [
    {
     "name": "stdout",
     "output_type": "stream",
     "text": [
      "|y| max = 18\n",
      "|x| max = 16\n"
     ]
    }
   ],
   "source": [
    "from data.getDataset import getCognatesSet, getIteration\n",
    "from data.vocab import computeInferenceData, vocabulary, NUMBER_IPA_CHARS\n",
    "from models.articleModels import ModernLanguages\n",
    "from models.models import InferenceData\n",
    "from Source.reconstructionModel import ReconstructionModel\n",
    "\n",
    "cognates:dict[ModernLanguages, InferenceData] = {lang:computeInferenceData(cogSet) for (lang, cogSet) in getCognatesSet().items()}\n",
    "currentReconstructions = computeInferenceData(getIteration(1).unsqueeze(-1))\n",
    "\n",
    "LSTM_INPUT_DIM = 50\n",
    "LSTM_HIDDEN_DIM = 50\n",
    "\n",
    "randomEditModel = ReconstructionModel(cognates, vocabulary, LSTM_INPUT_DIM, LSTM_HIDDEN_DIM)\n",
    "\n",
    "TEST_LANGUAGE:ModernLanguages = \"french\"\n",
    "x_maxLength = currentReconstructions[0].size()[0] - 2\n",
    "y_maxLength = cognates[TEST_LANGUAGE][0].size()[0] - 2\n",
    "print('|y| max =', y_maxLength)\n",
    "print('|x| max =', x_maxLength)"
   ]
  },
  {
   "attachments": {},
   "cell_type": "markdown",
   "metadata": {},
   "source": [
    "## Backward dynamic Program"
   ]
  },
  {
   "attachments": {},
   "cell_type": "markdown",
   "metadata": {},
   "source": [
    "Inference in edit model"
   ]
  },
  {
   "cell_type": "code",
   "execution_count": 20,
   "metadata": {},
   "outputs": [],
   "source": [
    "randomEditModel.update_modernForm_context()"
   ]
  },
  {
   "attachments": {},
   "cell_type": "markdown",
   "metadata": {},
   "source": [
    "Backward dynamic Program"
   ]
  },
  {
   "cell_type": "code",
   "execution_count": 21,
   "metadata": {},
   "outputs": [],
   "source": [
    "targets_prob = randomEditModel.backward_dynProg(currentReconstructions)"
   ]
  },
  {
   "attachments": {},
   "cell_type": "markdown",
   "metadata": {},
   "source": [
    "### Analysis"
   ]
  },
  {
   "attachments": {},
   "cell_type": "markdown",
   "metadata": {},
   "source": [
    "Test on $x :=$`\"absyrdʊ\"` and $y :=$`\"absˈyʁd\"` ($|x|=7$ and $|y|=7$)"
   ]
  },
  {
   "cell_type": "code",
   "execution_count": 22,
   "metadata": {},
   "outputs": [],
   "source": [
    "IDX = 20 # the index in the batch of the sample to be studied\n",
    "x_length, y_length = 7, 7\n",
    "\n",
    "backward_prob_dlt = targets_prob[TEST_LANGUAGE].dlt[:,:,IDX].cpu().numpy().squeeze(-1)\n",
    "backward_prob_end = targets_prob[TEST_LANGUAGE].end[:,:,IDX].cpu().numpy().squeeze(-1)\n",
    "backward_prob_sub = targets_prob[TEST_LANGUAGE].sub[:,:,IDX].cpu().numpy().squeeze(-1)\n",
    "backward_prob_ins = targets_prob[TEST_LANGUAGE].ins[:,:,IDX].cpu().numpy().squeeze(-1)"
   ]
  },
  {
   "attachments": {},
   "cell_type": "markdown",
   "metadata": {},
   "source": [
    "#### Display of cached probabilities for the substitution and the deletion operations\n",
    "\n",
    "Notice that the logarithmic probabilities that have not to be defined for these operations are automatically set to $-\\infty{}$ thanks to the recurrence mathematical relations of the backward dynamic program. So do the undefined probabilities in padding positions, thanks to the neutrality of edit model's cached inference probabilities (which equal $0$ in the log space)."
   ]
  },
  {
   "cell_type": "code",
   "execution_count": 23,
   "metadata": {},
   "outputs": [
    {
     "name": "stdout",
     "output_type": "stream",
     "text": [
      "Subsitution Operation                                                                                \tDeletion Operation\n",
      "|    |        0 |        1 |        2 |        3 |        4 |        5 |        6 |      7 |      8 |\t|    |        0 |        1 |        2 |        3 |        4 |        5 |        6 |        7 |      8 |\n",
      "|---:|---------:|---------:|---------:|---------:|---------:|---------:|---------:|-------:|-------:|\t|---:|---------:|---------:|---------:|---------:|---------:|---------:|---------:|---------:|-------:|\n",
      "|  0 | -1e+09   | -1e+09   | -1e+09   | -1e+09   | -1e+09   | -1e+09   | -1e+09   | -2e+09 | -2e+09 |\t|  0 | -1e+09   | -1e+09   | -1e+09   | -1e+09   | -1e+09   | -1e+09   | -1e+09   | -1e+09   | -2e+09 |\n",
      "|  1 | -1.28014 | -1.63294 | -2.63523 | -3.73366 | -4.56504 | -6.42776 | -8.30654 | -1e+09 | -1e+09 |\t|  1 | -1.75083 | -2.22113 | -2.66167 | -3.38659 | -3.58105 | -5.50113 | -7.07103 | -8.45073 | -1e+09 |\n",
      "|  2 | -2.17444 | -1.90081 | -2.00791 | -2.5864  | -3.2328  | -4.62132 | -6.24566 | -1e+09 | -1e+09 |\t|  2 | -2.8141  | -2.41546 | -2.1021  | -2.39637 | -2.49296 | -3.82548 | -4.97315 | -6.13415 | -1e+09 |\n",
      "|  3 | -3.26093 | -2.54903 | -2.1357  | -2.28224 | -2.75805 | -3.61021 | -4.72915 | -1e+09 | -1e+09 |\t|  3 | -3.83478 | -2.86048 | -2.14639 | -2.17912 | -1.83326 | -2.81945 | -3.67639 | -4.58176 | -1e+09 |\n",
      "|  4 | -4.16485 | -3.12026 | -2.39793 | -2.34282 | -2.1875  | -3.01838 | -3.86398 | -1e+09 | -1e+09 |\t|  4 | -5.10374 | -3.5205  | -2.56333 | -2.36074 | -1.68467 | -2.40057 | -2.90583 | -3.40027 | -1e+09 |\n",
      "|  5 | -5.31629 | -3.61627 | -2.66433 | -2.49969 | -1.91123 | -2.41761 | -3.05539 | -1e+09 | -1e+09 |\t|  5 | -6.7567  | -4.72977 | -3.48497 | -2.89461 | -1.88744 | -2.23781 | -2.37554 | -2.4624  | -1e+09 |\n",
      "|  6 | -6.86841 | -4.71989 | -3.41633 | -2.80863 | -1.77339 | -1.95082 | -2.23057 | -1e+09 | -1e+09 |\t|  6 | -9.00393 | -6.60963 | -4.9091  | -3.91063 | -2.74748 | -2.50634 | -2.16597 | -1.66934 | -1e+09 |\n",
      "|  7 | -9.00393 | -6.48354 | -4.67949 | -3.58723 | -2.35532 | -1.78462 | -1.28698 | -1e+09 | -1e+09 |\t|  7 | -1e+09   | -1e+09   | -1e+09   | -1e+09   | -1e+09   | -1e+09   | -1e+09   | -0.86142 | -1e+09 |\n",
      "|  8 | -1e+09   | -1e+09   | -1e+09   | -1e+09   | -1e+09   | -1e+09   | -1e+09   | -1e+09 | -1e+09 |\t|  8 | -1e+09   | -1e+09   | -1e+09   | -1e+09   | -1e+09   | -1e+09   | -1e+09   | -1e+09   | -1e+09 |\n"
     ]
    }
   ],
   "source": [
    "df = pd.DataFrame(backward_prob_sub[:x_length+2, :y_length+2])\n",
    "df2 = pd.DataFrame(backward_prob_dlt[:x_length+2, :y_length+2])\n",
    "\n",
    "display_horizontaly_two_tables(df, df2, \"Subsitution Operation\", \"Deletion Operation\")"
   ]
  },
  {
   "attachments": {},
   "cell_type": "markdown",
   "metadata": {},
   "source": [
    "## Rendering of the target and the logits before the loss computation"
   ]
  },
  {
   "cell_type": "code",
   "execution_count": 24,
   "metadata": {},
   "outputs": [
    {
     "name": "stdout",
     "output_type": "stream",
     "text": [
      "Targets load shape: torch.Size([858, 116])\n",
      "Logits load shape: torch.Size([858, 116])\n"
     ]
    }
   ],
   "source": [
    "MINI_BATCH_SIZE = 30\n",
    "\n",
    "miniBatchDataForLogitsComputation, miniBatchTargetsLoad = list(zip(*randomEditModel.renderMiniBatchData(currentReconstructions, targets_prob, MINI_BATCH_SIZE)))[0]\n",
    "renderedTargets = miniBatchTargetsLoad[:,IDX,:]\n",
    "renderedLogits = randomEditModel.renderLogitsForMiniBatch(*miniBatchDataForLogitsComputation)[:,IDX,:].detach()\n",
    "print(\"Targets load shape:\", renderedTargets.size())\n",
    "print(\"Logits load shape:\", renderedLogits.size())"
   ]
  },
  {
   "cell_type": "code",
   "execution_count": 25,
   "metadata": {},
   "outputs": [
    {
     "name": "stdout",
     "output_type": "stream",
     "text": [
      "(11, 14, 116)\n",
      "(11, 14, 116)\n"
     ]
    }
   ],
   "source": [
    "maxModernSequenceLength_inMiniBatch: dict[ModernLanguages, int] = {lang:data[2] for (lang, data) in miniBatchDataForLogitsComputation[1].items()} #type:ignore\n",
    "maxSampleSequenceLength_inMiniBatch: int = miniBatchDataForLogitsComputation[0][2]+1\n",
    "renderedTargets = renderedTargets.split([maxModernSequenceLength_inMiniBatch[lang]*maxSampleSequenceLength_inMiniBatch for lang in randomEditModel.languages])[randomEditModel.languages.index(TEST_LANGUAGE)].view(maxSampleSequenceLength_inMiniBatch, maxModernSequenceLength_inMiniBatch[TEST_LANGUAGE], NUMBER_IPA_CHARS*2+2).cpu().numpy()\n",
    "renderedLogits = renderedLogits.split([maxModernSequenceLength_inMiniBatch[lang]*maxSampleSequenceLength_inMiniBatch for lang in randomEditModel.languages])[randomEditModel.languages.index(TEST_LANGUAGE)].view(maxSampleSequenceLength_inMiniBatch, maxModernSequenceLength_inMiniBatch[TEST_LANGUAGE], NUMBER_IPA_CHARS*2+2).cpu().numpy()\n",
    "\n",
    "print(renderedTargets.shape)\n",
    "print(renderedLogits.shape)"
   ]
  },
  {
   "attachments": {},
   "cell_type": "markdown",
   "metadata": {},
   "source": [
    "#### Comparison of the rendered target probs format and the cached probs format\n",
    "\n",
    "A reduction of the renderedTargets has been done for the displaying. The comparison is done for the insertion and the ending operations."
   ]
  },
  {
   "cell_type": "code",
   "execution_count": 26,
   "metadata": {},
   "outputs": [
    {
     "name": "stdout",
     "output_type": "stream",
     "text": [
      "Insertion operation - cached posterior probs                                                          \tEnding operation - cached posterior probs\n",
      "|    |         0 |        1 |        2 |        3 |        4 |        5 |        6 |      7 |      8 |\t|    |         0 |        1 |        2 |        3 |        4 |        5 |        6 |         7 |      8 |\n",
      "|---:|----------:|---------:|---------:|---------:|---------:|---------:|---------:|-------:|-------:|\t|---:|----------:|---------:|---------:|---------:|---------:|---------:|---------:|----------:|-------:|\n",
      "|  0 | -0.600807 | -1.40843 | -2.27309 | -3.09524 | -4.96067 | -6.63773 | -8.45073 | -1e+09 | -1e+09 |\t|  0 | -0.794893 | -1.19125 | -1.95522 | -2.85199 | -3.26346 | -5.1676  | -6.81585 | -8.45073  | -1e+09 |\n",
      "|  1 | -1e+09    | -1.91249 | -1.85515 | -2.34739 | -3.67862 | -4.81569 | -6.37306 | -1e+09 | -1e+09 |\t|  1 | -1e+09    | -2.03802 | -1.67859 | -2.02107 | -2.36164 | -3.59119 | -4.82697 | -6.23796  | -1e+09 |\n",
      "|  2 | -1e+09    | -2.69416 | -2.26165 | -2.16894 | -3.01701 | -3.75    | -5.09449 | -1e+09 | -1e+09 |\t|  2 | -1e+09    | -3.07754 | -2.18154 | -2.08627 | -1.96154 | -2.73526 | -3.60354 | -4.81969  | -1e+09 |\n",
      "|  3 | -1e+09    | -3.82292 | -3.01649 | -2.4094  | -2.91668 | -3.2802  | -4.24795 | -1e+09 | -1e+09 |\t|  3 | -1e+09    | -4.10506 | -2.97497 | -2.56051 | -1.98188 | -2.52688 | -2.98829 | -3.76673  | -1e+09 |\n",
      "|  4 | -1e+09    | -4.66645 | -3.49666 | -2.54946 | -2.80794 | -2.69761 | -3.47759 | -1e+09 | -1e+09 |\t|  4 | -1e+09    | -5.09514 | -3.76133 | -3.14468 | -2.17286 | -2.25228 | -2.46082 | -2.95909  | -1e+09 |\n",
      "|  5 | -1e+09    | -5.66188 | -3.87272 | -2.72643 | -2.73065 | -2.34295 | -2.88175 | -1e+09 | -1e+09 |\t|  5 | -1e+09    | -6.54663 | -4.65048 | -3.68909 | -2.49634 | -2.14532 | -2.04684 | -2.27166  | -1e+09 |\n",
      "|  6 | -1e+09    | -7.05965 | -4.84462 | -3.40954 | -2.77147 | -1.92394 | -2.06575 | -1e+09 | -1e+09 |\t|  6 | -1e+09    | -8.61669 | -6.26349 | -4.87347 | -3.48109 | -2.44999 | -1.82347 | -1.45162  | -1e+09 |\n",
      "|  7 | -1e+09    | -9.00393 | -6.40619 | -4.51579 | -3.25425 | -2.01386 | -1.19954 | -1e+09 | -1e+09 |\t|  7 | -2e+09    | -1e+09   | -1e+09   | -1e+09   | -1e+09   | -1e+09   | -1e+09   | -0.549156 | -1e+09 |\n",
      "|  8 | -2e+09    | -1e+09   | -1e+09   | -1e+09   | -1e+09   | -1e+09   | -1e+09   | -1e+09 | -1e+09 |\t|  8 | -2e+09    | -1e+09   | -1e+09   | -1e+09   | -1e+09   | -1e+09   | -1e+09   | -1e+09    | -1e+09 |\n",
      "Insertion operation - rendered target probs                                                     \tEnding operation - rendered target probs\n",
      "|    |         0 |        1 |        2 |        3 |        4 |        5 |        6 |   7 |   8 |\t|    |         0 |        1 |        2 |        3 |        4 |        5 |        6 |         7 |   8 |\n",
      "|---:|----------:|---------:|---------:|---------:|---------:|---------:|---------:|----:|----:|\t|---:|----------:|---------:|---------:|---------:|---------:|---------:|---------:|----------:|----:|\n",
      "|  0 | -0.600807 | -1.40843 | -2.27309 | -3.09524 | -4.96067 | -6.63773 | -8.45073 |   0 |   0 |\t|  0 | -0.794893 | -1.19125 | -1.95522 | -2.85199 | -3.26346 | -5.1676  | -6.81585 | -8.45073  |  -0 |\n",
      "|  1 | -1e+09    | -1.91249 | -1.85515 | -2.34739 | -3.67862 | -4.81569 | -6.37306 |   0 |   0 |\t|  1 | -1e+09    | -2.03802 | -1.67859 | -2.02107 | -2.36164 | -3.59119 | -4.82697 | -6.23796  |  -0 |\n",
      "|  2 | -1e+09    | -2.69416 | -2.26165 | -2.16894 | -3.01701 | -3.75    | -5.09449 |   0 |   0 |\t|  2 | -1e+09    | -3.07754 | -2.18154 | -2.08627 | -1.96154 | -2.73526 | -3.60354 | -4.81969  |  -0 |\n",
      "|  3 | -1e+09    | -3.82292 | -3.01649 | -2.4094  | -2.91668 | -3.2802  | -4.24795 |   0 |   0 |\t|  3 | -1e+09    | -4.10506 | -2.97497 | -2.56051 | -1.98188 | -2.52688 | -2.98829 | -3.76673  |  -0 |\n",
      "|  4 | -1e+09    | -4.66645 | -3.49666 | -2.54946 | -2.80794 | -2.69761 | -3.47759 |   0 |   0 |\t|  4 | -1e+09    | -5.09514 | -3.76133 | -3.14468 | -2.17286 | -2.25228 | -2.46082 | -2.95909  |  -0 |\n",
      "|  5 | -1e+09    | -5.66188 | -3.87272 | -2.72643 | -2.73065 | -2.34295 | -2.88175 |   0 |   0 |\t|  5 | -1e+09    | -6.54663 | -4.65048 | -3.68909 | -2.49634 | -2.14532 | -2.04684 | -2.27166  |  -0 |\n",
      "|  6 | -1e+09    | -7.05965 | -4.84462 | -3.40954 | -2.77147 | -1.92394 | -2.06575 |   0 |   0 |\t|  6 | -1e+09    | -8.61669 | -6.26349 | -4.87347 | -3.48109 | -2.44999 | -1.82347 | -1.45162  |  -0 |\n",
      "|  7 | -1e+09    | -9.00393 | -6.40619 | -4.51579 | -3.25425 | -2.01386 | -1.19954 |   0 |   0 |\t|  7 | -2e+09    | -1e+09   | -1e+09   | -1e+09   | -1e+09   | -1e+09   | -1e+09   | -0.549156 |  -0 |\n",
      "|  8 |  0        |  0       |  0       |  0       |  0       |  0       |  0       |   0 |   0 |\t|  8 | -0        | -0       | -0       | -0       | -0       | -0       | -0       | -0        |  -0 |\n",
      "Insertion operation - rendered logits                                                          \tEnding operation - rendered logits\n",
      "|    |        0 |        1 |        2 |        3 |        4 |        5 |        6 |   7 |   8 |\t|    |        0 |        1 |        2 |        3 |        4 |        5 |        6 |        7 |   8 |\n",
      "|---:|---------:|---------:|---------:|---------:|---------:|---------:|---------:|----:|----:|\t|---:|---------:|---------:|---------:|---------:|---------:|---------:|---------:|---------:|----:|\n",
      "|  0 | -4.08734 | -4.20685 | -4.17425 | -3.72805 | -4.26801 | -4.06281 | -3.94457 |   0 |   0 |\t|  0 | -4.03351 | -4.02861 | -4.04548 | -4.07978 | -4.07325 | -4.02517 | -3.95824 | -3.85329 |  -0 |\n",
      "|  1 | -4.15652 | -4.127   | -4.11814 | -4.02481 | -4.12998 | -4.02709 | -3.96991 |   0 |   0 |\t|  1 | -3.87743 | -3.87318 | -3.89105 | -3.92364 | -3.9198  | -3.87073 | -3.80441 | -3.7011  |  -0 |\n",
      "|  2 | -4.0903  | -4.03415 | -4.2187  | -3.98505 | -4.14643 | -4.06944 | -4.02125 |   0 |   0 |\t|  2 | -3.98179 | -3.97733 | -3.99606 | -4.02861 | -4.02493 | -3.97583 | -3.90817 | -3.80446 |  -0 |\n",
      "|  3 | -3.99017 | -4.19578 | -4.3036  | -4.022   | -4.27055 | -4.0438  | -3.95072 |   0 |   0 |\t|  3 | -4.02201 | -4.01644 | -4.0364  | -4.06706 | -4.06256 | -4.01228 | -3.94685 | -3.84134 |  -0 |\n",
      "|  4 | -4.03206 | -4.22601 | -4.28229 | -3.83276 | -4.32886 | -4.01626 | -3.89334 |   0 |   0 |\t|  4 | -4.14958 | -4.14307 | -4.16117 | -4.19492 | -4.18694 | -4.13676 | -4.07189 | -3.96308 |  -0 |\n",
      "|  5 | -4.03764 | -4.18291 | -4.24488 | -3.77955 | -4.31191 | -4.13364 | -3.9788  |   0 |   0 |\t|  5 | -3.99788 | -3.99303 | -4.0114  | -4.04273 | -4.03706 | -3.98719 | -3.9229  | -3.81607 |  -0 |\n",
      "|  6 | -4.05896 | -4.20512 | -4.24181 | -3.8317  | -4.25087 | -4.0944  | -3.90645 |   0 |   0 |\t|  6 | -3.96916 | -3.96464 | -3.9833  | -4.01557 | -4.00833 | -3.95887 | -3.89439 | -3.78863 |  -0 |\n",
      "|  7 | -4.14845 | -4.24332 | -4.17684 | -3.84724 | -4.05983 | -4.04881 | -4.00373 |   0 |   0 |\t|  7 | -3.76036 | -3.75574 | -3.7725  | -3.80676 | -3.79833 | -3.75    | -3.68528 | -3.58193 |  -0 |\n",
      "|  8 |  0       |  0       |  0       |  0       |  0       |  0       |  0       |   0 |   0 |\t|  8 | -0       | -0       | -0       | -0       | -0       | -0       | -0       | -0       |  -0 |\n"
     ]
    }
   ],
   "source": [
    "df_insBackward = pd.DataFrame(backward_prob_ins[:x_length+2, :y_length+2])\n",
    "df_endBackward = pd.DataFrame(backward_prob_end[:x_length+2, :y_length+2])\n",
    "df_insRenderedTargets = pd.DataFrame(renderedTargets[:x_length+2, :y_length+2, -NUMBER_IPA_CHARS-1:-1].sum(axis=2))\n",
    "df_endRenderedTargets = pd.DataFrame(renderedTargets[:x_length+2, :y_length+2, -1])\n",
    "df_insRenderedLogits = pd.DataFrame(renderedLogits[:x_length+2, :y_length+2, -NUMBER_IPA_CHARS-1:-1].sum(axis=2))\n",
    "df_endRenderedLogits = pd.DataFrame(renderedLogits[:x_length+2, :y_length+2, -1])\n",
    "\n",
    "display_horizontaly_two_tables(df_insBackward, df_endBackward, \"Insertion operation - cached posterior probs\", \"Ending operation - cached posterior probs\")\n",
    "display_horizontaly_two_tables(df_insRenderedTargets, df_endRenderedTargets, \"Insertion operation - rendered target probs\", \"Ending operation - rendered target probs\")\n",
    "display_horizontaly_two_tables(df_insRenderedLogits, df_endRenderedLogits, \"Insertion operation - rendered logits\", \"Ending operation - rendered logits\")\n",
    "\n",
    "# display(pd.merge(df_insBackward, df_endBackward, left_index=True, right_index=True, suffixes=(' ins', ' end')),\n",
    "#         pd.merge(df_insRenderedTargets, df_endRenderedTargets, left_index=True, right_index=True, suffixes=(' ins', ' end'))\n",
    "#         )"
   ]
  },
  {
   "attachments": {},
   "cell_type": "markdown",
   "metadata": {},
   "source": [
    "## Training round"
   ]
  },
  {
   "cell_type": "code",
   "execution_count": 27,
   "metadata": {},
   "outputs": [
    {
     "name": "stdout",
     "output_type": "stream",
     "text": [
      "Epoch 1\n",
      "------------------------------------------------------------\n",
      "Average loss: 0.085675 ; Standard deviation: 0.647770          \n",
      "------------------------------------------------------------\n",
      "\n",
      "Epoch 2\n",
      "------------------------------------------------------------\n",
      "Average loss: 0.054176 ; Standard deviation: 0.421916          \n",
      "------------------------------------------------------------\n",
      "\n",
      "Epoch 3\n",
      "------------------------------------------------------------\n",
      "Average loss: 0.014361 ; Standard deviation: 0.125289          \n",
      "------------------------------------------------------------\n",
      "\n",
      "Epoch 4\n",
      "------------------------------------------------------------\n",
      "Average loss: 0.002041 ; Standard deviation: 0.014960          \n",
      "------------------------------------------------------------\n",
      "\n",
      "Epoch 5\n",
      "------------------------------------------------------------\n",
      "Average loss: -0.003745 ; Standard deviation: 0.027526          \n",
      "------------------------------------------------------------\n",
      "\n",
      "Figure(640x480)\n"
     ]
    },
    {
     "data": {
      "image/png": "[encoded data removed]",
      "text/plain": [
       "<Figure size 640x480 with 1 Axes>"
      ]
     },
     "metadata": {},
     "output_type": "display_data"
    }
   ],
   "source": [
    "EPOCHS, LEARNING_RATE = 5, 0.01\n",
    "randomEditModel.train_models(currentReconstructions, targets_prob, MINI_BATCH_SIZE, EPOCHS, LEARNING_RATE)"
   ]
  }
 ],
 "metadata": {
  "kernelspec": {
   "display_name": "Python 3",
   "language": "python",
   "name": "python3"
  },
  "language_info": {
   "codemirror_mode": {
    "name": "ipython",
    "version": 3
   },
   "file_extension": ".py",
   "mimetype": "text/x-python",
   "name": "python",
   "nbconvert_exporter": "python",
   "pygments_lexer": "ipython3",
   "version": "3.9.10"
  },
  "orig_nbformat": 4
 },
 "nbformat": 4,
 "nbformat_minor": 2
}
