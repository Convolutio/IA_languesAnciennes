{
 "cells": [
  {
   "attachments": {},
   "cell_type": "markdown",
   "metadata": {},
   "source": [
    "# Maximisation-expectation"
   ]
  },
  {
   "attachments": {},
   "cell_type": "markdown",
   "metadata": {},
   "source": [
    "Notebook configuration"
   ]
  },
  {
   "cell_type": "code",
   "execution_count": 1,
   "metadata": {},
   "outputs": [],
   "source": [
    "from os import getcwd, chdir\n",
    "\n",
    "# set the current working directory to the repository's root, if required\n",
    "if getcwd().endswith('notebooks'):\n",
    "    chdir('./../')"
   ]
  },
  {
   "cell_type": "code",
   "execution_count": 2,
   "metadata": {},
   "outputs": [
    {
     "name": "stderr",
     "output_type": "stream",
     "text": [
      "\n",
      "[notice] A new release of pip is available: 23.1.2 -> 23.2.1\n",
      "[notice] To update, run: python.exe -m pip install --upgrade pip\n"
     ]
    },
    {
     "name": "stdout",
     "output_type": "stream",
     "text": [
      "Requirement already satisfied: tabulate in c:\\users\\thomas\\.pyenv\\pyenv-win\\versions\\3.9.10\\lib\\site-packages (0.9.0)\n"
     ]
    }
   ],
   "source": [
    "!python -m pip install tabulate\n",
    "from IPython.display import display\n",
    "import pandas as pd\n",
    "pd.set_option('display.float_format', lambda x: f'{x:.4f}')\n",
    "\n",
    "def display_horizontaly_two_tables(df:pd.DataFrame,df2:pd.DataFrame, title1:str, title2:str):\n",
    "    df_md = df.to_markdown().split('\\n')\n",
    "    df2_md = df2.to_markdown().split('\\n')\n",
    "    title_line = title1 + \" \" * (len(df_md[0])-len(title1)) + \"\\t\" + title2\n",
    "    two_tabs = \"\\n\".join([title_line] + [df_md[i] + '\\t' + df2_md[i] for i in range(len(df_md))])\n",
    "    print(two_tabs)"
   ]
  },
  {
   "attachments": {},
   "cell_type": "markdown",
   "metadata": {},
   "source": [
    "## Initial Dataset"
   ]
  },
  {
   "cell_type": "code",
   "execution_count": 3,
   "metadata": {},
   "outputs": [
    {
     "name": "stdout",
     "output_type": "stream",
     "text": [
      "|y| max = 18\n",
      "|x| max = 16\n"
     ]
    }
   ],
   "source": [
    "from data.getDataset import getCognatesSet, getIteration\n",
    "from data.vocab import computeInferenceData, V_SIZE\n",
    "from torch.nn.utils.rnn import pad_sequence\n",
    "from Types.articleModels import ModernLanguages\n",
    "from Types.models import InferenceData\n",
    "from Source.reconstructionModel import ReconstructionModel\n",
    "\n",
    "cognates:dict[ModernLanguages, InferenceData] = {lang:computeInferenceData(pad_sequence(cogSet, batch_first=False)) for (lang, cogSet) in getCognatesSet().items()}\n",
    "currentReconstructions = computeInferenceData(pad_sequence(getIteration(1), batch_first=False).unsqueeze(-1))\n",
    "\n",
    "voc_size = V_SIZE\n",
    "LSTM_INPUT_DIM = 50\n",
    "LSTM_HIDDEN_DIM = 50\n",
    "\n",
    "randomEditModel = ReconstructionModel(cognates, voc_size, LSTM_INPUT_DIM, LSTM_HIDDEN_DIM)\n",
    "\n",
    "TEST_LANGUAGE:ModernLanguages = \"french\"\n",
    "x_maxLength = currentReconstructions[0].size()[0] - 2\n",
    "y_maxLength = cognates[TEST_LANGUAGE][0].size()[0] - 2\n",
    "print('|y| max =', y_maxLength)\n",
    "print('|x| max =', x_maxLength)"
   ]
  },
  {
   "attachments": {},
   "cell_type": "markdown",
   "metadata": {},
   "source": [
    "## Backward dynamic Program"
   ]
  },
  {
   "attachments": {},
   "cell_type": "markdown",
   "metadata": {},
   "source": [
    "Inference in edit model"
   ]
  },
  {
   "cell_type": "code",
   "execution_count": 4,
   "metadata": {},
   "outputs": [],
   "source": [
    "randomEditModel.update_modernForm_context()"
   ]
  },
  {
   "attachments": {},
   "cell_type": "markdown",
   "metadata": {},
   "source": [
    "Backward dynamic Program"
   ]
  },
  {
   "cell_type": "code",
   "execution_count": 5,
   "metadata": {},
   "outputs": [],
   "source": [
    "targets_prob = randomEditModel.backward_dynProg(currentReconstructions)"
   ]
  },
  {
   "attachments": {},
   "cell_type": "markdown",
   "metadata": {},
   "source": [
    "### Analysis"
   ]
  },
  {
   "attachments": {},
   "cell_type": "markdown",
   "metadata": {},
   "source": [
    "Test on $x :=$`\"absyrdʊ\"` and $y :=$`\"absˈyʁd\"` ($|x|=7$ and $|y|=7$)"
   ]
  },
  {
   "cell_type": "code",
   "execution_count": 6,
   "metadata": {},
   "outputs": [],
   "source": [
    "IDX = 20 # the index in the batch of the sample to be studied\n",
    "x_length, y_length = 7, 7\n",
    "\n",
    "backward_prob_dlt = targets_prob[TEST_LANGUAGE].dlt[:,:,IDX].cpu().numpy().squeeze(-1)\n",
    "backward_prob_end = targets_prob[TEST_LANGUAGE].end[:,:,IDX].cpu().numpy().squeeze(-1)\n",
    "backward_prob_sub = targets_prob[TEST_LANGUAGE].sub[:,:,IDX].cpu().numpy().squeeze(-1)\n",
    "backward_prob_ins = targets_prob[TEST_LANGUAGE].ins[:,:,IDX].cpu().numpy().squeeze(-1)"
   ]
  },
  {
   "attachments": {},
   "cell_type": "markdown",
   "metadata": {},
   "source": [
    "#### Display of cached probabilities for the substitution and the deletion operations\n",
    "\n",
    "Notice that the logarithmic probabilities that have not to be defined for these operations are automatically set to $-\\infty{}$ thanks to the recurrence mathematical relations of the backward dynamic program. So do the undefined probabilities in padding positions, thanks to the neutrality of edit model's cached inference probabilities (which equal $0$ in the log space)."
   ]
  },
  {
   "cell_type": "code",
   "execution_count": 7,
   "metadata": {},
   "outputs": [
    {
     "name": "stdout",
     "output_type": "stream",
     "text": [
      "Subsitution Operation                                                                                \tDeletion Operation\n",
      "|    |        0 |        1 |        2 |        3 |        4 |        5 |        6 |      7 |      8 |\t|    |        0 |        1 |        2 |        3 |        4 |        5 |        6 |        7 |      8 |\n",
      "|---:|---------:|---------:|---------:|---------:|---------:|---------:|---------:|-------:|-------:|\t|---:|---------:|---------:|---------:|---------:|---------:|---------:|---------:|---------:|-------:|\n",
      "|  0 | -1e+09   | -1e+09   | -1e+09   | -1e+09   | -1e+09   | -1e+09   | -1e+09   | -2e+09 | -2e+09 |\t|  0 | -1e+09   | -1e+09   | -1e+09   | -1e+09   | -1e+09   | -1e+09   | -1e+09   | -1e+09   | -2e+09 |\n",
      "|  1 | -1.46277 | -2.06448 | -2.6901  | -3.7001  | -4.3989  | -5.58043 | -7.9897  | -1e+09 | -1e+09 |\t|  1 | -1.42681 | -1.9572  | -2.62007 | -3.1898  | -3.75215 | -4.57969 | -5.73576 | -8.2258  | -1e+09 |\n",
      "|  2 | -1.91928 | -1.96403 | -2.23038 | -2.82901 | -3.2146  | -3.95752 | -5.93383 | -1e+09 | -1e+09 |\t|  2 | -2.3713  | -2.19184 | -2.36455 | -2.57514 | -2.85451 | -3.40831 | -4.10744 | -6.13395 | -1e+09 |\n",
      "|  3 | -2.77199 | -2.20953 | -2.0884  | -2.29248 | -2.50926 | -3.11983 | -4.51336 | -1e+09 | -1e+09 |\t|  3 | -3.47953 | -2.75769 | -2.64936 | -2.47435 | -2.48043 | -2.64611 | -2.94501 | -4.61085 | -1e+09 |\n",
      "|  4 | -3.78361 | -2.85236 | -2.57313 | -2.33227 | -2.18217 | -2.34856 | -3.47979 | -1e+09 | -1e+09 |\t|  4 | -4.81816 | -3.52378 | -3.02409 | -2.58238 | -2.42081 | -2.24218 | -2.14951 | -3.3909  | -1e+09 |\n",
      "|  5 | -5.01337 | -3.52497 | -2.8292  | -2.4916  | -2.26037 | -1.96596 | -2.23725 | -1e+09 | -1e+09 |\t|  5 | -6.54788 | -4.93891 | -4.15719 | -3.2192  | -2.79859 | -2.35203 | -1.86071 | -2.35276 | -1e+09 |\n",
      "|  6 | -6.6892  | -4.86279 | -3.87015 | -2.92384 | -2.40367 | -1.91421 | -1.85158 | -1e+09 | -1e+09 |\t|  6 | -8.57446 | -6.84981 | -5.81682 | -4.52648 | -3.67236 | -3.0792  | -1.80569 | -1.3064  | -1e+09 |\n",
      "|  7 | -8.57446 | -6.71112 | -5.50205 | -4.18421 | -3.12399 | -2.4468  | -1.20928 | -1e+09 | -1e+09 |\t|  7 | -1e+09   | -1e+09   | -1e+09   | -1e+09   | -1e+09   | -1e+09   | -1e+09   | -0.59726 | -1e+09 |\n",
      "|  8 | -1e+09   | -1e+09   | -1e+09   | -1e+09   | -1e+09   | -1e+09   | -1e+09   | -1e+09 | -1e+09 |\t|  8 | -1e+09   | -1e+09   | -1e+09   | -1e+09   | -1e+09   | -1e+09   | -1e+09   | -1e+09   | -1e+09 |\n"
     ]
    }
   ],
   "source": [
    "df = pd.DataFrame(backward_prob_sub[:x_length+2, :y_length+2])\n",
    "df2 = pd.DataFrame(backward_prob_dlt[:x_length+2, :y_length+2])\n",
    "\n",
    "display_horizontaly_two_tables(df, df2, \"Subsitution Operation\", \"Deletion Operation\")"
   ]
  },
  {
   "attachments": {},
   "cell_type": "markdown",
   "metadata": {},
   "source": [
    "## Rendering of the target and the logits before the loss computation"
   ]
  },
  {
   "cell_type": "code",
   "execution_count": 8,
   "metadata": {},
   "outputs": [
    {
     "name": "stdout",
     "output_type": "stream",
     "text": [
      "Targets load shape: torch.Size([858, 118])\n",
      "Logits load shape: torch.Size([858, 118])\n"
     ]
    }
   ],
   "source": [
    "MINI_BATCH_SIZE = 30\n",
    "\n",
    "miniBatchDataForLogitsComputation, miniBatchTargetsLoad = list(zip(*randomEditModel.renderMiniBatchData(currentReconstructions, targets_prob, MINI_BATCH_SIZE)))[0]\n",
    "renderedTargets = miniBatchTargetsLoad[:,IDX,:]\n",
    "renderedLogits = randomEditModel.renderLogitsForMiniBatch(*miniBatchDataForLogitsComputation)[:,IDX,:].detach()\n",
    "print(\"Targets load shape:\", renderedTargets.size())\n",
    "print(\"Logits load shape:\", renderedLogits.size())"
   ]
  },
  {
   "cell_type": "code",
   "execution_count": 9,
   "metadata": {},
   "outputs": [
    {
     "name": "stdout",
     "output_type": "stream",
     "text": [
      "(11, 14, 118)\n",
      "(11, 14, 118)\n"
     ]
    }
   ],
   "source": [
    "maxModernSequenceLength_inMiniBatch: dict[ModernLanguages, int] = {lang:data[2] for (lang, data) in miniBatchDataForLogitsComputation[1].items()} #type:ignore\n",
    "maxSampleSequenceLength_inMiniBatch: int = miniBatchDataForLogitsComputation[0][2]+1\n",
    "renderedTargets = renderedTargets.split([maxModernSequenceLength_inMiniBatch[lang]*maxSampleSequenceLength_inMiniBatch for lang in randomEditModel.languages])[randomEditModel.languages.index(TEST_LANGUAGE)].view(maxSampleSequenceLength_inMiniBatch, maxModernSequenceLength_inMiniBatch[TEST_LANGUAGE], voc_size*2+2).cpu().numpy()\n",
    "renderedLogits = renderedLogits.split([maxModernSequenceLength_inMiniBatch[lang]*maxSampleSequenceLength_inMiniBatch for lang in randomEditModel.languages])[randomEditModel.languages.index(TEST_LANGUAGE)].view(maxSampleSequenceLength_inMiniBatch, maxModernSequenceLength_inMiniBatch[TEST_LANGUAGE], voc_size*2+2).cpu().numpy()\n",
    "\n",
    "print(renderedTargets.shape)\n",
    "print(renderedLogits.shape)"
   ]
  },
  {
   "attachments": {},
   "cell_type": "markdown",
   "metadata": {},
   "source": [
    "#### Comparison of the rendered target probs format and the cached probs format\n",
    "\n",
    "A reduction of the renderedTargets has been done for the displaying. The comparison is done for the insertion and the ending operations."
   ]
  },
  {
   "cell_type": "code",
   "execution_count": 10,
   "metadata": {},
   "outputs": [
    {
     "name": "stdout",
     "output_type": "stream",
     "text": [
      "Insertion operation - cached posterior probs                                                         \tEnding operation - cached posterior probs\n",
      "|    |        0 |        1 |        2 |        3 |        4 |        5 |        6 |      7 |      8 |\t|    |         0 |        1 |        2 |        3 |        4 |        5 |        6 |         7 |      8 |\n",
      "|---:|---------:|---------:|---------:|---------:|---------:|---------:|---------:|-------:|-------:|\t|---:|----------:|---------:|---------:|---------:|---------:|---------:|---------:|----------:|-------:|\n",
      "|  0 | -0.63803 | -1.34632 | -2.12424 | -2.92579 | -4.02496 | -5.56358 | -8.2258  | -1e+09 | -1e+09 |\t|  0 | -0.751485 | -1.31626 | -1.96132 | -2.7196  | -3.33098 | -4.26663 | -5.63593 | -8.2258   | -1e+09 |\n",
      "|  1 | -1e+09   | -2.11327 | -2.12825 | -2.37639 | -3.13917 | -4.29327 | -6.46216 | -1e+09 | -1e+09 |\t|  1 | -1e+09    | -2.20047 | -2.05042 | -2.3641  | -2.59981 | -3.17129 | -4.14334 | -6.26572  | -1e+09 |\n",
      "|  2 | -1e+09   | -2.46236 | -2.07996 | -2.09287 | -2.5909  | -3.40732 | -5.27323 | -1e+09 | -1e+09 |\t|  2 | -1e+09    | -2.78905 | -2.2967  | -2.21558 | -2.23072 | -2.50111 | -3.0552  | -4.8568   | -1e+09 |\n",
      "|  3 | -1e+09   | -3.24986 | -2.36096 | -2.04204 | -2.18178 | -2.75888 | -4.36039 | -1e+09 | -1e+09 |\t|  3 | -1e+09    | -3.73984 | -2.91504 | -2.4253  | -2.13759 | -2.03404 | -2.35647 | -3.74081  | -1e+09 |\n",
      "|  4 | -1e+09   | -4.15965 | -3.05311 | -2.57258 | -2.33248 | -2.51478 | -3.48629 | -1e+09 | -1e+09 |\t|  4 | -1e+09    | -4.94381 | -3.64546 | -3.05399 | -2.57232 | -2.04817 | -1.9257  | -2.78989  | -1e+09 |\n",
      "|  5 | -1e+09   | -5.29386 | -3.63841 | -2.80023 | -2.42286 | -2.35704 | -2.67458 | -1e+09 | -1e+09 |\t|  5 | -1e+09    | -6.42155 | -4.80595 | -3.70671 | -2.90214 | -2.31995 | -1.79706 | -1.73905  | -1e+09 |\n",
      "|  6 | -1e+09   | -6.82467 | -4.8647  | -3.72331 | -2.82488 | -2.21524 | -2.09937 | -1e+09 | -1e+09 |\t|  6 | -1e+09    | -8.75514 | -6.81121 | -5.42263 | -3.98648 | -3.20463 | -2.00953 | -1.27467  | -1e+09 |\n",
      "|  7 | -1e+09   | -8.57446 | -6.56688 | -5.20581 | -3.87671 | -2.738   | -1.88869 | -1e+09 | -1e+09 |\t|  7 | -2e+09    | -1e+09   | -1e+09   | -1e+09   | -1e+09   | -1e+09   | -1e+09   | -0.799213 | -1e+09 |\n",
      "|  8 | -2e+09   | -1e+09   | -1e+09   | -1e+09   | -1e+09   | -1e+09   | -1e+09   | -1e+09 | -1e+09 |\t|  8 | -2e+09    | -1e+09   | -1e+09   | -1e+09   | -1e+09   | -1e+09   | -1e+09   | -1e+09    | -1e+09 |\n",
      "Insertion operation - rendered target probs                                                    \tEnding operation - rendered target probs\n",
      "|    |        0 |        1 |        2 |        3 |        4 |        5 |        6 |   7 |   8 |\t|    |         0 |        1 |        2 |        3 |        4 |        5 |        6 |         7 |   8 |\n",
      "|---:|---------:|---------:|---------:|---------:|---------:|---------:|---------:|----:|----:|\t|---:|----------:|---------:|---------:|---------:|---------:|---------:|---------:|----------:|----:|\n",
      "|  0 | -0.63803 | -1.34632 | -2.12424 | -2.92579 | -4.02496 | -5.56358 | -8.2258  |   0 |   0 |\t|  0 | -0.751485 | -1.31626 | -1.96132 | -2.7196  | -3.33098 | -4.26663 | -5.63593 | -8.2258   |  -0 |\n",
      "|  1 | -1e+09   | -2.11327 | -2.12825 | -2.37639 | -3.13917 | -4.29327 | -6.46216 |   0 |   0 |\t|  1 | -1e+09    | -2.20047 | -2.05042 | -2.3641  | -2.59981 | -3.17129 | -4.14334 | -6.26572  |  -0 |\n",
      "|  2 | -1e+09   | -2.46236 | -2.07996 | -2.09287 | -2.5909  | -3.40732 | -5.27323 |   0 |   0 |\t|  2 | -1e+09    | -2.78905 | -2.2967  | -2.21558 | -2.23072 | -2.50111 | -3.0552  | -4.8568   |  -0 |\n",
      "|  3 | -1e+09   | -3.24986 | -2.36096 | -2.04204 | -2.18178 | -2.75888 | -4.36039 |   0 |   0 |\t|  3 | -1e+09    | -3.73984 | -2.91504 | -2.4253  | -2.13759 | -2.03404 | -2.35647 | -3.74081  |  -0 |\n",
      "|  4 | -1e+09   | -4.15965 | -3.05311 | -2.57258 | -2.33248 | -2.51478 | -3.48629 |   0 |   0 |\t|  4 | -1e+09    | -4.94381 | -3.64546 | -3.05399 | -2.57232 | -2.04817 | -1.9257  | -2.78989  |  -0 |\n",
      "|  5 | -1e+09   | -5.29386 | -3.63841 | -2.80023 | -2.42286 | -2.35704 | -2.67458 |   0 |   0 |\t|  5 | -1e+09    | -6.42155 | -4.80595 | -3.70671 | -2.90214 | -2.31995 | -1.79706 | -1.73905  |  -0 |\n",
      "|  6 | -1e+09   | -6.82467 | -4.8647  | -3.72331 | -2.82488 | -2.21524 | -2.09937 |   0 |   0 |\t|  6 | -1e+09    | -8.75514 | -6.81121 | -5.42263 | -3.98648 | -3.20463 | -2.00953 | -1.27467  |  -0 |\n",
      "|  7 | -1e+09   | -8.57446 | -6.56688 | -5.20581 | -3.87671 | -2.738   | -1.88869 |   0 |   0 |\t|  7 | -2e+09    | -1e+09   | -1e+09   | -1e+09   | -1e+09   | -1e+09   | -1e+09   | -0.799213 |  -0 |\n",
      "|  8 |  0       |  0       |  0       |  0       |  0       |  0       |  0       |   0 |   0 |\t|  8 | -0        | -0       | -0       | -0       | -0       | -0       | -0       | -0        |  -0 |\n",
      "Insertion operation - rendered logits                                                          \tEnding operation - rendered logits\n",
      "|    |        0 |        1 |        2 |        3 |        4 |        5 |        6 |   7 |   8 |\t|    |        0 |        1 |        2 |        3 |        4 |        5 |        6 |        7 |   8 |\n",
      "|---:|---------:|---------:|---------:|---------:|---------:|---------:|---------:|----:|----:|\t|---:|---------:|---------:|---------:|---------:|---------:|---------:|---------:|---------:|----:|\n",
      "|  0 | -3.85278 | -4.23854 | -4.08282 | -4.13128 | -3.95683 | -4.22535 | -4.20116 |   0 |   0 |\t|  0 | -4.29227 | -4.35378 | -4.27556 | -4.23239 | -4.2027  | -4.19671 | -4.19147 | -4.28042 |  -0 |\n",
      "|  1 | -3.93633 | -4.15895 | -4.16508 | -4.08421 | -3.98417 | -4.16984 | -4.13294 |   0 |   0 |\t|  1 | -4.31701 | -4.37993 | -4.30161 | -4.2585  | -4.22778 | -4.22266 | -4.21682 | -4.30437 |  -0 |\n",
      "|  2 | -3.91389 | -4.13947 | -4.01475 | -4.10542 | -3.9711  | -4.15446 | -4.28274 |   0 |   0 |\t|  2 | -4.32251 | -4.38557 | -4.30664 | -4.26454 | -4.23394 | -4.22785 | -4.22191 | -4.31047 |  -0 |\n",
      "|  3 | -3.86904 | -4.18291 | -3.93702 | -4.13809 | -3.93968 | -4.17635 | -4.36018 |   0 |   0 |\t|  3 | -4.15691 | -4.21976 | -4.14261 | -4.09993 | -4.0698  | -4.06362 | -4.05669 | -4.14535 |  -0 |\n",
      "|  4 | -3.90314 | -4.07016 | -3.9632  | -4.23983 | -3.95868 | -4.27273 | -4.25311 |   0 |   0 |\t|  4 | -4.29627 | -4.35914 | -4.28136 | -4.23804 | -4.20647 | -4.20136 | -4.19553 | -4.28369 |  -0 |\n",
      "|  5 | -3.78001 | -4.2147  | -3.99888 | -4.12516 | -4.03439 | -4.26653 | -4.1929  |   0 |   0 |\t|  5 | -4.0995  | -4.15907 | -4.08251 | -4.03833 | -4.01005 | -4.00184 | -3.99808 | -4.0875  |  -0 |\n",
      "|  6 | -3.84771 | -4.10538 | -4.02081 | -4.12075 | -4.09529 | -4.19294 | -4.17686 |   0 |   0 |\t|  6 | -4.11615 | -4.17379 | -4.09511 | -4.05248 | -4.02474 | -4.01682 | -4.01456 | -4.10181 |  -0 |\n",
      "|  7 | -3.91195 | -4.14226 | -4.03556 | -4.34493 | -3.94708 | -4.08421 | -4.37071 |   0 |   0 |\t|  7 | -4.23301 | -4.29649 | -4.21906 | -4.17597 | -4.1459  | -4.13908 | -4.13296 | -4.22131 |  -0 |\n",
      "|  8 |  0       |  0       |  0       |  0       |  0       |  0       |  0       |   0 |   0 |\t|  8 | -0       | -0       | -0       | -0       | -0       | -0       | -0       | -0       |  -0 |\n"
     ]
    }
   ],
   "source": [
    "df_insBackward = pd.DataFrame(backward_prob_ins[:x_length+2, :y_length+2])\n",
    "df_endBackward = pd.DataFrame(backward_prob_end[:x_length+2, :y_length+2])\n",
    "df_insRenderedTargets = pd.DataFrame(renderedTargets[:x_length+2, :y_length+2, -V_SIZE-1:-1].sum(axis=2))\n",
    "df_endRenderedTargets = pd.DataFrame(renderedTargets[:x_length+2, :y_length+2, -1])\n",
    "df_insRenderedLogits = pd.DataFrame(renderedLogits[:x_length+2, :y_length+2, -V_SIZE-1:-1].sum(axis=2))\n",
    "df_endRenderedLogits = pd.DataFrame(renderedLogits[:x_length+2, :y_length+2, -1])\n",
    "\n",
    "display_horizontaly_two_tables(df_insBackward, df_endBackward, \"Insertion operation - cached posterior probs\", \"Ending operation - cached posterior probs\")\n",
    "display_horizontaly_two_tables(df_insRenderedTargets, df_endRenderedTargets, \"Insertion operation - rendered target probs\", \"Ending operation - rendered target probs\")\n",
    "display_horizontaly_two_tables(df_insRenderedLogits, df_endRenderedLogits, \"Insertion operation - rendered logits\", \"Ending operation - rendered logits\")\n",
    "\n",
    "# display(pd.merge(df_insBackward, df_endBackward, left_index=True, right_index=True, suffixes=(' ins', ' end')),\n",
    "#         pd.merge(df_insRenderedTargets, df_endRenderedTargets, left_index=True, right_index=True, suffixes=(' ins', ' end'))\n",
    "#         )"
   ]
  },
  {
   "attachments": {},
   "cell_type": "markdown",
   "metadata": {},
   "source": [
    "## Training round"
   ]
  },
  {
   "cell_type": "code",
   "execution_count": 11,
   "metadata": {},
   "outputs": [
    {
     "name": "stdout",
     "output_type": "stream",
     "text": [
      "Epoch 1\n",
      "------------------------------------------------------------\n",
      "Average loss: -0.525705 ; Standard deviation: 1.252229          \n",
      "------------------------------------------------------------\n",
      "\n",
      "Epoch 2\n",
      "------------------------------------------------------------\n",
      "Average loss: -1.799143 ; Standard deviation: 0.449534          \n",
      "------------------------------------------------------------\n",
      "\n",
      "Epoch 3\n",
      "------------------------------------------------------------\n",
      "Average loss: -2.206631 ; Standard deviation: 0.493868          \n",
      "------------------------------------------------------------\n",
      "\n",
      "Epoch 4\n",
      "------------------------------------------------------------\n",
      "Average loss: -2.451300 ; Standard deviation: 0.526853          \n",
      "------------------------------------------------------------\n",
      "\n",
      "Epoch 5\n",
      "------------------------------------------------------------\n",
      "Average loss: -2.610863 ; Standard deviation: 0.550287          \n",
      "------------------------------------------------------------\n",
      "\n",
      "Figure(640x480)\n"
     ]
    },
    {
     "data": {
      "image/png": "[encoded data removed]",
      "text/plain": [
       "<Figure size 640x480 with 1 Axes>"
      ]
     },
     "metadata": {},
     "output_type": "display_data"
    }
   ],
   "source": [
    "EPOCHS, LEARNING_RATE = 5, 0.01\n",
    "randomEditModel.train_models(currentReconstructions, targets_prob, MINI_BATCH_SIZE, EPOCHS, LEARNING_RATE)"
   ]
  }
 ],
 "metadata": {
  "kernelspec": {
   "display_name": "Python 3",
   "language": "python",
   "name": "python3"
  },
  "language_info": {
   "codemirror_mode": {
    "name": "ipython",
    "version": 3
   },
   "file_extension": ".py",
   "mimetype": "text/x-python",
   "name": "python",
   "nbconvert_exporter": "python",
   "pygments_lexer": "ipython3",
   "version": "3.9.10"
  },
  "orig_nbformat": 4
 },
 "nbformat": 4,
 "nbformat_minor": 2
}
