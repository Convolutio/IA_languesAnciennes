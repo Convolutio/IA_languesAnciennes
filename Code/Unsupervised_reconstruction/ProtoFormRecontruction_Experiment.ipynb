{
  "nbformat": 4,
  "nbformat_minor": 0,
  "metadata": {
    "colab": {
      "provenance": [],
      "authorship_tag": "ABX9TyNrvSXqD9KrcrbWCniyyZvB",
      "include_colab_link": true
    },
    "kernelspec": {
      "name": "python3",
      "display_name": "Python 3"
    },
    "language_info": {
      "name": "python"
    }
  },
  "cells": [
    {
      "cell_type": "markdown",
      "metadata": {
        "id": "view-in-github",
        "colab_type": "text"
      },
      "source": [
        "<a href=\"https://colab.research.google.com/github/PilorumNatum/IA_languesAnciennes/blob/code/Code/Unsupervised_reconstruction/ProtoFormRecontruction_Experiment.ipynb\" target=\"_parent\"><img src=\"https://colab.research.google.com/assets/colab-badge.svg\" alt=\"Open In Colab\"/></a>"
      ]
    },
    {
      "cell_type": "markdown",
      "source": [
        "# Approche neuronale non supervisée pour la reconstruction de proto-formes.\n",
        "\n",
        "Auteurs : Benjamin BADOUAILLE, Eliott CAMOU, Thomas HORRUT\n",
        "\n",
        "\n",
        "---\n",
        "\n",
        "\n",
        "*Ce notebook contient une tentative d'implémentation de l'intelligence artificielle décrite par un article de [Andre He et al.](arXiv:2211.08684) pour prédire l'état phonétique de proto-forms associés à un ensemble de cognats. L'expérience est ici menée dans le cadre d'un projet de recherche scientifique de fin de cycle préparatoire, dont l'analyse des démarches employées et des résultats nourrira une réflexion plus globale sur le potentiel de l'IA pour résoudre des problèmes de Linguistique Historique.*"
      ],
      "metadata": {
        "id": "9N66w8WAeYxN"
      }
    },
    {
      "cell_type": "code",
      "execution_count": 3,
      "metadata": {
        "id": "WPy8SaWAeKqE",
        "colab": {
          "base_uri": "https://localhost:8080/"
        },
        "outputId": "79aa557b-86bd-454e-d014-f1736bf608fe"
      },
      "outputs": [
        {
          "output_type": "stream",
          "name": "stdout",
          "text": [
            "Looking in indexes: https://pypi.org/simple, https://us-python.pkg.dev/colab-wheels/public/simple/\n",
            "Requirement already satisfied: torch in /usr/local/lib/python3.9/dist-packages (1.13.1+cu116)\n",
            "Requirement already satisfied: typing-extensions in /usr/local/lib/python3.9/dist-packages (from torch) (4.5.0)\n"
          ]
        }
      ],
      "source": [
        "!pip3 install torch"
      ]
    },
    {
      "cell_type": "code",
      "source": [
        "import torch\n",
        "\n",
        "torch.rand(2,3)"
      ],
      "metadata": {
        "colab": {
          "base_uri": "https://localhost:8080/"
        },
        "id": "zduG9Ug6N4LG",
        "outputId": "34e4b7e7-ce0a-40ec-9a5e-8f5b6fcbe082"
      },
      "execution_count": 4,
      "outputs": [
        {
          "output_type": "execute_result",
          "data": {
            "text/plain": [
              "tensor([[0.5993, 0.5377, 0.2959],\n",
              "        [0.8726, 0.2115, 0.4264]])"
            ]
          },
          "metadata": {},
          "execution_count": 4
        }
      ]
    }
  ]
}
