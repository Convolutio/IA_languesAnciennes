{
 "cells": [
  {
   "cell_type": "code",
   "execution_count": 3,
   "metadata": {},
   "outputs": [
    {
     "ename": "ModuleNotFoundError",
     "evalue": "No module named 'data'",
     "output_type": "error",
     "traceback": [
      "\u001b[1;31m---------------------------------------------------------------------------\u001b[0m",
      "\u001b[1;31mModuleNotFoundError\u001b[0m                       Traceback (most recent call last)",
      "Cell \u001b[1;32mIn[3], line 1\u001b[0m\n\u001b[1;32m----> 1\u001b[0m \u001b[39mfrom\u001b[39;00m \u001b[39mdata\u001b[39;00m\u001b[39m.\u001b[39;00m\u001b[39mgetDataset\u001b[39;00m \u001b[39mimport\u001b[39;00m getCognatesSet, getIteration\n\u001b[0;32m      3\u001b[0m cognates \u001b[39m=\u001b[39m getCognatesSet()\n\u001b[0;32m      4\u001b[0m currentReconstructions \u001b[39m=\u001b[39m getIteration(\u001b[39m4\u001b[39m)\n",
      "\u001b[1;31mModuleNotFoundError\u001b[0m: No module named 'data'"
     ]
    }
   ],
   "source": [
    "from os import chdir\n",
    "chdir(\"./../\")\n",
    "from data.getDataset import getCognatesSet, getIteration\n",
    "\n",
    "cognates = getCognatesSet()\n",
    "currentReconstructions = getIteration(4)\n",
    "\n",
    "print(cognates['french'][0], currentReconstructions[0])\n"
   ]
  }
 ],
 "metadata": {
  "kernelspec": {
   "display_name": "Python 3",
   "language": "python",
   "name": "python3"
  },
  "language_info": {
   "codemirror_mode": {
    "name": "ipython",
    "version": 3
   },
   "file_extension": ".py",
   "mimetype": "text/x-python",
   "name": "python",
   "nbconvert_exporter": "python",
   "pygments_lexer": "ipython3",
   "version": "3.9.10"
  },
  "orig_nbformat": 4
 },
 "nbformat": 4,
 "nbformat_minor": 2
}
