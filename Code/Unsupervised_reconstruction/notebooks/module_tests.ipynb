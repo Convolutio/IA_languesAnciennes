{
 "cells": [
  {
   "cell_type": "code",
   "execution_count": 2,
   "id": "bafcbf71-6073-401c-9ae3-98a9a8d88513",
   "metadata": {},
   "outputs": [],
   "source": [
    "from os import getcwd, chdir\n",
    "\n",
    "if getcwd().endswith('notebooks'):\n",
    "    chdir('..')"
   ]
  },
  {
   "cell_type": "code",
   "execution_count": 5,
   "id": "2631ea6c-9374-4fc0-a15a-520c5ccc1b2d",
   "metadata": {},
   "outputs": [
    {
     "name": "stdout",
     "output_type": "stream",
     "text": [
      "Test EditModel's output probabilities selection\tOK\n"
     ]
    }
   ],
   "source": [
    "from uneurecon.Tests.testSelection import testProbabilitiesSelection\n",
    "testProbabilitiesSelection()"
   ]
  },
  {
   "cell_type": "code",
   "execution_count": 3,
   "id": "c9744251-c3cc-4b58-b8e9-925115f63186",
   "metadata": {},
   "outputs": [],
   "source": [
    "exit(0)"
   ]
  },
  {
   "cell_type": "code",
   "execution_count": null,
   "id": "8cd94e3f-8598-41b2-aa8b-9106dba0046c",
   "metadata": {},
   "outputs": [],
   "source": []
  }
 ],
 "metadata": {
  "kernelspec": {
   "display_name": "Python 3.9 (nlp_pytorch)",
   "language": "python",
   "name": "nlp_env"
  },
  "language_info": {
   "codemirror_mode": {
    "name": "ipython",
    "version": 3
   },
   "file_extension": ".py",
   "mimetype": "text/x-python",
   "name": "python",
   "nbconvert_exporter": "python",
   "pygments_lexer": "ipython3",
   "version": "3.9.18"
  }
 },
 "nbformat": 4,
 "nbformat_minor": 5
}
