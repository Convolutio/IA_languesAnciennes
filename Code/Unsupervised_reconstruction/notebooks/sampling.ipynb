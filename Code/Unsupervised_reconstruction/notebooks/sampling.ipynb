{
 "cells": [
  {
   "attachments": {},
   "cell_type": "markdown",
   "metadata": {},
   "source": [
    "# Sampling"
   ]
  },
  {
   "cell_type": "code",
   "execution_count": 1,
   "metadata": {},
   "outputs": [],
   "source": [
    "from os import getcwd, chdir\n",
    "\n",
    "if getcwd().endswith('notebooks'):\n",
    "    chdir('..')"
   ]
  },
  {
   "cell_type": "markdown",
   "metadata": {},
   "source": [
    "## Get Data"
   ]
  },
  {
   "cell_type": "code",
   "execution_count": 2,
   "metadata": {},
   "outputs": [
    {
     "name": "stdout",
     "output_type": "stream",
     "text": [
      "|x| max = 16\n"
     ]
    }
   ],
   "source": [
    "import torch\n",
    "from data.getDataset import getCognatesSet, getIteration\n",
    "from data.vocab import computeInferenceData, PADDING_TOKEN, vocabulary, SOS_TOKEN, EOS_TOKEN\n",
    "from torch.nn.utils.rnn import pad_sequence\n",
    "from Types.articleModels import ModernLanguages\n",
    "from Types.models import InferenceData\n",
    "from Source.reconstructionModel import ReconstructionModel\n",
    "\n",
    "device = 'cuda' if torch.cuda.is_available() else 'cpu'\n",
    "\n",
    "cognates:dict[ModernLanguages, InferenceData] = {lang:computeInferenceData(cogSet) for (lang, cogSet) in getCognatesSet().items()}\n",
    "currentReconstructions = computeInferenceData(getIteration(1))\n",
    "\n",
    "LSTM_INPUT_DIM = 50\n",
    "LSTM_HIDDEN_DIM = 50\n",
    "\n",
    "randomEditModel = ReconstructionModel(cognates, vocabulary, LSTM_INPUT_DIM, LSTM_HIDDEN_DIM)\n",
    "\n",
    "x_maxLength = currentReconstructions[0].size()[0] - 2\n",
    "print('|x| max =', x_maxLength)"
   ]
  },
  {
   "cell_type": "markdown",
   "metadata": {},
   "source": [
    "False Language Model with neutral probability for test"
   ]
  },
  {
   "cell_type": "code",
   "execution_count": null,
   "metadata": {},
   "outputs": [],
   "source": [
    "from torch import Tensor\n",
    "from Types.models import InferenceData\n",
    "from lm.PriorLM import PriorLM\n",
    "from numpy import ndarray\n",
    "\n",
    "class LM(PriorLM):\n",
    "    def __init__(self):\n",
    "        pass\n",
    "    def inference(self, reconstructions: InferenceData) -> ndarray:\n",
    "        return torch.ones((len(reconstructions[1]),)).numpy()\n",
    "    \n",
    "lm = LM()"
   ]
  },
  {
   "cell_type": "markdown",
   "metadata": {},
   "source": [
    "## Generation"
   ]
  },
  {
   "cell_type": "code",
   "execution_count": null,
   "metadata": {},
   "outputs": [],
   "source": [
    "from Source.generateProposals import generateProposalsFromCurrentReconstructions\n",
    "\n",
    "proposalsList = generateProposalsFromCurrentReconstructions(\n",
    "    getIteration(1),\n",
    "    getCognatesSet()\n",
    ")\n",
    "torch.save(proposalsList, './Tests/proposalsSet.pt')"
   ]
  },
  {
   "cell_type": "code",
   "execution_count": null,
   "metadata": {},
   "outputs": [],
   "source": [
    "!ls Tests"
   ]
  },
  {
   "cell_type": "code",
   "execution_count": null,
   "metadata": {},
   "outputs": [],
   "source": [
    "proposalsList = [p.cpu().numpy() for p in torch.load('./Tests/proposalsSet.pt')]"
   ]
  },
  {
   "cell_type": "markdown",
   "metadata": {},
   "source": [
    "## Forward dynamic program"
   ]
  },
  {
   "cell_type": "code",
   "execution_count": null,
   "metadata": {},
   "outputs": [],
   "source": [
    "import numpy as np\n",
    "\n",
    "B = len(proposalsList)\n",
    "b = 40\n",
    "\n",
    "proposalNumbers = np.array([len(p) for p in proposalsList], dtype=np.uint)\n",
    "for it in range(100):\n",
    "    randomIndexes = np.floor(np.random.random((B, b))*proposalNumbers[:,np.newaxis]).astype(np.uint)\n",
    "    samples = pad_sequence([\n",
    "        torch.as_tensor(proposalsList[p][randomIndexes[p]], dtype=torch.int, device='cuda').T\n",
    "            for p in range(B)])\n",
    "print(samples.size())"
   ]
  },
  {
   "cell_type": "code",
   "execution_count": 7,
   "metadata": {},
   "outputs": [
    {
     "name": "stdout",
     "output_type": "stream",
     "text": [
      "torch.Size([26, 3213, 1])\n"
     ]
    }
   ],
   "source": [
    "from data.vocab import computeInferenceData\n",
    "\n",
    "sources = computeInferenceData(torch.load('./Tests/samples.pt', torch.device('cpu'))[:,:,:1])\n",
    "print(sources[0].size())\n",
    "randomEditModel.update_modernForm_context()"
   ]
  },
  {
   "cell_type": "code",
   "execution_count": 8,
   "metadata": {},
   "outputs": [
    {
     "name": "stdout",
     "output_type": "stream",
     "text": [
      "torch.Size([3213, 1])\n"
     ]
    }
   ],
   "source": [
    "print(randomEditModel.forward_dynProg(sources)['french'].size())"
   ]
  },
  {
   "cell_type": "markdown",
   "metadata": {},
   "source": [
    "## Sampling from proposals"
   ]
  },
  {
   "cell_type": "code",
   "execution_count": null,
   "metadata": {},
   "outputs": [],
   "source": [
    "from Source.sampling import metropolisHasting\n",
    "\n",
    "samples = metropolisHasting(proposalsList, randomEditModel, lm)"
   ]
  }
 ],
 "metadata": {
  "kernelspec": {
   "display_name": "Python 3",
   "language": "python",
   "name": "python3"
  },
  "language_info": {
   "codemirror_mode": {
    "name": "ipython",
    "version": 3
   },
   "file_extension": ".py",
   "mimetype": "text/x-python",
   "name": "python",
   "nbconvert_exporter": "python",
   "pygments_lexer": "ipython3",
   "version": "3.9.10"
  },
  "orig_nbformat": 4
 },
 "nbformat": 4,
 "nbformat_minor": 2
}
