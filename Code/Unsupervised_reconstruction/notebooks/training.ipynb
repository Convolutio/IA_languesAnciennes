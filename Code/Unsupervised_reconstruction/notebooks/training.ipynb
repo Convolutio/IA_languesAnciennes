{
 "cells": [
  {
   "cell_type": "markdown",
   "metadata": {},
   "source": [
    "# Maximisation-expectation"
   ]
  },
  {
   "cell_type": "markdown",
   "metadata": {},
   "source": [
    "Notebook configuration"
   ]
  },
  {
   "cell_type": "code",
   "execution_count": 1,
   "metadata": {},
   "outputs": [],
   "source": [
    "from os import getcwd, chdir\n",
    "\n",
    "# set the current working directory to the repository's root, if required\n",
    "if getcwd().endswith('notebooks'):\n",
    "    chdir('./../')"
   ]
  },
  {
   "cell_type": "code",
   "execution_count": 2,
   "metadata": {},
   "outputs": [
    {
     "name": "stdout",
     "output_type": "stream",
     "text": [
      "Requirement already satisfied: tabulate in c:\\users\\thoma\\.pyenv\\pyenv-win\\versions\\3.9.10\\lib\\site-packages (0.9.0)\n"
     ]
    },
    {
     "name": "stderr",
     "output_type": "stream",
     "text": [
      "\n",
      "[notice] A new release of pip is available: 23.1.2 -> 23.3\n",
      "[notice] To update, run: python.exe -m pip install --upgrade pip\n"
     ]
    }
   ],
   "source": [
    "!python -m pip install tabulate\n",
    "from IPython.display import display\n",
    "import pandas as pd\n",
    "pd.set_option('display.float_format', lambda x: f'{x:.4f}')\n",
    "\n",
    "def display_horizontaly_two_tables(df:pd.DataFrame,df2:pd.DataFrame, title1:str, title2:str):\n",
    "    df_md = df.to_markdown().split('\\n')\n",
    "    df2_md = df2.to_markdown().split('\\n')\n",
    "    title_line = title1 + \" \" * (len(df_md[0])-len(title1)) + \"\\t\" + title2\n",
    "    two_tabs = \"\\n\".join([title_line] + [df_md[i] + '\\t' + df2_md[i] for i in range(len(df_md))])\n",
    "    print(two_tabs)"
   ]
  },
  {
   "cell_type": "markdown",
   "metadata": {},
   "source": [
    "## Initial Dataset"
   ]
  },
  {
   "cell_type": "code",
   "execution_count": 3,
   "metadata": {},
   "outputs": [
    {
     "name": "stdout",
     "output_type": "stream",
     "text": [
      "|y| max = 17\n",
      "|x| max = 16\n"
     ]
    }
   ],
   "source": [
    "from data.getDataset import getCognatesSet, getIteration\n",
    "from data.vocab import computeInferenceData_Samples, computeInferenceData_Cognates, wordsToOneHots, vocabulary, IPA_charsNumber\n",
    "from models.types import ModernLanguages, MODERN_LANGUAGES, InferenceData_Cognates\n",
    "from Source.reconstructionModel import ReconstructionModel\n",
    "\n",
    "raw_cognates = getCognatesSet()\n",
    "cognates: dict[ModernLanguages, InferenceData_Cognates] = computeInferenceData_Cognates({lang: wordsToOneHots(raw_cognates[lang]) for lang in raw_cognates})\n",
    "raw_samples = getIteration(1)\n",
    "currentReconstructions = computeInferenceData_Samples(wordsToOneHots(raw_samples)) #TODO: simplify the data loading\n",
    "\n",
    "LSTM_INPUT_DIM = 50\n",
    "LSTM_HIDDEN_DIM = 50\n",
    "\n",
    "randomEditModel = ReconstructionModel(MODERN_LANGUAGES, vocabulary, LSTM_INPUT_DIM, LSTM_HIDDEN_DIM)\n",
    "\n",
    "TEST_LANGUAGE:ModernLanguages = \"french\"\n",
    "x_maxLength = currentReconstructions[0].size()[0] - 2\n",
    "y_maxLength = cognates[TEST_LANGUAGE][0].size()[0] - 2\n",
    "print('|y| max =', y_maxLength)\n",
    "print('|x| max =', x_maxLength)"
   ]
  },
  {
   "cell_type": "markdown",
   "metadata": {},
   "source": [
    "## Backward dynamic Program"
   ]
  },
  {
   "cell_type": "markdown",
   "metadata": {},
   "source": [
    "Backward dynamic Program"
   ]
  },
  {
   "cell_type": "code",
   "execution_count": 4,
   "metadata": {},
   "outputs": [],
   "source": [
    "targets_prob = randomEditModel.backward_dynProg(currentReconstructions, cognates)"
   ]
  },
  {
   "cell_type": "markdown",
   "metadata": {},
   "source": [
    "### Analysis"
   ]
  },
  {
   "cell_type": "markdown",
   "metadata": {},
   "source": [
    "Test on $x :=$`\"absyrdʊ\"` and $y :=$`\"absˈyʁd\"` ($|x|=7$ and $|y|=7$)"
   ]
  },
  {
   "cell_type": "code",
   "execution_count": 5,
   "metadata": {},
   "outputs": [],
   "source": [
    "IDX = 20 # the index in the batch of the sample to be studied\n",
    "x_length, y_length = 7, 7\n",
    "\n",
    "backward_prob_dlt = targets_prob[TEST_LANGUAGE].dlt[:,:,IDX].cpu().numpy().squeeze(-1)\n",
    "backward_prob_end = targets_prob[TEST_LANGUAGE].end[:,:,IDX].cpu().numpy().squeeze(-1)\n",
    "backward_prob_sub = targets_prob[TEST_LANGUAGE].sub[:,:,IDX].cpu().numpy().squeeze(-1)\n",
    "backward_prob_ins = targets_prob[TEST_LANGUAGE].ins[:,:,IDX].cpu().numpy().squeeze(-1)"
   ]
  },
  {
   "cell_type": "markdown",
   "metadata": {},
   "source": [
    "#### Display of cached probabilities for the substitution and the deletion operations\n",
    "\n",
    "Notice that the logarithmic probabilities that have not to be defined for these operations are automatically set to $-\\infty{}$ thanks to the recurrence mathematical relations of the backward dynamic program. So do the undefined probabilities in padding positions, thanks to the neutrality of edit model's cached inference probabilities (which equal $0$ in the log space)."
   ]
  },
  {
   "cell_type": "code",
   "execution_count": 6,
   "metadata": {},
   "outputs": [
    {
     "name": "stdout",
     "output_type": "stream",
     "text": [
      "Subsitution Operation                                                                                \tDeletion Operation\n",
      "|    |        0 |        1 |        2 |        3 |        4 |        5 |        6 |      7 |      8 |\t|    |        0 |        1 |        2 |        3 |        4 |        5 |        6 |         7 |      8 |\n",
      "|---:|---------:|---------:|---------:|---------:|---------:|---------:|---------:|-------:|-------:|\t|---:|---------:|---------:|---------:|---------:|---------:|---------:|---------:|----------:|-------:|\n",
      "|  0 | -1e+09   | -1e+09   | -1e+09   | -1e+09   | -1e+09   | -1e+09   | -1e+09   | -2e+09 | -2e+09 |\t|  0 | -1e+09   | -1e+09   | -1e+09   | -1e+09   | -1e+09   | -1e+09   | -1e+09   | -1e+09    | -2e+09 |\n",
      "|  1 | -1.51798 | -1.88173 | -2.54069 | -3.80331 | -4.75765 | -5.92727 | -7.92382 | -1e+09 | -1e+09 |\t|  1 | -1.64449 | -1.83681 | -2.17258 | -3.54944 | -4.46258 | -4.95848 | -6.30866 | -7.9257   | -1e+09 |\n",
      "|  2 | -2.19113 | -2.0138  | -2.11091 | -2.85484 | -3.33378 | -4.2885  | -6.09021 | -1e+09 | -1e+09 |\t|  2 | -2.50937 | -2.06506 | -1.84083 | -2.63598 | -3.26391 | -3.43074 | -4.4174  | -5.72672  | -1e+09 |\n",
      "|  3 | -3.06681 | -2.26798 | -1.99494 | -2.33573 | -2.74152 | -3.24271 | -4.71876 | -1e+09 | -1e+09 |\t|  3 | -3.35956 | -2.65454 | -2.06269 | -2.43276 | -2.76442 | -2.66465 | -3.2419  | -4.34451  | -1e+09 |\n",
      "|  4 | -3.83298 | -2.84915 | -2.25977 | -2.1788  | -2.32998 | -2.56933 | -3.43258 | -1e+09 | -1e+09 |\t|  4 | -4.33472 | -3.49796 | -2.46344 | -2.644   | -2.60613 | -2.24748 | -2.53579 | -3.25823  | -1e+09 |\n",
      "|  5 | -4.61878 | -3.68195 | -2.53326 | -2.50017 | -2.21647 | -2.06675 | -2.56368 | -1e+09 | -1e+09 |\t|  5 | -5.73198 | -4.47822 | -3.28259 | -3.11537 | -2.99522 | -2.24295 | -2.09273 | -2.16392  | -1e+09 |\n",
      "|  6 | -5.87625 | -4.51248 | -3.31236 | -2.80259 | -2.48847 | -1.99783 | -1.91311 | -1e+09 | -1e+09 |\t|  6 | -7.73933 | -5.98825 | -4.53944 | -4.15733 | -4.07445 | -2.68154 | -2.05802 | -1.27147  | -1e+09 |\n",
      "|  7 | -7.73933 | -5.83829 | -4.32533 | -3.71438 | -3.36425 | -2.06401 | -1.40178 | -1e+09 | -1e+09 |\t|  7 | -1e+09   | -1e+09   | -1e+09   | -1e+09   | -1e+09   | -1e+09   | -1e+09   | -0.595364 | -1e+09 |\n",
      "|  8 | -1e+09   | -1e+09   | -1e+09   | -1e+09   | -1e+09   | -1e+09   | -1e+09   | -1e+09 | -1e+09 |\t|  8 | -1e+09   | -1e+09   | -1e+09   | -1e+09   | -1e+09   | -1e+09   | -1e+09   | -1e+09    | -1e+09 |\n"
     ]
    }
   ],
   "source": [
    "df = pd.DataFrame(backward_prob_sub[:x_length+2, :y_length+2])\n",
    "df2 = pd.DataFrame(backward_prob_dlt[:x_length+2, :y_length+2])\n",
    "\n",
    "display_horizontaly_two_tables(df, df2, \"Subsitution Operation\", \"Deletion Operation\")"
   ]
  },
  {
   "cell_type": "markdown",
   "metadata": {},
   "source": [
    "## Target probs transformation for the training dataset"
   ]
  },
  {
   "cell_type": "code",
   "execution_count": 7,
   "metadata": {
    "editable": true,
    "slideshow": {
     "slide_type": ""
    },
    "tags": []
   },
   "outputs": [],
   "source": [
    "from Source.utils import dl_to_ld\n",
    "from models.types import Operations\n",
    "from torch import Tensor\n",
    "for lang in targets_prob.keys():\n",
    "    targets_prob[lang] = targets_prob[lang].toTargetsProbs()\n",
    "targets_prob: list[dict[ModernLanguages, dict[Operations, Tensor]]] = dl_to_ld(targets_prob) #type: ignore"
   ]
  },
  {
   "cell_type": "code",
   "execution_count": 8,
   "metadata": {},
   "outputs": [
    {
     "name": "stdout",
     "output_type": "stream",
     "text": [
      "Subsitution Operation                                                                             \tDeletion Operation\n",
      "|    |        0 |        1 |        2 |        3 |        4 |        5 |        6 |      7 |   8 |\t|    |        0 |        1 |        2 |        3 |        4 |        5 |        6 |         7 |   8 |\n",
      "|---:|---------:|---------:|---------:|---------:|---------:|---------:|---------:|-------:|----:|\t|---:|---------:|---------:|---------:|---------:|---------:|---------:|---------:|----------:|----:|\n",
      "|  0 | -1e+09   | -1e+09   | -1e+09   | -1e+09   | -1e+09   | -1e+09   | -1e+09   | -2e+09 |   0 |\t|  0 | -1e+09   | -1e+09   | -1e+09   | -1e+09   | -1e+09   | -1e+09   | -1e+09   | -1e+09    |   0 |\n",
      "|  1 | -1.51798 | -1.88173 | -2.54069 | -3.80331 | -4.75765 | -5.92727 | -7.92382 | -1e+09 |   0 |\t|  1 | -1.64449 | -1.83681 | -2.17258 | -3.54944 | -4.46258 | -4.95848 | -6.30866 | -7.9257   |   0 |\n",
      "|  2 | -2.19113 | -2.0138  | -2.11091 | -2.85484 | -3.33378 | -4.2885  | -6.09021 | -1e+09 |   0 |\t|  2 | -2.50937 | -2.06506 | -1.84083 | -2.63598 | -3.26391 | -3.43074 | -4.4174  | -5.72672  |   0 |\n",
      "|  3 | -3.06681 | -2.26798 | -1.99494 | -2.33573 | -2.74152 | -3.24271 | -4.71876 | -1e+09 |   0 |\t|  3 | -3.35956 | -2.65454 | -2.06269 | -2.43276 | -2.76442 | -2.66465 | -3.2419  | -4.34451  |   0 |\n",
      "|  4 | -3.83298 | -2.84915 | -2.25977 | -2.1788  | -2.32998 | -2.56933 | -3.43258 | -1e+09 |   0 |\t|  4 | -4.33472 | -3.49796 | -2.46344 | -2.644   | -2.60613 | -2.24748 | -2.53579 | -3.25823  |   0 |\n",
      "|  5 | -4.61878 | -3.68195 | -2.53326 | -2.50017 | -2.21647 | -2.06675 | -2.56368 | -1e+09 |   0 |\t|  5 | -5.73198 | -4.47822 | -3.28259 | -3.11537 | -2.99522 | -2.24295 | -2.09273 | -2.16392  |   0 |\n",
      "|  6 | -5.87625 | -4.51248 | -3.31236 | -2.80259 | -2.48847 | -1.99783 | -1.91311 | -1e+09 |   0 |\t|  6 | -7.73933 | -5.98825 | -4.53944 | -4.15733 | -4.07445 | -2.68154 | -2.05802 | -1.27147  |   0 |\n",
      "|  7 | -7.73933 | -5.83829 | -4.32533 | -3.71438 | -3.36425 | -2.06401 | -1.40178 | -1e+09 |   0 |\t|  7 | -1e+09   | -1e+09   | -1e+09   | -1e+09   | -1e+09   | -1e+09   | -1e+09   | -0.595364 |   0 |\n",
      "|  8 |  0       |  0       |  0       |  0       |  0       |  0       |  0       |  0     |   0 |\t|  8 |  0       |  0       |  0       |  0       |  0       |  0       |  0       |  0        |   0 |\n"
     ]
    }
   ],
   "source": [
    "renderedTargets = targets_prob[IDX][TEST_LANGUAGE]\n",
    "df_renderedSub = pd.DataFrame(renderedTargets['sub'].squeeze(-1).squeeze(-1)[:x_length+2, :y_length+2])\n",
    "df2_renderedDlt = pd.DataFrame(renderedTargets['dlt'].squeeze(-1).squeeze(-1)[:x_length+2, :y_length+2])\n",
    "display_horizontaly_two_tables(df_renderedSub, df2_renderedDlt, \"Subsitution Operation\", \"Deletion Operation\")"
   ]
  },
  {
   "cell_type": "markdown",
   "metadata": {},
   "source": [
    "## DataLoader initialisation"
   ]
  },
  {
   "cell_type": "code",
   "execution_count": 9,
   "metadata": {},
   "outputs": [],
   "source": [
    "from data.reconstruction_datasets import trainingDataLoader\n",
    "\n",
    "MINI_BATCH_SIZE = 30\n",
    "NUM_WORKERS = 1\n",
    "dl = trainingDataLoader(raw_samples, dl_to_ld(raw_cognates), targets_prob, MINI_BATCH_SIZE, NUM_WORKERS)"
   ]
  },
  {
   "cell_type": "markdown",
   "metadata": {},
   "source": [
    "## Training round"
   ]
  },
  {
   "cell_type": "code",
   "execution_count": 10,
   "metadata": {},
   "outputs": [
    {
     "name": "stdout",
     "output_type": "stream",
     "text": [
      "Epoch 1\n",
      "------------------------------------------------------------\n",
      "Average loss: -1.533140 ; Standard deviation: 1.383988          \n",
      "------------------------------------------------------------\n",
      "\n",
      "Epoch 2\n",
      "------------------------------------------------------------\n",
      "Average loss: -2.871263 ; Standard deviation: 0.483915          \n",
      "------------------------------------------------------------\n",
      "\n",
      "Epoch 3\n",
      "------------------------------------------------------------\n",
      "Average loss: -3.234866 ; Standard deviation: 0.567194          \n",
      "------------------------------------------------------------\n",
      "\n",
      "Epoch 4\n",
      "------------------------------------------------------------\n",
      "Average loss: -3.443805 ; Standard deviation: 0.567601          \n",
      "------------------------------------------------------------\n",
      "\n",
      "Epoch 5\n",
      "------------------------------------------------------------\n",
      "Average loss: -3.567517 ; Standard deviation: 0.615346          \n",
      "------------------------------------------------------------\n",
      "\n",
      "Figure(640x480)\n"
     ]
    },
    {
     "data": {
      "image/png": "[encoded data removed]",
      "text/plain": [
       "<Figure size 640x480 with 1 Axes>"
      ]
     },
     "metadata": {},
     "output_type": "display_data"
    }
   ],
   "source": [
    "EPOCHS, LEARNING_RATE = 5, 0.01\n",
    "randomEditModel.train_models(dl, EPOCHS, LEARNING_RATE)"
   ]
  }
 ],
 "metadata": {
  "kernelspec": {
   "display_name": "Python 3 (ipykernel)",
   "language": "python",
   "name": "python3"
  },
  "language_info": {
   "codemirror_mode": {
    "name": "ipython",
    "version": 3
   },
   "file_extension": ".py",
   "mimetype": "text/x-python",
   "name": "python",
   "nbconvert_exporter": "python",
   "pygments_lexer": "ipython3",
   "version": "3.9.10"
  }
 },
 "nbformat": 4,
 "nbformat_minor": 4
}
