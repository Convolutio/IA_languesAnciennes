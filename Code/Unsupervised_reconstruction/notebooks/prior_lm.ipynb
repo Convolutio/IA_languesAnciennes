{
 "cells": [
  {
   "attachments": {},
   "cell_type": "markdown",
   "metadata": {},
   "source": [
    "# Prior Language Models\n",
    "\n",
    "*Computing of $p(x)$*"
   ]
  },
  {
   "cell_type": "markdown",
   "metadata": {},
   "source": [
    "Run this before continuing so that the imports work."
   ]
  },
  {
   "cell_type": "code",
   "execution_count": 15,
   "metadata": {},
   "outputs": [],
   "source": [
    "from os import chdir, getcwd\n",
    "\n",
    "if getcwd().endswith('notebooks'):\n",
    "    chdir('..')"
   ]
  },
  {
   "cell_type": "code",
   "execution_count": 16,
   "metadata": {},
   "outputs": [],
   "source": [
    "import torch\n",
    "device = 'cuda' if torch.cuda.is_available() else 'cpu'"
   ]
  },
  {
   "cell_type": "markdown",
   "metadata": {},
   "source": [
    "## Data loading"
   ]
  },
  {
   "cell_type": "markdown",
   "metadata": {},
   "source": [
    "### Vocabulary initialisation"
   ]
  },
  {
   "cell_type": "code",
   "execution_count": 17,
   "metadata": {},
   "outputs": [
    {
     "name": "stdout",
     "output_type": "stream",
     "text": [
      "|IPA| = 57\n",
      "( 57\n",
      ") 58\n",
      "- 59\n"
     ]
    }
   ],
   "source": [
    "from data.vocab import vocabulary\n",
    "from models.types import EOS_TOKEN, SOS_TOKEN, PADDING_TOKEN\n",
    "\n",
    "print('|IPA| =', len(vocabulary)-3) # '-3' because `vocabulary` contains the IPA characters plus the special tokens listed below\n",
    "for token in (SOS_TOKEN, EOS_TOKEN, PADDING_TOKEN):\n",
    "    print(token, vocabulary[token])"
   ]
  },
  {
   "cell_type": "markdown",
   "metadata": {},
   "source": [
    "### Dataset initialisation"
   ]
  },
  {
   "cell_type": "code",
   "execution_count": 18,
   "metadata": {},
   "outputs": [],
   "source": [
    "from data.getDataset import getLMTrainingSet\n",
    "\n",
    "# Following 'Article Scientifique' there are three db of different sizes.\n",
    "DB_SIZE = [20_000, 10_000, 5_000]\n",
    "\n",
    "# Generate the three db of different sizes.\n",
    "tokens_20k, tokens_10k, tokens_5k = getLMTrainingSet(DB_SIZE)"
   ]
  },
  {
   "cell_type": "markdown",
   "metadata": {},
   "source": [
    "### Training load"
   ]
  },
  {
   "cell_type": "code",
   "execution_count": 19,
   "metadata": {},
   "outputs": [
    {
     "data": {
      "text/plain": [
       "<torch.utils.data.dataloader.DataLoader at 0x1b51a105ca0>"
      ]
     },
     "execution_count": 19,
     "metadata": {},
     "output_type": "execute_result"
    }
   ],
   "source": [
    "from torch.utils.data.backward_compatibility import worker_init_fn\n",
    "from torch.utils.data import DataLoader\n",
    "from torchtext.datasets import CC100\n",
    "\n",
    "dp = CC100(root='./out/cache', language_code='la')\n",
    "DataLoader(dp, shuffle=True, num_workers=4, worker_init_fn=worker_init_fn, drop_last=True)"
   ]
  },
  {
   "cell_type": "markdown",
   "metadata": {},
   "source": [
    "### Evaluation load"
   ]
  },
  {
   "cell_type": "code",
   "execution_count": 20,
   "metadata": {},
   "outputs": [
    {
     "name": "stdout",
     "output_type": "stream",
     "text": [
      "(tensor([[[57],\n",
      "         [57],\n",
      "         [57],\n",
      "         ...,\n",
      "         [57],\n",
      "         [57],\n",
      "         [57]],\n",
      "\n",
      "        [[32],\n",
      "         [ 0],\n",
      "         [ 0],\n",
      "         ...,\n",
      "         [22],\n",
      "         [ 2],\n",
      "         [ 2]],\n",
      "\n",
      "        [[ 1],\n",
      "         [ 1],\n",
      "         [ 1],\n",
      "         ...,\n",
      "         [32],\n",
      "         [ 6],\n",
      "         [ 6]],\n",
      "\n",
      "        ...,\n",
      "\n",
      "        [[59],\n",
      "         [59],\n",
      "         [59],\n",
      "         ...,\n",
      "         [59],\n",
      "         [59],\n",
      "         [59]],\n",
      "\n",
      "        [[59],\n",
      "         [59],\n",
      "         [59],\n",
      "         ...,\n",
      "         [59],\n",
      "         [59],\n",
      "         [59]],\n",
      "\n",
      "        [[59],\n",
      "         [59],\n",
      "         [59],\n",
      "         ...,\n",
      "         [59],\n",
      "         [59],\n",
      "         [59]]], device='cuda:0', dtype=torch.int32), tensor([[7],\n",
      "        [9],\n",
      "        [9],\n",
      "        ...,\n",
      "        [6],\n",
      "        [5],\n",
      "        [5]]), 19)\n"
     ]
    }
   ],
   "source": [
    "from data.getDataset import getIteration\n",
    "from data.vocab import wordsToOneHots, computeInferenceData_Samples\n",
    "\n",
    "sources = computeInferenceData_Samples(wordsToOneHots(getIteration(3), device))\n",
    "print(sources)"
   ]
  },
  {
   "cell_type": "markdown",
   "metadata": {},
   "source": [
    "## RNN LM"
   ]
  },
  {
   "cell_type": "markdown",
   "metadata": {},
   "source": [
    "### Initialisation"
   ]
  },
  {
   "cell_type": "code",
   "execution_count": 21,
   "metadata": {},
   "outputs": [],
   "source": [
    "from torch.cuda import is_available\n",
    "from lm.PriorLM import CharLM\n",
    "\n",
    "device = 'cuda' if is_available() else 'cpu'\n",
    "\n",
    "# Init the character level LSTM language model \n",
    "LSTM_lm = CharLM(embedding_size=1024, hidden_size=100, num_layers=2, dropout_rate=0.1, device=device, vocab=vocabulary)"
   ]
  },
  {
   "cell_type": "markdown",
   "metadata": {},
   "source": [
    "### Training"
   ]
  },
  {
   "cell_type": "markdown",
   "metadata": {},
   "source": [
    "***`TODO`***"
   ]
  },
  {
   "cell_type": "markdown",
   "metadata": {},
   "source": [
    "### Inference"
   ]
  },
  {
   "cell_type": "code",
   "execution_count": 22,
   "metadata": {},
   "outputs": [],
   "source": [
    "#probs = LSTM_lm.inference(sources)\n",
    "#print(f\"p('{word}') =\", probs[testIndexInBatch].item())"
   ]
  },
  {
   "attachments": {},
   "cell_type": "markdown",
   "metadata": {},
   "source": [
    "## $n$-gram LM"
   ]
  },
  {
   "cell_type": "markdown",
   "metadata": {},
   "source": [
    "### Initialisation"
   ]
  },
  {
   "cell_type": "code",
   "execution_count": 23,
   "metadata": {},
   "outputs": [],
   "source": [
    "from lm.PriorLM import NGramLM\n",
    "\n",
    "bigram_20k = NGramLM(n=2, device=device, vocab=vocabulary)\n",
    "bigram_10k = NGramLM(n=2, device=device, vocab=vocabulary)\n",
    "bigram_5k = NGramLM(n=2, device=device, vocab=vocabulary)\n",
    "\n",
    "trigram_20k = NGramLM(n=3, device=device, vocab=vocabulary)\n",
    "trigram_10k = NGramLM(n=3, device=device, vocab=vocabulary)\n",
    "trigram_5k = NGramLM(n=3, device=device, vocab=vocabulary)"
   ]
  },
  {
   "cell_type": "code",
   "execution_count": 24,
   "metadata": {},
   "outputs": [
    {
     "name": "stdout",
     "output_type": "stream",
     "text": [
      "tensor([[[57,  0],\n",
      "         [57,  6]],\n",
      "\n",
      "        [[ 0,  1],\n",
      "         [ 6,  4]],\n",
      "\n",
      "        [[ 1, 15],\n",
      "         [ 4,  6]],\n",
      "\n",
      "        [[15, 21],\n",
      "         [ 6,  8]],\n",
      "\n",
      "        [[21, 14],\n",
      "         [ 8,  0]],\n",
      "\n",
      "        [[14,  2],\n",
      "         [ 0, 14]],\n",
      "\n",
      "        [[ 2, 43],\n",
      "         [14,  3]],\n",
      "\n",
      "        [[43, 58],\n",
      "         [ 3, 58]]], device='cuda:0', dtype=torch.int32)\n"
     ]
    }
   ],
   "source": [
    "sentence_test = \"absyrdʊ ifikare\"\n",
    "batch = bigram_20k.batch_ngram(sentence_test)\n",
    "print(batch)"
   ]
  },
  {
   "cell_type": "markdown",
   "metadata": {},
   "source": [
    "### Training"
   ]
  },
  {
   "cell_type": "code",
   "execution_count": 25,
   "metadata": {},
   "outputs": [
    {
     "data": {
      "text/plain": [
       "tensor([[[-1.0000e+05, -1.0000e+05, -1.0000e+05,  ..., -1.0000e+05,\n",
       "          -1.0000e+05, -1.0000e+05],\n",
       "         [-4.5163e+00, -1.0000e+05, -5.2095e+00,  ..., -1.0000e+05,\n",
       "          -2.8223e-01, -1.0000e+05],\n",
       "         [-2.4849e+00, -1.0000e+05, -1.0000e+05,  ..., -1.0000e+05,\n",
       "          -9.5343e-01, -1.0000e+05],\n",
       "         ...,\n",
       "         [-1.0000e+05, -1.0000e+05, -1.0000e+05,  ..., -1.0000e+05,\n",
       "          -1.0000e+05, -1.0000e+05],\n",
       "         [-1.0000e+05, -1.0000e+05, -1.0000e+05,  ..., -1.0000e+05,\n",
       "           0.0000e+00, -1.0000e+05],\n",
       "         [-1.0000e+05, -1.0000e+05, -1.0000e+05,  ..., -1.0000e+05,\n",
       "          -1.0000e+05, -1.0000e+05]],\n",
       "\n",
       "        [[-1.0000e+05, -2.6741e+00, -1.0000e+05,  ..., -1.0000e+05,\n",
       "          -3.3673e+00, -1.0000e+05],\n",
       "         [-1.0000e+05, -1.0000e+05, -1.0000e+05,  ..., -1.0000e+05,\n",
       "          -1.0000e+05, -1.0000e+05],\n",
       "         [-1.0000e+05, -1.0000e+05, -1.0000e+05,  ..., -1.0000e+05,\n",
       "          -1.0000e+05, -1.0000e+05],\n",
       "         ...,\n",
       "         [-1.0000e+05, -1.0000e+05, -1.0000e+05,  ..., -1.0000e+05,\n",
       "          -1.0000e+05, -1.0000e+05],\n",
       "         [-1.0000e+05, -1.0000e+05, -1.0000e+05,  ..., -1.0000e+05,\n",
       "           0.0000e+00, -1.0000e+05],\n",
       "         [-1.0000e+05, -1.0000e+05, -1.0000e+05,  ..., -1.0000e+05,\n",
       "          -1.0000e+05, -1.0000e+05]],\n",
       "\n",
       "        [[-1.0000e+05, -4.0431e+00, -1.0000e+05,  ..., -1.0000e+05,\n",
       "          -1.2705e+00, -1.0000e+05],\n",
       "         [-1.0000e+05, -1.0000e+05, -1.0000e+05,  ..., -1.0000e+05,\n",
       "          -1.0000e+05, -1.0000e+05],\n",
       "         [-1.0000e+05, -1.0000e+05, -1.0000e+05,  ..., -1.0000e+05,\n",
       "          -1.0000e+05, -1.0000e+05],\n",
       "         ...,\n",
       "         [-1.0000e+05, -1.0000e+05, -1.0000e+05,  ..., -1.0000e+05,\n",
       "          -1.0000e+05, -1.0000e+05],\n",
       "         [-1.0000e+05, -1.0000e+05, -1.0000e+05,  ..., -1.0000e+05,\n",
       "           0.0000e+00, -1.0000e+05],\n",
       "         [-1.0000e+05, -1.0000e+05, -1.0000e+05,  ..., -1.0000e+05,\n",
       "          -1.0000e+05, -1.0000e+05]],\n",
       "\n",
       "        ...,\n",
       "\n",
       "        [[-1.0000e+05, -7.8016e-01, -1.8112e+00,  ..., -1.0000e+05,\n",
       "          -5.7430e+00, -1.0000e+05],\n",
       "         [-1.5724e+00, -1.0000e+05, -1.0000e+05,  ..., -1.0000e+05,\n",
       "          -1.0000e+05, -1.0000e+05],\n",
       "         [-3.3801e+00, -1.0000e+05, -1.0000e+05,  ..., -1.0000e+05,\n",
       "          -1.0000e+05, -1.0000e+05],\n",
       "         ...,\n",
       "         [-2.7742e+00, -3.8538e+00, -3.0576e+00,  ..., -1.0000e+05,\n",
       "          -1.0000e+05, -1.0000e+05],\n",
       "         [-1.0000e+05, -1.0000e+05, -1.0000e+05,  ..., -1.0000e+05,\n",
       "          -1.0000e+05, -1.0000e+05],\n",
       "         [-1.0000e+05, -1.0000e+05, -1.0000e+05,  ..., -1.0000e+05,\n",
       "          -1.0000e+05, -1.0000e+05]],\n",
       "\n",
       "        [[-1.0000e+05, -1.0000e+05, -1.0000e+05,  ..., -1.0000e+05,\n",
       "          -1.0000e+05, -1.0000e+05],\n",
       "         [-1.0000e+05, -1.0000e+05, -1.0000e+05,  ..., -1.0000e+05,\n",
       "          -1.0000e+05, -1.0000e+05],\n",
       "         [-1.0000e+05, -1.0000e+05, -1.0000e+05,  ..., -1.0000e+05,\n",
       "          -1.0000e+05, -1.0000e+05],\n",
       "         ...,\n",
       "         [-1.0000e+05, -1.0000e+05, -1.0000e+05,  ..., -1.0000e+05,\n",
       "          -1.0000e+05, -1.0000e+05],\n",
       "         [-1.0000e+05, -1.0000e+05, -1.0000e+05,  ..., -1.0000e+05,\n",
       "          -1.0000e+05, -1.0000e+05],\n",
       "         [-1.0000e+05, -1.0000e+05, -1.0000e+05,  ..., -1.0000e+05,\n",
       "          -1.0000e+05, -1.0000e+05]],\n",
       "\n",
       "        [[-1.0000e+09, -1.0000e+09, -1.0000e+09,  ..., -1.0000e+09,\n",
       "          -1.0000e+09, -1.0000e+09],\n",
       "         [-1.0000e+09, -1.0000e+09, -1.0000e+09,  ..., -1.0000e+09,\n",
       "          -1.0000e+09, -1.0000e+09],\n",
       "         [-1.0000e+09, -1.0000e+09, -1.0000e+09,  ..., -1.0000e+09,\n",
       "          -1.0000e+09, -1.0000e+09],\n",
       "         ...,\n",
       "         [-1.0000e+09, -1.0000e+09, -1.0000e+09,  ..., -1.0000e+09,\n",
       "          -1.0000e+09, -1.0000e+09],\n",
       "         [-1.0000e+09, -1.0000e+09, -1.0000e+09,  ..., -1.0000e+09,\n",
       "          -1.0000e+09, -1.0000e+09],\n",
       "         [-1.0000e+09, -1.0000e+09, -1.0000e+09,  ..., -1.0000e+09,\n",
       "          -1.0000e+09, -1.0000e+09]]], device='cuda:0', dtype=torch.float64)"
      ]
     },
     "execution_count": 25,
     "metadata": {},
     "output_type": "execute_result"
    }
   ],
   "source": [
    "# TODO: Torch MP\n",
    "bigram_20k.train(tokens_20k)\n",
    "bigram_10k.train(tokens_10k)\n",
    "bigram_5k.train(tokens_5k)\n",
    "\n",
    "trigram_20k.train(tokens_20k)\n",
    "trigram_10k.train(tokens_10k)\n",
    "trigram_5k.train(tokens_5k)"
   ]
  },
  {
   "cell_type": "code",
   "execution_count": 26,
   "metadata": {},
   "outputs": [
    {
     "name": "stdout",
     "output_type": "stream",
     "text": [
      "Bigram (Total bigram: 3600)\n",
      "Ngram with probs 362\n",
      "Ngram with probs 393\n",
      "Ngram with probs 435\n",
      "Trigram (Total trigram: 216000)\n",
      "Ngram with probs 1223\n",
      "Ngram with probs 1745\n",
      "Ngram with probs 2216\n"
     ]
    }
   ],
   "source": [
    "print_nb_uniq_probs = lambda t: print(\"Ngram with probs\", len((torch.unique(torch.flatten(t)))))\n",
    "\n",
    "print(f\"Bigram (Total bigram: {len(vocabulary)**2})\") # pow 2 for bigram\n",
    "print_nb_uniq_probs(bigram_5k.nGramLogProbs)\n",
    "print_nb_uniq_probs(bigram_10k.nGramLogProbs)\n",
    "print_nb_uniq_probs(bigram_20k.nGramLogProbs)\n",
    "\n",
    "print(f\"Trigram (Total trigram: {len(vocabulary)**3})\")    # pow 3 for trigram\n",
    "print_nb_uniq_probs(trigram_5k.nGramLogProbs)\n",
    "print_nb_uniq_probs(trigram_10k.nGramLogProbs)\n",
    "print_nb_uniq_probs(trigram_20k.nGramLogProbs)"
   ]
  },
  {
   "cell_type": "markdown",
   "metadata": {},
   "source": [
    "### Inference"
   ]
  },
  {
   "cell_type": "code",
   "execution_count": 27,
   "metadata": {},
   "outputs": [],
   "source": [
    "inferred_sources = [\n",
    "    bigram_20k.inference(sources),\n",
    "    bigram_10k.inference(sources),\n",
    "    bigram_5k.inference(sources),\n",
    "    # ---\n",
    "    trigram_20k.inference(sources),\n",
    "    trigram_10k.inference(sources),\n",
    "    trigram_5k.inference(sources),\n",
    "]"
   ]
  },
  {
   "cell_type": "markdown",
   "metadata": {},
   "source": [
    "Display the inferred samples"
   ]
  },
  {
   "cell_type": "code",
   "execution_count": 28,
   "metadata": {},
   "outputs": [
    {
     "name": "stdout",
     "output_type": "stream",
     "text": [
      "Total number of samples: 3213\n",
      "The bigram_20k model has 3091 unique probas\n",
      "The bigram_10k model has 3090 unique probas\n",
      "The bigram_5k model has 3090 unique probas\n",
      "The trigram_20k model has 2892 unique probas\n",
      "The trigram_10k model has 2862 unique probas\n",
      "The trigram_5k model has 2811 unique probas\n"
     ]
    },
    {
     "data": {
      "image/png": "[encoded data removed]",
      "text/plain": [
       "<Figure size 640x480 with 6 Axes>"
      ]
     },
     "metadata": {},
     "output_type": "display_data"
    },
    {
     "data": {
      "text/plain": [
       "<Figure size 3000x1000 with 0 Axes>"
      ]
     },
     "metadata": {},
     "output_type": "display_data"
    }
   ],
   "source": [
    "import numpy as np\n",
    "import matplotlib.pyplot as plt\n",
    "\n",
    "print(\"Total number of samples:\", len(sources[0][1]))\n",
    "\n",
    "names = ['bigram_20k', 'bigram_10k', 'bigram_5k', 'trigram_20k', 'trigram_10k', 'trigram_5k']\n",
    "\n",
    "# Init subplots : 2 rows for bigrams and trigrams, len(inferred_sources)//2 columns for the amount of data\n",
    "fig, axs = plt.subplots(2, len(inferred_sources)//2, sharex=True, sharey=True, constrained_layout=True)\n",
    "\n",
    "# Display for each i subplot the inferred probs of sources\n",
    "for i, probs in enumerate(inferred_sources):\n",
    "    probs_np = np.concatenate(probs.detach().cpu().numpy(), axis=0) # plt only work with np\n",
    "\n",
    "    print(f\"The {names[i]} model has {len(np.unique(probs_np))} unique probas\") # to check that almost all probas are unique\n",
    "\n",
    "    axs[int(i>=3), i%3].hist(probs_np)\n",
    "    axs[int(i>=3), i%3].set_title(names[i])\n",
    "\n",
    "fig.supxlabel(\"P(x) || Log-Probability of a pseudo-latin word x\")\n",
    "fig.supylabel(\"Count of P(x)\")\n",
    "fig.suptitle(\"Probabilities inferred from Bouchard's 3rd iteration samples\\n\")\n",
    "\n",
    "plt.figure(figsize=(30,10))\n",
    "plt.show()\n"
   ]
  }
 ],
 "metadata": {
  "kernelspec": {
   "display_name": "Python 3",
   "language": "python",
   "name": "python3"
  },
  "language_info": {
   "codemirror_mode": {
    "name": "ipython",
    "version": 3
   },
   "file_extension": ".py",
   "mimetype": "text/x-python",
   "name": "python",
   "nbconvert_exporter": "python",
   "pygments_lexer": "ipython3",
   "version": "3.9.10"
  },
  "orig_nbformat": 4
 },
 "nbformat": 4,
 "nbformat_minor": 2
}
