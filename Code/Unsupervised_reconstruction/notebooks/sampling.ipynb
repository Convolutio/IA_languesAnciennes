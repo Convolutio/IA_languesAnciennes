{
 "cells": [
  {
   "attachments": {},
   "cell_type": "markdown",
   "metadata": {},
   "source": [
    "# Sampling"
   ]
  },
  {
   "cell_type": "markdown",
   "metadata": {},
   "source": [
    "## Get Data"
   ]
  },
  {
   "cell_type": "code",
   "execution_count": null,
   "metadata": {},
   "outputs": [],
   "source": [
    "import torch\n",
    "from data.getDataset import getCognatesSet, getIteration\n",
    "from data.vocab import computeInferenceData, V_SIZE\n",
    "from torch.nn.utils.rnn import pad_sequence\n",
    "from Types.articleModels import ModernLanguages\n",
    "from Types.models import InferenceData\n",
    "from Source.reconstructionModel import ReconstructionModel\n",
    "\n",
    "device = 'cuda' if torch.cuda.is_available() else 'cpu'\n",
    "\n",
    "cognates:dict[ModernLanguages, InferenceData] = {lang:computeInferenceData(pad_sequence(cogSet, batch_first=True)) for (lang, cogSet) in getCognatesSet().items()}\n",
    "currentReconstructions = computeInferenceData(pad_sequence(getIteration(1), batch_first=True))\n",
    "\n",
    "voc_size = V_SIZE\n",
    "LSTM_INPUT_DIM = 50\n",
    "LSTM_HIDDEN_DIM = 50\n",
    "\n",
    "randomEditModel = ReconstructionModel(cognates, voc_size, LSTM_INPUT_DIM, LSTM_HIDDEN_DIM)\n",
    "\n",
    "x_maxLength = currentReconstructions[0].size()[0] - 2\n",
    "print('|x| max =', x_maxLength)"
   ]
  },
  {
   "cell_type": "markdown",
   "metadata": {},
   "source": [
    "False Language Model with neutral probability for test"
   ]
  },
  {
   "cell_type": "code",
   "execution_count": null,
   "metadata": {},
   "outputs": [],
   "source": [
    "from torch import Tensor\n",
    "from Types.models import InferenceData\n",
    "from lm.PriorLM import PriorLM\n",
    "from numpy import ndarray\n",
    "\n",
    "class LM(PriorLM):\n",
    "    def __init__(self):\n",
    "        pass\n",
    "    def inference(self, reconstructions: InferenceData) -> ndarray:\n",
    "        return torch.ones((len(reconstructions[1]),)).numpy()\n",
    "    \n",
    "lm = LM()"
   ]
  },
  {
   "cell_type": "markdown",
   "metadata": {},
   "source": [
    "## Generation"
   ]
  },
  {
   "cell_type": "code",
   "execution_count": null,
   "metadata": {},
   "outputs": [],
   "source": [
    "from Source.generateProposals import generateProposalsFromCurrentReconstructions\n",
    "from torch.nn.utils.rnn import unpad_sequence\n",
    "\n",
    "proposalsList = generateProposalsFromCurrentReconstructions(\n",
    "    unpad_sequence(currentReconstructions[0][1:], currentReconstructions[1]),\n",
    "    getCognatesSet()\n",
    ")\n",
    "torch.save(proposalsList, './Tests/proposalsSet.pt')"
   ]
  },
  {
   "cell_type": "code",
   "execution_count": null,
   "metadata": {},
   "outputs": [],
   "source": [
    "proposalsList = torch.load('./Tests/proposalsSet.pt')"
   ]
  },
  {
   "cell_type": "markdown",
   "metadata": {},
   "source": [
    "## Sampling from proposals"
   ]
  },
  {
   "cell_type": "code",
   "execution_count": null,
   "metadata": {},
   "outputs": [],
   "source": [
    "from Source.sampling import metropolisHasting\n",
    "\n",
    "samples = metropolisHasting(proposalsList, randomEditModel, lm)"
   ]
  }
 ],
 "metadata": {
  "kernelspec": {
   "display_name": "Python 3.9.10 (PyTorch)",
   "language": "python",
   "name": "notebook_torch_env"
  },
  "orig_nbformat": 4
 },
 "nbformat": 4,
 "nbformat_minor": 2
}
