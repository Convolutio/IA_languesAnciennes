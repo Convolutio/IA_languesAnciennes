{
  "nbformat": 4,
  "nbformat_minor": 0,
  "metadata": {
    "colab": {
      "provenance": []
    },
    "kernelspec": {
      "name": "python3",
      "display_name": "Python 3"
    },
    "language_info": {
      "name": "python"
    }
  },
  "cells": [
    {
      "cell_type": "markdown",
      "metadata": {
        "id": "view-in-github",
        "colab_type": "text"
      },
      "source": [
        "<a href=\"https://colab.research.google.com/github/PilorumNatum/IA_languesAnciennes/blob/code/Code/Unsupervised_reconstruction/ProtoFormRecontruction_Experiment.ipynb\" target=\"_parent\"><img src=\"https://colab.research.google.com/assets/colab-badge.svg\" alt=\"Open In Colab\"/></a>"
      ]
    },
    {
      "cell_type": "markdown",
      "source": [
        "# Approche neuronale non supervisée pour la reconstruction de proto-formes.\n",
        "\n",
        "Auteurs : Benjamin BADOUAILLE, Eliott CAMOU, Thomas HORRUT\n",
        "\n",
        "\n",
        "---\n",
        "\n",
        "\n",
        "*Ce notebook contient une tentative d'implémentation de l'intelligence artificielle décrite par un article de [Andre He et al.](https://arxiv.org/abs/2211.08684) pour prédire l'état phonétique de proto-forms associés à un ensemble de cognats. L'expérience est ici menée dans le cadre d'un projet de recherche scientifique de fin de cycle préparatoire, dont l'analyse des démarches employées et des résultats nourrira une réflexion plus globale sur le potentiel de l'IA pour résoudre des problèmes de Linguistique Historique.*"
      ],
      "metadata": {
        "id": "9N66w8WAeYxN"
      }
    },
    {
      "cell_type": "markdown",
      "source": [
        "### Installation des dépendances."
      ],
      "metadata": {
        "id": "L-jEdfIuJLps"
      }
    },
    {
      "cell_type": "code",
      "execution_count": null,
      "metadata": {
        "id": "WPy8SaWAeKqE",
        "colab": {
          "base_uri": "https://localhost:8080/"
        },
        "outputId": "79aa557b-86bd-454e-d014-f1736bf608fe"
      },
      "outputs": [
        {
          "output_type": "stream",
          "name": "stdout",
          "text": [
            "Looking in indexes: https://pypi.org/simple, https://us-python.pkg.dev/colab-wheels/public/simple/\n",
            "Requirement already satisfied: torch in /usr/local/lib/python3.9/dist-packages (1.13.1+cu116)\n",
            "Requirement already satisfied: typing-extensions in /usr/local/lib/python3.9/dist-packages (from torch) (4.5.0)\n"
          ]
        }
      ],
      "source": [
        "!pip3 install torch"
      ]
    },
    {
      "cell_type": "code",
      "source": [
        "import torch\n",
        "\n",
        "torch.rand(2,3)"
      ],
      "metadata": {
        "colab": {
          "base_uri": "https://localhost:8080/"
        },
        "id": "zduG9Ug6N4LG",
        "outputId": "34e4b7e7-ce0a-40ec-9a5e-8f5b6fcbe082"
      },
      "execution_count": null,
      "outputs": [
        {
          "output_type": "execute_result",
          "data": {
            "text/plain": [
              "tensor([[0.5993, 0.5377, 0.2959],\n",
              "        [0.8726, 0.2115, 0.4264]])"
            ]
          },
          "metadata": {},
          "execution_count": 4
        }
      ]
    },
    {
      "cell_type": "markdown",
      "source": [
        "# Définition des données associées au cadre de travail"
      ],
      "metadata": {
        "id": "-MvHc45wJY77"
      }
    },
    {
      "cell_type": "markdown",
      "source": [
        "\n",
        "\n",
        "*   $L$ est l'ensemble des langues romanes avec lesquelles nous travaillons.\n",
        "*   $\\Sigma$ est l'ensemble des caractères IPA composant les proto-mots et les cognats. La liste a été générée à partir du [site de l'IPA](https://www.internationalphoneticalphabet.org/ipa-charts/ipa-symbols-with-unicode-decimal-and-hex-codes/).\n",
        "*   La liste $C$ des ensembles de cognats. \n",
        "\n"
      ],
      "metadata": {
        "id": "XeoAJmIFJk8k"
      }
    },
    {
      "cell_type": "markdown",
      "source": [
        "## Initialisation de $L$"
      ],
      "metadata": {
        "id": "QUHWq-jup4Fr"
      }
    },
    {
      "cell_type": "code",
      "source": [
        "L = {\"French\", \"Italian\", \"Spanish\", \"Portuguese\"}"
      ],
      "metadata": {
        "id": "Ino7GcLlqFb5"
      },
      "execution_count": null,
      "outputs": []
    },
    {
      "cell_type": "markdown",
      "source": [
        "## Initialisation de $Σ$"
      ],
      "metadata": {
        "id": "ww6npXCfqHoZ"
      }
    },
    {
      "cell_type": "markdown",
      "source": [
        "À chaque réinstanciation de l'environnement d'exécution Google Colab, importer le fichier `IPA_characters.csv` situé sur le repo Github (dans le dossier `./Code/`; pour l'instant il n'est que dans la branche `code` du repo)."
      ],
      "metadata": {
        "id": "CODXVmjNsO_R"
      }
    },
    {
      "cell_type": "code",
      "source": [
        "from google.colab import files\n",
        "import csv\n",
        "\n",
        "EXPECTED_FILENAME = \"IPA_characters.csv\"\n",
        "EXPECTED_FIELD_NAMES = {\"symbol\", \"decimal\", \"hex\", \"value\", \"type\"}\n",
        "EXPECTED_IPA_CHARACTERS_NUMBER = 138\n",
        "\n",
        "\n",
        "#Check if the file has already been uploaded\n",
        "content = !ls /content\n",
        "file_already_exist = EXPECTED_FILENAME in content[0].split(' ')\n",
        "if not file_already_exist:\n",
        "  #If it has not, then an upload is requested\n",
        "  print(\"Veuillez déposer le fichier 'IPA_characters.csv':\")\n",
        "  uploaded = files.upload()\n",
        "  if \"IPA_characters.csv\" in uploaded:\n",
        "   raise Exception(\"Le fichier importé ne correspond au fichier attendu\")\n",
        "\n",
        "IPA_CHARACTERS:list[str] = []\n",
        "with open(EXPECTED_FILENAME, 'r', encoding='UTF32') as f:\n",
        "  reader = csv.DictReader(f)\n",
        "  if EXPECTED_FIELD_NAMES != set(reader.fieldnames):\n",
        "    raise Exception(\"Les entrées du fichier csv sont mal définies.\")\n",
        "  i = 0\n",
        "  for row in reader:\n",
        "    IPA_CHARACTERS.append(row['symbol'])\n",
        "    i+=1\n",
        "  if i!=EXPECTED_IPA_CHARACTERS_NUMBER:\n",
        "    raise Exception(\n",
        "        \"Le nombre de caractères IPA dans ce fichier est incorrect\")\n",
        "\n",
        "print('Liste des caractères IPA importée :')\n",
        "for i in range(len(IPA_CHARACTERS)):\n",
        "  print(f\"'{IPA_CHARACTERS[i]}'\", end=(' ', '\\n')[i%21==20])\n",
        "print()"
      ],
      "metadata": {
        "colab": {
          "base_uri": "https://localhost:8080/"
        },
        "id": "Sd5Bt-NOhBY7",
        "outputId": "037d6172-74cc-4474-9dc9-f4d001049347"
      },
      "execution_count": 64,
      "outputs": [
        {
          "output_type": "stream",
          "name": "stdout",
          "text": [
            "Liste des caractères IPA importée :\n",
            "'ɑ' 'ɐ' 'ɒ' 'æ' 'ɓ' 'ʙ' 'β' 'ɔ' 'ɕ' 'ç' 'ɗ' 'ɖ' 'ð' 'ʤ' 'ə' 'ɘ' 'ɚ' 'ɛ' 'ɜ' 'ɝ' 'ɞ'\n",
            "'ɟ' 'ʄ' 'ɡ' 'ɠ' 'ɢ' 'ʛ' 'ɦ' 'ɧ' 'ħ' 'ɥ' 'ʜ' 'ɨ' 'ɪ' 'ʝ' 'ɭ' 'ɬ' 'ɫ' 'ɮ' 'ʟ' 'ɱ' 'ɯ'\n",
            "'ɰ' 'ŋ' 'ɳ' 'ɲ' 'ɴ' 'ø' 'ɵ' 'ɸ' 'θ' 'œ' 'ɶ' 'ʘ' 'ɹ' 'ɺ' 'ɾ' 'ɻ' 'ʀ' 'ʁ' 'ɽ' 'ʂ' 'ʃ'\n",
            "'ʈ' 'ʧ' 'ʉ' 'ʊ' 'ʋ' 'ⱱ' 'ʌ' 'ɣ' 'ɤ' 'ʍ' 'χ' 'ʎ' 'ʏ' 'ʑ' 'ʐ' 'ʒ' 'ʔ' 'ʡ' 'ʕ' 'ʢ' 'ǀ'\n",
            "'ǁ' 'ǂ' 'ǃ' 'ˈ' 'ˌ' 'ː' 'ˑ' 'ʼ' 'ʴ' 'ʰ' 'ʱ' 'ʲ' 'ʷ' 'ˠ' 'ˤ' '˞' 'n̥ d̥' 'ŋ̊' 'b̤ a̤' 't̪ d̪' 's̬ t̬'\n",
            "'b̰ a̰' 't̺ d̺' 't̼ d̼' 't̻ d̻' 't̚' 'ɔ̹' 'ẽ' 'ɔ̜' 'u̟' 'e̠' 'ë' 'l̴ n̴' 'ɫ' 'e̽' 'e̝ ɹ̝' 'm̩ n̩ l' 'e̞ β̞' 'e̯' 'e̘' 'e̙' 'ĕ'\n",
            "'e̋' 'é' 'ē' 'è' 'ȅ' 'x͜' 'x͡' '↓' '↑' '→' '' '' \n"
          ]
        }
      ]
    }
  ]
}
