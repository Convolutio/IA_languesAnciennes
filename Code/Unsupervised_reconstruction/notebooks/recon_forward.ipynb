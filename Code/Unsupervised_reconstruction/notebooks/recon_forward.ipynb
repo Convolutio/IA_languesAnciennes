{
 "cells": [
  {
   "cell_type": "markdown",
   "metadata": {},
   "source": [
    "# Forward in EditModel"
   ]
  },
  {
   "cell_type": "code",
   "execution_count": 1,
   "metadata": {},
   "outputs": [],
   "source": [
    "from os import getcwd, chdir\n",
    "\n",
    "if getcwd().endswith('notebooks'):\n",
    "    chdir('..')"
   ]
  },
  {
   "cell_type": "code",
   "execution_count": 2,
   "metadata": {},
   "outputs": [],
   "source": [
    "from data.getDataset import getCognatesSet\n",
    "from data.datapipes import trainingDataPipe\n",
    "from data.vocab import wordsToOneHots\n",
    "from models.models import InferenceData\n",
    "from torchdata.datapipes.iter import IterableWrapper\n",
    "\n",
    "\n",
    "with open(f'./recons_data/iteration3_{str(1)}.txt', 'r', encoding='utf-8') as file:\n",
    "    iteration = IterableWrapper([[line[:-1]] for line in file.readlines()[:-1]]).map(wordsToOneHots)\n",
    "\n",
    "cognates = {}\n",
    "for modernLanguage in ('french', 'spanish', 'portuguese', 'romanian', 'italian'):\n",
    "    with open(f\"./recons_data/data/{modernLanguage.capitalize()}_ipa.txt\", \"r\", encoding=\"utf-8\") as file:\n",
    "        cognates[modernLanguage] = [line[1:-1] for line in file.readlines()[:-1]]\n",
    "cognates = IterableWrapper([{l:cognates[l][i] for l in cognates} for i in range(len(cognates['french']))])\n",
    "dp = trainingDataPipe(iteration, cognates, 5) #type: ignore\n",
    "dp = iter(dp)"
   ]
  },
  {
   "cell_type": "code",
   "execution_count": 3,
   "metadata": {},
   "outputs": [
    {
     "name": "stdout",
     "output_type": "stream",
     "text": [
      "torch.Size([13, 5, 1])\n",
      "torch.Size([5, 1])\n"
     ]
    }
   ],
   "source": [
    "inpt = next(dp)\n",
    "print(inpt[0][0].size())\n",
    "print(inpt[0][1].size())"
   ]
  },
  {
   "cell_type": "code",
   "execution_count": 4,
   "metadata": {},
   "outputs": [
    {
     "name": "stdout",
     "output_type": "stream",
     "text": [
      "taille du vocabulaire : 60\n",
      "nombre de caractères de l'IPA : 57\n",
      "59 57\n"
     ]
    }
   ],
   "source": [
    "from Source.reconstructionModel import ReconstructionModel\n",
    "from data.vocab import vocabulary, PADDING_TOKEN, EOS_TOKEN\n",
    "print(\"taille du vocabulaire :\", len(vocabulary))\n",
    "print(\"nombre de caractères de l'IPA :\", len(vocabulary)-3)\n",
    "print(vocabulary[PADDING_TOKEN], vocabulary[EOS_TOKEN])\n",
    "model = ReconstructionModel(['french'], vocabulary, 50, 100)"
   ]
  },
  {
   "cell_type": "code",
   "execution_count": 5,
   "metadata": {},
   "outputs": [
    {
     "name": "stdout",
     "output_type": "stream",
     "text": [
      "x\n",
      "(altɨʁar)----\n",
      "tensor([58,  0,  9, 16, 36, 41,  0, 14, 57, 59, 59, 59, 59], dtype=torch.int32)\n",
      "\n",
      "y\n",
      "(alteʁˈe------\n",
      "tensor([58,  0,  9, 16,  3, 41, 51,  3, 59, 59, 59, 59, 59, 59],\n",
      "       dtype=torch.int32)\n"
     ]
    }
   ],
   "source": [
    "from data.vocab import oneHotsToWords\n",
    "\n",
    "print(\"x\")\n",
    "print(oneHotsToWords(inpt[0][0].squeeze(-1))[1])\n",
    "print(inpt[0][0].squeeze(-1)[:,1])\n",
    "print(\"\\ny\")\n",
    "print(oneHotsToWords(inpt[1][\"french\"][0])[1])\n",
    "print(inpt[1][\"french\"][0][:,1])"
   ]
  },
  {
   "cell_type": "code",
   "execution_count": 6,
   "metadata": {},
   "outputs": [
    {
     "name": "stdout",
     "output_type": "stream",
     "text": [
      "torch.Size([12, 14, 5, 1, 2]) torch.Size([12, 14, 5, 1, 2])\n"
     ]
    }
   ],
   "source": [
    "rep = model.infer(*inpt)\n",
    "print(rep[0].size(), rep[1].size())"
   ]
  },
  {
   "cell_type": "code",
   "execution_count": 9,
   "metadata": {},
   "outputs": [
    {
     "name": "stdout",
     "output_type": "stream",
     "text": [
      "tensor([[-3.7849, -4.2557, -3.9709, -4.1836, -4.0240, -4.0060, -4.0912,  0.0000],\n",
      "        [-3.6969, -4.1889, -3.9078, -4.1734, -4.0366, -3.9087, -4.0807,  0.0000],\n",
      "        [-3.8137, -4.1876, -3.9605, -4.2160, -4.0595, -4.0059, -4.1231,  0.0000],\n",
      "        [-3.8136, -4.2289, -4.1281, -4.2282, -4.1282, -3.9280, -4.1357,  0.0000],\n",
      "        [-3.7102, -4.2674, -4.0330, -4.0076, -4.2235, -3.8869, -3.9149,  0.0000],\n",
      "        [-3.6319, -4.2581, -3.9692, -4.0574, -4.1379, -3.9190, -3.9654,  0.0000],\n",
      "        [-3.7036, -4.1773, -3.9079, -4.0800, -4.1304, -3.9337, -3.9879,  0.0000],\n",
      "        [-3.8137, -4.1863, -4.0731, -4.0555, -4.1502, -4.0541, -3.9640,  0.0000],\n",
      "        [ 0.0000,  0.0000,  0.0000,  0.0000,  0.0000,  0.0000,  0.0000,  0.0000],\n",
      "        [ 0.0000,  0.0000,  0.0000,  0.0000,  0.0000,  0.0000,  0.0000,  0.0000],\n",
      "        [ 0.0000,  0.0000,  0.0000,  0.0000,  0.0000,  0.0000,  0.0000,  0.0000],\n",
      "        [ 0.0000,  0.0000,  0.0000,  0.0000,  0.0000,  0.0000,  0.0000,  0.0000]],\n",
      "       grad_fn=<SelectBackward0>)\n",
      "tensor([[-4.1722, -4.1395, -4.1225, -4.1586, -4.2652, -4.2424, -4.2009, -4.2967],\n",
      "        [-4.2193, -4.1859, -4.1682, -4.2045, -4.3104, -4.2885, -4.2465, -4.3422],\n",
      "        [-4.1449, -4.1112, -4.0943, -4.1306, -4.2361, -4.2148, -4.1723, -4.2676],\n",
      "        [-4.1323, -4.0982, -4.0807, -4.1169, -4.2221, -4.2022, -4.1591, -4.2536],\n",
      "        [-4.1720, -4.1391, -4.1214, -4.1583, -4.2638, -4.2424, -4.2003, -4.2950],\n",
      "        [-4.2404, -4.2072, -4.1892, -4.2256, -4.3321, -4.3092, -4.2684, -4.3639],\n",
      "        [-4.1364, -4.1036, -4.0857, -4.1217, -4.2282, -4.2061, -4.1643, -4.2600],\n",
      "        [-4.0277, -3.9945, -3.9767, -4.0133, -4.1189, -4.0988, -4.0564, -4.1505],\n",
      "        [ 0.0000,  0.0000,  0.0000,  0.0000,  0.0000,  0.0000,  0.0000,  0.0000],\n",
      "        [ 0.0000,  0.0000,  0.0000,  0.0000,  0.0000,  0.0000,  0.0000,  0.0000],\n",
      "        [ 0.0000,  0.0000,  0.0000,  0.0000,  0.0000,  0.0000,  0.0000,  0.0000],\n",
      "        [ 0.0000,  0.0000,  0.0000,  0.0000,  0.0000,  0.0000,  0.0000,  0.0000]],\n",
      "       grad_fn=<SelectBackward0>)\n"
     ]
    }
   ],
   "source": [
    "print(rep[0][:, :-6, 1, 0, 0])\n",
    "print(rep[0][:, :-6, 1, 0, 1])"
   ]
  }
 ],
 "metadata": {
  "kernelspec": {
   "display_name": "Python 3",
   "language": "python",
   "name": "python3"
  },
  "language_info": {
   "codemirror_mode": {
    "name": "ipython",
    "version": 3
   },
   "file_extension": ".py",
   "mimetype": "text/x-python",
   "name": "python",
   "nbconvert_exporter": "python",
   "pygments_lexer": "ipython3",
   "version": "3.9.10"
  },
  "orig_nbformat": 4
 },
 "nbformat": 4,
 "nbformat_minor": 2
}
